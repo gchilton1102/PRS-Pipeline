{
 "cells": [
  {
   "cell_type": "code",
   "execution_count": 1,
   "metadata": {
    "code_folding": []
   },
   "outputs": [],
   "source": [
    "#Used Recommended \"General Analysis\" environment to run\n",
    "#4 CPU 15GB RAM, 120GB Disk\n",
    "import os\n",
    "import subprocess\n",
    "import numpy as np\n",
    "import pandas as pd\n",
    "from datetime import datetime\n",
    "start = datetime.now()\n",
    "#ran in bkgd "
   ]
  },
  {
   "cell_type": "code",
   "execution_count": 58,
   "metadata": {},
   "outputs": [],
   "source": [
    "#first, copy PRSCSx output (weights) from bucket to workspace"
   ]
  },
  {
   "cell_type": "code",
   "execution_count": 72,
   "metadata": {},
   "outputs": [
    {
     "name": "stderr",
     "output_type": "stream",
     "text": [
      "mkdir: cannot create directory ‘PRScsx_Standing_Height_output’: File exists\n",
      "Copying gs://fc-secure-0b5d7336-c242-426a-8854-548d4ed254d8/data/PRScsx_Standing_Height_output/Standing_height_SAS_pst_eff_a1_b0.5_phi1e-04_chr1.txt...\n",
      "Copying gs://fc-secure-0b5d7336-c242-426a-8854-548d4ed254d8/data/PRScsx_Standing_Height_output/Standing_height_SAS_pst_eff_a1_b0.5_phi1e-04_chr10.txt...\n",
      "Copying gs://fc-secure-0b5d7336-c242-426a-8854-548d4ed254d8/data/PRScsx_Standing_Height_output/Standing_height_SAS_pst_eff_a1_b0.5_phi1e-04_chr11.txt...\n",
      "Copying gs://fc-secure-0b5d7336-c242-426a-8854-548d4ed254d8/data/PRScsx_Standing_Height_output/Standing_height_SAS_pst_eff_a1_b0.5_phi1e-04_chr12.txt...\n",
      "/ [4 files][  8.6 MiB/  8.6 MiB]                                                \n",
      "==> NOTE: You are performing a sequence of gsutil operations that may\n",
      "run significantly faster if you instead use gsutil -m cp ... Please\n",
      "see the -m section under \"gsutil help options\" for further information\n",
      "about when gsutil -m can be advantageous.\n",
      "\n",
      "Copying gs://fc-secure-0b5d7336-c242-426a-8854-548d4ed254d8/data/PRScsx_Standing_Height_output/Standing_height_SAS_pst_eff_a1_b0.5_phi1e-04_chr13.txt...\n",
      "Copying gs://fc-secure-0b5d7336-c242-426a-8854-548d4ed254d8/data/PRScsx_Standing_Height_output/Standing_height_SAS_pst_eff_a1_b0.5_phi1e-04_chr14.txt...\n",
      "Copying gs://fc-secure-0b5d7336-c242-426a-8854-548d4ed254d8/data/PRScsx_Standing_Height_output/Standing_height_SAS_pst_eff_a1_b0.5_phi1e-04_chr15.txt...\n",
      "Copying gs://fc-secure-0b5d7336-c242-426a-8854-548d4ed254d8/data/PRScsx_Standing_Height_output/Standing_height_SAS_pst_eff_a1_b0.5_phi1e-04_chr16.txt...\n",
      "Copying gs://fc-secure-0b5d7336-c242-426a-8854-548d4ed254d8/data/PRScsx_Standing_Height_output/Standing_height_SAS_pst_eff_a1_b0.5_phi1e-04_chr17.txt...\n",
      "Copying gs://fc-secure-0b5d7336-c242-426a-8854-548d4ed254d8/data/PRScsx_Standing_Height_output/Standing_height_SAS_pst_eff_a1_b0.5_phi1e-04_chr18.txt...\n",
      "Copying gs://fc-secure-0b5d7336-c242-426a-8854-548d4ed254d8/data/PRScsx_Standing_Height_output/Standing_height_SAS_pst_eff_a1_b0.5_phi1e-04_chr19.txt...\n",
      "Copying gs://fc-secure-0b5d7336-c242-426a-8854-548d4ed254d8/data/PRScsx_Standing_Height_output/Standing_height_SAS_pst_eff_a1_b0.5_phi1e-04_chr2.txt...\n",
      "Copying gs://fc-secure-0b5d7336-c242-426a-8854-548d4ed254d8/data/PRScsx_Standing_Height_output/Standing_height_SAS_pst_eff_a1_b0.5_phi1e-04_chr20.txt...\n",
      "Copying gs://fc-secure-0b5d7336-c242-426a-8854-548d4ed254d8/data/PRScsx_Standing_Height_output/Standing_height_SAS_pst_eff_a1_b0.5_phi1e-04_chr21.txt...\n",
      "Copying gs://fc-secure-0b5d7336-c242-426a-8854-548d4ed254d8/data/PRScsx_Standing_Height_output/Standing_height_SAS_pst_eff_a1_b0.5_phi1e-04_chr22.txt...\n",
      "Copying gs://fc-secure-0b5d7336-c242-426a-8854-548d4ed254d8/data/PRScsx_Standing_Height_output/Standing_height_SAS_pst_eff_a1_b0.5_phi1e-04_chr3.txt...\n",
      "Copying gs://fc-secure-0b5d7336-c242-426a-8854-548d4ed254d8/data/PRScsx_Standing_Height_output/Standing_height_SAS_pst_eff_a1_b0.5_phi1e-04_chr4.txt...\n",
      "Copying gs://fc-secure-0b5d7336-c242-426a-8854-548d4ed254d8/data/PRScsx_Standing_Height_output/Standing_height_SAS_pst_eff_a1_b0.5_phi1e-04_chr5.txt...\n",
      "Copying gs://fc-secure-0b5d7336-c242-426a-8854-548d4ed254d8/data/PRScsx_Standing_Height_output/Standing_height_SAS_pst_eff_a1_b0.5_phi1e-04_chr6.txt...\n",
      "Copying gs://fc-secure-0b5d7336-c242-426a-8854-548d4ed254d8/data/PRScsx_Standing_Height_output/Standing_height_SAS_pst_eff_a1_b0.5_phi1e-04_chr7.txt...\n",
      "Copying gs://fc-secure-0b5d7336-c242-426a-8854-548d4ed254d8/data/PRScsx_Standing_Height_output/Standing_height_SAS_pst_eff_a1_b0.5_phi1e-04_chr8.txt...\n",
      "Copying gs://fc-secure-0b5d7336-c242-426a-8854-548d4ed254d8/data/PRScsx_Standing_Height_output/Standing_height_SAS_pst_eff_a1_b0.5_phi1e-04_chr9.txt...\n",
      "/ [22 files][ 35.5 MiB/ 35.5 MiB]                                               \n",
      "Operation completed over 22 objects/35.5 MiB.                                    \n"
     ]
    },
    {
     "data": {
      "text/plain": [
       "0"
      ]
     },
     "execution_count": 72,
     "metadata": {},
     "output_type": "execute_result"
    }
   ],
   "source": [
    "name_of_files_in_bucket = 'PRScsx_Standing_Height_output/'\n",
    "\n",
    "os.system(\"mkdir PRScsx_Standing_Height_output\")\n",
    "# get the bucket name\n",
    "my_bucket = os.getenv('WORKSPACE_BUCKET')\n",
    "\n",
    "os.system(f\"gsutil cp -r '{my_bucket}/data/{name_of_files_in_bucket}' ./PRScsx_Standing_Height_output/\")\n",
    "\n",
    "#print(f'[INFO] {name_of_dir_in_bucket} is successfully downloaded into your working space')"
   ]
  },
  {
   "cell_type": "code",
   "execution_count": 75,
   "metadata": {},
   "outputs": [
    {
     "name": "stderr",
     "output_type": "stream",
     "text": [
      "mkdir: cannot create directory ‘plink’: File exists\n",
      "mkdir: cannot create directory ‘scores’: File exists\n",
      "Copying gs://fc-secure-09b7d164-67b2-4c94-8381-4b8202619ea8/data/plink/prscsx_acaf_threshold.chr1.psam...\n",
      "Copying gs://fc-secure-09b7d164-67b2-4c94-8381-4b8202619ea8/data/plink/prscsx_acaf_threshold.chr1.pgen...\n",
      "Copying gs://fc-secure-09b7d164-67b2-4c94-8381-4b8202619ea8/data/plink/prscsx_acaf_threshold.chr1.pvar...\n",
      "\\ [3/3 files][  3.2 GiB/  3.2 GiB] 100% Done  33.6 MiB/s ETA 00:00:00           \n",
      "Operation completed over 3 objects/3.2 GiB.                                      \n"
     ]
    },
    {
     "name": "stdout",
     "output_type": "stream",
     "text": [
      "PLINK v2.00a6LM 64-bit Intel (16 May 2024)     www.cog-genomics.org/plink/2.0/\n",
      "(C) 2005-2024 Shaun Purcell, Christopher Chang   GNU General Public License v3\n",
      "Logging to scores/Standing_height_AFR_pst_eff_a1_b0.5_phi1e-04_chr1.log.\n",
      "Options in effect:\n",
      "  --out scores/Standing_height_AFR_pst_eff_a1_b0.5_phi1e-04_chr1\n",
      "  --pfile plink/prscsx_acaf_threshold.chr1\n",
      "  --score PRScsx_Standing_Height_output/Standing_height_AFR_pst_eff_a1_b0.5_phi1e-04_chr1.txt 2 4 6 variance-standardize list-variants\n",
      "\n",
      "Start time: Thu Jun 13 15:56:00 2024\n",
      "14998 MiB RAM detected, ~13489 available; reserving 7499 MiB for main\n",
      "workspace.\n",
      "Using up to 4 compute threads.\n",
      "245394 samples (0 females, 0 males, 245394 ambiguous; 245394 founders) loaded\n",
      "from plink/prscsx_acaf_threshold.chr1.psam.\n",
      "88986 variants loaded from plink/prscsx_acaf_threshold.chr1.pvar.\n",
      "Note: No phenotype data present.\n",
      "Calculating allele frequencies... 3673done.\n"
     ]
    },
    {
     "name": "stderr",
     "output_type": "stream",
     "text": [
      "Warning: --score: 6 entries in\n",
      "PRScsx_Standing_Height_output/Standing_height_AFR_pst_eff_a1_b0.5_phi1e-04_chr1.txt\n",
      "were skipped due to missing variant IDs.\n"
     ]
    },
    {
     "name": "stdout",
     "output_type": "stream",
     "text": [
      "--score: 85049 variants processed.\n",
      "--score: Variant list written to scores/Standing_height_AFR_pst_eff_a1_b0.5_phi1e-04_chr1.sscore.vars .\n",
      "--score: Results written to\n",
      "scores/Standing_height_AFR_pst_eff_a1_b0.5_phi1e-04_chr1.sscore .\n",
      "End time: Thu Jun 13 15:56:39 2024\n",
      "PLINK v2.00a6LM 64-bit Intel (16 May 2024)     www.cog-genomics.org/plink/2.0/\n",
      "(C) 2005-2024 Shaun Purcell, Christopher Chang   GNU General Public License v3\n",
      "Logging to scores/Standing_height_AMR_pst_eff_a1_b0.5_phi1e-04_chr1.log.\n",
      "Options in effect:\n",
      "  --out scores/Standing_height_AMR_pst_eff_a1_b0.5_phi1e-04_chr1\n",
      "  --pfile plink/prscsx_acaf_threshold.chr1\n",
      "  --score PRScsx_Standing_Height_output/Standing_height_AMR_pst_eff_a1_b0.5_phi1e-04_chr1.txt 2 4 6 variance-standardize list-variants\n",
      "\n",
      "Start time: Thu Jun 13 15:56:39 2024\n",
      "14998 MiB RAM detected, ~13501 available; reserving 7499 MiB for main\n",
      "workspace.\n",
      "Using up to 4 compute threads.\n",
      "245394 samples (0 females, 0 males, 245394 ambiguous; 245394 founders) loaded\n",
      "from plink/prscsx_acaf_threshold.chr1.psam.\n",
      "88986 variants loaded from plink/prscsx_acaf_threshold.chr1.pvar.\n",
      "Note: No phenotype data present.\n",
      "Calculating allele frequencies... 3673done.\n"
     ]
    },
    {
     "name": "stderr",
     "output_type": "stream",
     "text": [
      "Warning: --score: 6 entries in\n",
      "PRScsx_Standing_Height_output/Standing_height_AMR_pst_eff_a1_b0.5_phi1e-04_chr1.txt\n",
      "were skipped due to missing variant IDs.\n"
     ]
    },
    {
     "name": "stdout",
     "output_type": "stream",
     "text": [
      "--score: 82898 variants processed.\n",
      "--score: Variant list written to scores/Standing_height_AMR_pst_eff_a1_b0.5_phi1e-04_chr1.sscore.vars .\n",
      "--score: Results written to\n",
      "scores/Standing_height_AMR_pst_eff_a1_b0.5_phi1e-04_chr1.sscore .\n",
      "End time: Thu Jun 13 15:57:17 2024\n",
      "PLINK v2.00a6LM 64-bit Intel (16 May 2024)     www.cog-genomics.org/plink/2.0/\n",
      "(C) 2005-2024 Shaun Purcell, Christopher Chang   GNU General Public License v3\n",
      "Logging to scores/Standing_height_EAS_pst_eff_a1_b0.5_phi1e-04_chr1.log.\n",
      "Options in effect:\n",
      "  --out scores/Standing_height_EAS_pst_eff_a1_b0.5_phi1e-04_chr1\n",
      "  --pfile plink/prscsx_acaf_threshold.chr1\n",
      "  --score PRScsx_Standing_Height_output/Standing_height_EAS_pst_eff_a1_b0.5_phi1e-04_chr1.txt 2 4 6 variance-standardize list-variants\n",
      "\n",
      "Start time: Thu Jun 13 15:57:17 2024\n",
      "14998 MiB RAM detected, ~13495 available; reserving 7499 MiB for main\n",
      "workspace.\n",
      "Using up to 4 compute threads.\n",
      "245394 samples (0 females, 0 males, 245394 ambiguous; 245394 founders) loaded\n",
      "from plink/prscsx_acaf_threshold.chr1.psam.\n",
      "88986 variants loaded from plink/prscsx_acaf_threshold.chr1.pvar.\n",
      "Note: No phenotype data present.\n",
      "Calculating allele frequencies... 3673done.\n"
     ]
    },
    {
     "name": "stderr",
     "output_type": "stream",
     "text": [
      "Warning: --score: 5 entries in\n",
      "PRScsx_Standing_Height_output/Standing_height_EAS_pst_eff_a1_b0.5_phi1e-04_chr1.txt\n",
      "were skipped due to missing variant IDs.\n"
     ]
    },
    {
     "name": "stdout",
     "output_type": "stream",
     "text": [
      "--score: 70882 variants processed.\n",
      "--score: Variant list written to scores/Standing_height_EAS_pst_eff_a1_b0.5_phi1e-04_chr1.sscore.vars .\n",
      "--score: Results written to\n",
      "scores/Standing_height_EAS_pst_eff_a1_b0.5_phi1e-04_chr1.sscore .\n",
      "End time: Thu Jun 13 15:57:51 2024\n",
      "PLINK v2.00a6LM 64-bit Intel (16 May 2024)     www.cog-genomics.org/plink/2.0/\n",
      "(C) 2005-2024 Shaun Purcell, Christopher Chang   GNU General Public License v3\n",
      "Logging to scores/Standing_height_EUR_pst_eff_a1_b0.5_phi1e-04_chr1.log.\n",
      "Options in effect:\n",
      "  --out scores/Standing_height_EUR_pst_eff_a1_b0.5_phi1e-04_chr1\n",
      "  --pfile plink/prscsx_acaf_threshold.chr1\n",
      "  --score PRScsx_Standing_Height_output/Standing_height_EUR_pst_eff_a1_b0.5_phi1e-04_chr1.txt 2 4 6 variance-standardize list-variants\n",
      "\n",
      "Start time: Thu Jun 13 15:57:51 2024\n",
      "14998 MiB RAM detected, ~13503 available; reserving 7499 MiB for main\n",
      "workspace.\n",
      "Using up to 4 compute threads.\n",
      "245394 samples (0 females, 0 males, 245394 ambiguous; 245394 founders) loaded\n",
      "from plink/prscsx_acaf_threshold.chr1.psam.\n",
      "88986 variants loaded from plink/prscsx_acaf_threshold.chr1.pvar.\n",
      "Note: No phenotype data present.\n",
      "Calculating allele frequencies... 3673done.\n"
     ]
    },
    {
     "name": "stderr",
     "output_type": "stream",
     "text": [
      "Warning: --score: 5 entries in\n",
      "PRScsx_Standing_Height_output/Standing_height_EUR_pst_eff_a1_b0.5_phi1e-04_chr1.txt\n",
      "were skipped due to missing variant IDs.\n"
     ]
    },
    {
     "name": "stdout",
     "output_type": "stream",
     "text": [
      "--score: 76434 variants processed.\n",
      "--score: Variant list written to scores/Standing_height_EUR_pst_eff_a1_b0.5_phi1e-04_chr1.sscore.vars .\n",
      "--score: Results written to\n",
      "scores/Standing_height_EUR_pst_eff_a1_b0.5_phi1e-04_chr1.sscore .\n",
      "End time: Thu Jun 13 15:58:27 2024\n",
      "PLINK v2.00a6LM 64-bit Intel (16 May 2024)     www.cog-genomics.org/plink/2.0/\n",
      "(C) 2005-2024 Shaun Purcell, Christopher Chang   GNU General Public License v3\n",
      "Logging to scores/Standing_height_SAS_pst_eff_a1_b0.5_phi1e-04_chr1.log.\n",
      "Options in effect:\n",
      "  --out scores/Standing_height_SAS_pst_eff_a1_b0.5_phi1e-04_chr1\n",
      "  --pfile plink/prscsx_acaf_threshold.chr1\n",
      "  --score PRScsx_Standing_Height_output/Standing_height_SAS_pst_eff_a1_b0.5_phi1e-04_chr1.txt 2 4 6 variance-standardize list-variants\n",
      "\n",
      "Start time: Thu Jun 13 15:58:27 2024\n",
      "14998 MiB RAM detected, ~13494 available; reserving 7499 MiB for main\n",
      "workspace.\n",
      "Using up to 4 compute threads.\n",
      "245394 samples (0 females, 0 males, 245394 ambiguous; 245394 founders) loaded\n",
      "from plink/prscsx_acaf_threshold.chr1.psam.\n",
      "88986 variants loaded from plink/prscsx_acaf_threshold.chr1.pvar.\n",
      "Note: No phenotype data present.\n",
      "Calculating allele frequencies... 3673done.\n"
     ]
    },
    {
     "name": "stderr",
     "output_type": "stream",
     "text": [
      "Warning: --score: 5 entries in\n",
      "PRScsx_Standing_Height_output/Standing_height_SAS_pst_eff_a1_b0.5_phi1e-04_chr1.txt\n",
      "were skipped due to missing variant IDs.\n"
     ]
    },
    {
     "name": "stdout",
     "output_type": "stream",
     "text": [
      "--score: 77434 variants processed.\n",
      "--score: Variant list written to scores/Standing_height_SAS_pst_eff_a1_b0.5_phi1e-04_chr1.sscore.vars .\n",
      "--score: Results written to\n",
      "scores/Standing_height_SAS_pst_eff_a1_b0.5_phi1e-04_chr1.sscore .\n",
      "End time: Thu Jun 13 15:59:03 2024\n"
     ]
    },
    {
     "name": "stderr",
     "output_type": "stream",
     "text": [
      "Copying gs://fc-secure-09b7d164-67b2-4c94-8381-4b8202619ea8/data/plink/prscsx_acaf_threshold.chr2.pgen...\n",
      "Copying gs://fc-secure-09b7d164-67b2-4c94-8381-4b8202619ea8/data/plink/prscsx_acaf_threshold.chr2.psam...\n",
      "Copying gs://fc-secure-09b7d164-67b2-4c94-8381-4b8202619ea8/data/plink/prscsx_acaf_threshold.chr2.pvar...\n",
      "Resuming download for plink/prscsx_acaf_threshold.chr2.pgen component 0         \n",
      "Resuming download for plink/prscsx_acaf_threshold.chr2.pgen component 1\n",
      "Resuming download for plink/prscsx_acaf_threshold.chr2.pgen component 3\n",
      "Resuming download for plink/prscsx_acaf_threshold.chr2.pgen component 2\n",
      "\\ [3/3 files][  3.4 GiB/  3.4 GiB] 100% Done  31.7 MiB/s ETA 00:00:00           \n",
      "Operation completed over 3 objects/3.4 GiB.                                      \n"
     ]
    },
    {
     "name": "stdout",
     "output_type": "stream",
     "text": [
      "PLINK v2.00a6LM 64-bit Intel (16 May 2024)     www.cog-genomics.org/plink/2.0/\n",
      "(C) 2005-2024 Shaun Purcell, Christopher Chang   GNU General Public License v3\n",
      "Logging to scores/Standing_height_AFR_pst_eff_a1_b0.5_phi1e-04_chr2.log.\n",
      "Options in effect:\n",
      "  --out scores/Standing_height_AFR_pst_eff_a1_b0.5_phi1e-04_chr2\n",
      "  --pfile plink/prscsx_acaf_threshold.chr2\n",
      "  --score PRScsx_Standing_Height_output/Standing_height_AFR_pst_eff_a1_b0.5_phi1e-04_chr2.txt 2 4 6 variance-standardize list-variants\n",
      "\n",
      "Start time: Thu Jun 13 16:00:44 2024\n",
      "14998 MiB RAM detected, ~13476 available; reserving 7499 MiB for main\n",
      "workspace.\n",
      "Using up to 4 compute threads.\n",
      "245394 samples (0 females, 0 males, 245394 ambiguous; 245394 founders) loaded\n",
      "from plink/prscsx_acaf_threshold.chr2.psam.\n",
      "90465 variants loaded from plink/prscsx_acaf_threshold.chr2.pvar.\n",
      "Note: No phenotype data present.\n",
      "Calculating allele frequencies... 3672done.\n"
     ]
    },
    {
     "name": "stderr",
     "output_type": "stream",
     "text": [
      "Warning: --score: 4 entries in\n",
      "PRScsx_Standing_Height_output/Standing_height_AFR_pst_eff_a1_b0.5_phi1e-04_chr2.txt\n",
      "were skipped due to missing variant IDs.\n"
     ]
    },
    {
     "name": "stdout",
     "output_type": "stream",
     "text": [
      "--score: 87268 variants processed.\n",
      "--score: Variant list written to scores/Standing_height_AFR_pst_eff_a1_b0.5_phi1e-04_chr2.sscore.vars .\n",
      "--score: Results written to\n",
      "scores/Standing_height_AFR_pst_eff_a1_b0.5_phi1e-04_chr2.sscore .\n",
      "End time: Thu Jun 13 16:01:23 2024\n",
      "PLINK v2.00a6LM 64-bit Intel (16 May 2024)     www.cog-genomics.org/plink/2.0/\n",
      "(C) 2005-2024 Shaun Purcell, Christopher Chang   GNU General Public License v3\n",
      "Logging to scores/Standing_height_AMR_pst_eff_a1_b0.5_phi1e-04_chr2.log.\n",
      "Options in effect:\n",
      "  --out scores/Standing_height_AMR_pst_eff_a1_b0.5_phi1e-04_chr2\n",
      "  --pfile plink/prscsx_acaf_threshold.chr2\n",
      "  --score PRScsx_Standing_Height_output/Standing_height_AMR_pst_eff_a1_b0.5_phi1e-04_chr2.txt 2 4 6 variance-standardize list-variants\n",
      "\n",
      "Start time: Thu Jun 13 16:01:23 2024\n",
      "14998 MiB RAM detected, ~13495 available; reserving 7499 MiB for main\n",
      "workspace.\n",
      "Using up to 4 compute threads.\n",
      "245394 samples (0 females, 0 males, 245394 ambiguous; 245394 founders) loaded\n",
      "from plink/prscsx_acaf_threshold.chr2.psam.\n",
      "90465 variants loaded from plink/prscsx_acaf_threshold.chr2.pvar.\n",
      "Note: No phenotype data present.\n",
      "Calculating allele frequencies... 3672done.\n"
     ]
    },
    {
     "name": "stderr",
     "output_type": "stream",
     "text": [
      "Warning: --score: 7 entries in\n",
      "PRScsx_Standing_Height_output/Standing_height_AMR_pst_eff_a1_b0.5_phi1e-04_chr2.txt\n",
      "were skipped due to missing variant IDs.\n"
     ]
    },
    {
     "name": "stdout",
     "output_type": "stream",
     "text": [
      "--score: 84365 variants processed.\n",
      "--score: Variant list written to scores/Standing_height_AMR_pst_eff_a1_b0.5_phi1e-04_chr2.sscore.vars .\n",
      "--score: Results written to\n",
      "scores/Standing_height_AMR_pst_eff_a1_b0.5_phi1e-04_chr2.sscore .\n",
      "End time: Thu Jun 13 16:02:03 2024\n",
      "PLINK v2.00a6LM 64-bit Intel (16 May 2024)     www.cog-genomics.org/plink/2.0/\n",
      "(C) 2005-2024 Shaun Purcell, Christopher Chang   GNU General Public License v3\n",
      "Logging to scores/Standing_height_EAS_pst_eff_a1_b0.5_phi1e-04_chr2.log.\n",
      "Options in effect:\n",
      "  --out scores/Standing_height_EAS_pst_eff_a1_b0.5_phi1e-04_chr2\n",
      "  --pfile plink/prscsx_acaf_threshold.chr2\n",
      "  --score PRScsx_Standing_Height_output/Standing_height_EAS_pst_eff_a1_b0.5_phi1e-04_chr2.txt 2 4 6 variance-standardize list-variants\n",
      "\n",
      "Start time: Thu Jun 13 16:02:03 2024\n",
      "14998 MiB RAM detected, ~13502 available; reserving 7499 MiB for main\n",
      "workspace.\n",
      "Using up to 4 compute threads.\n",
      "245394 samples (0 females, 0 males, 245394 ambiguous; 245394 founders) loaded\n",
      "from plink/prscsx_acaf_threshold.chr2.psam.\n",
      "90465 variants loaded from plink/prscsx_acaf_threshold.chr2.pvar.\n",
      "Note: No phenotype data present.\n",
      "Calculating allele frequencies... 3672done.\n"
     ]
    },
    {
     "name": "stderr",
     "output_type": "stream",
     "text": [
      "Warning: --score: 4 entries in\n",
      "PRScsx_Standing_Height_output/Standing_height_EAS_pst_eff_a1_b0.5_phi1e-04_chr2.txt\n",
      "were skipped due to missing variant IDs.\n"
     ]
    },
    {
     "name": "stdout",
     "output_type": "stream",
     "text": [
      "--score: 72292 variants processed.\n",
      "--score: Variant list written to scores/Standing_height_EAS_pst_eff_a1_b0.5_phi1e-04_chr2.sscore.vars .\n",
      "--score: Results written to\n",
      "scores/Standing_height_EAS_pst_eff_a1_b0.5_phi1e-04_chr2.sscore .\n",
      "End time: Thu Jun 13 16:02:38 2024\n",
      "PLINK v2.00a6LM 64-bit Intel (16 May 2024)     www.cog-genomics.org/plink/2.0/\n",
      "(C) 2005-2024 Shaun Purcell, Christopher Chang   GNU General Public License v3\n",
      "Logging to scores/Standing_height_EUR_pst_eff_a1_b0.5_phi1e-04_chr2.log.\n",
      "Options in effect:\n",
      "  --out scores/Standing_height_EUR_pst_eff_a1_b0.5_phi1e-04_chr2\n",
      "  --pfile plink/prscsx_acaf_threshold.chr2\n",
      "  --score PRScsx_Standing_Height_output/Standing_height_EUR_pst_eff_a1_b0.5_phi1e-04_chr2.txt 2 4 6 variance-standardize list-variants\n",
      "\n",
      "Start time: Thu Jun 13 16:02:38 2024\n",
      "14998 MiB RAM detected, ~13497 available; reserving 7499 MiB for main\n",
      "workspace.\n",
      "Using up to 4 compute threads.\n",
      "245394 samples (0 females, 0 males, 245394 ambiguous; 245394 founders) loaded\n",
      "from plink/prscsx_acaf_threshold.chr2.psam.\n",
      "90465 variants loaded from plink/prscsx_acaf_threshold.chr2.pvar.\n",
      "Note: No phenotype data present.\n",
      "Calculating allele frequencies... 3672done.\n"
     ]
    },
    {
     "name": "stderr",
     "output_type": "stream",
     "text": [
      "Warning: --score: 7 entries in\n",
      "PRScsx_Standing_Height_output/Standing_height_EUR_pst_eff_a1_b0.5_phi1e-04_chr2.txt\n",
      "were skipped due to missing variant IDs.\n"
     ]
    },
    {
     "name": "stdout",
     "output_type": "stream",
     "text": [
      "--score: 78759 variants processed.\n",
      "--score: Variant list written to scores/Standing_height_EUR_pst_eff_a1_b0.5_phi1e-04_chr2.sscore.vars .\n",
      "--score: Results written to\n",
      "scores/Standing_height_EUR_pst_eff_a1_b0.5_phi1e-04_chr2.sscore .\n",
      "End time: Thu Jun 13 16:03:15 2024\n",
      "PLINK v2.00a6LM 64-bit Intel (16 May 2024)     www.cog-genomics.org/plink/2.0/\n",
      "(C) 2005-2024 Shaun Purcell, Christopher Chang   GNU General Public License v3\n",
      "Logging to scores/Standing_height_SAS_pst_eff_a1_b0.5_phi1e-04_chr2.log.\n",
      "Options in effect:\n",
      "  --out scores/Standing_height_SAS_pst_eff_a1_b0.5_phi1e-04_chr2\n",
      "  --pfile plink/prscsx_acaf_threshold.chr2\n",
      "  --score PRScsx_Standing_Height_output/Standing_height_SAS_pst_eff_a1_b0.5_phi1e-04_chr2.txt 2 4 6 variance-standardize list-variants\n",
      "\n",
      "Start time: Thu Jun 13 16:03:15 2024\n",
      "14998 MiB RAM detected, ~13506 available; reserving 7499 MiB for main\n",
      "workspace.\n",
      "Using up to 4 compute threads.\n",
      "245394 samples (0 females, 0 males, 245394 ambiguous; 245394 founders) loaded\n",
      "from plink/prscsx_acaf_threshold.chr2.psam.\n",
      "90465 variants loaded from plink/prscsx_acaf_threshold.chr2.pvar.\n",
      "Note: No phenotype data present.\n",
      "Calculating allele frequencies... 3672done.\n"
     ]
    },
    {
     "name": "stderr",
     "output_type": "stream",
     "text": [
      "Warning: --score: 7 entries in\n",
      "PRScsx_Standing_Height_output/Standing_height_SAS_pst_eff_a1_b0.5_phi1e-04_chr2.txt\n",
      "were skipped due to missing variant IDs.\n"
     ]
    },
    {
     "name": "stdout",
     "output_type": "stream",
     "text": [
      "--score: 79267 variants processed.\n",
      "--score: Variant list written to scores/Standing_height_SAS_pst_eff_a1_b0.5_phi1e-04_chr2.sscore.vars .\n",
      "--score: Results written to\n",
      "scores/Standing_height_SAS_pst_eff_a1_b0.5_phi1e-04_chr2.sscore .\n",
      "End time: Thu Jun 13 16:03:51 2024\n"
     ]
    },
    {
     "name": "stderr",
     "output_type": "stream",
     "text": [
      "Copying gs://fc-secure-09b7d164-67b2-4c94-8381-4b8202619ea8/data/plink/prscsx_acaf_threshold.chr3.pgen...\n",
      "Copying gs://fc-secure-09b7d164-67b2-4c94-8381-4b8202619ea8/data/plink/prscsx_acaf_threshold.chr3.pvar...\n",
      "Copying gs://fc-secure-09b7d164-67b2-4c94-8381-4b8202619ea8/data/plink/prscsx_acaf_threshold.chr3.psam...\n",
      "- [3/3 files][  2.7 GiB/  2.7 GiB] 100% Done  34.7 MiB/s ETA 00:00:00           \n",
      "Operation completed over 3 objects/2.7 GiB.                                      \n"
     ]
    },
    {
     "name": "stdout",
     "output_type": "stream",
     "text": [
      "PLINK v2.00a6LM 64-bit Intel (16 May 2024)     www.cog-genomics.org/plink/2.0/\n",
      "(C) 2005-2024 Shaun Purcell, Christopher Chang   GNU General Public License v3\n",
      "Logging to scores/Standing_height_AFR_pst_eff_a1_b0.5_phi1e-04_chr3.log.\n",
      "Options in effect:\n",
      "  --out scores/Standing_height_AFR_pst_eff_a1_b0.5_phi1e-04_chr3\n",
      "  --pfile plink/prscsx_acaf_threshold.chr3\n",
      "  --score PRScsx_Standing_Height_output/Standing_height_AFR_pst_eff_a1_b0.5_phi1e-04_chr3.txt 2 4 6 variance-standardize list-variants\n",
      "\n",
      "Start time: Thu Jun 13 16:05:22 2024\n",
      "14998 MiB RAM detected, ~13483 available; reserving 7499 MiB for main\n",
      "workspace.\n",
      "Using up to 4 compute threads.\n",
      "245394 samples (0 females, 0 males, 245394 ambiguous; 245394 founders) loaded\n",
      "from plink/prscsx_acaf_threshold.chr3.psam.\n",
      "72348 variants loaded from plink/prscsx_acaf_threshold.chr3.pvar.\n",
      "Note: No phenotype data present.\n",
      "Calculating allele frequencies... 4590done.\n"
     ]
    },
    {
     "name": "stderr",
     "output_type": "stream",
     "text": [
      "Warning: --score: 5 entries in\n",
      "PRScsx_Standing_Height_output/Standing_height_AFR_pst_eff_a1_b0.5_phi1e-04_chr3.txt\n",
      "were skipped due to missing variant IDs.\n"
     ]
    },
    {
     "name": "stdout",
     "output_type": "stream",
     "text": [
      "--score: 69790 variants processed.\n",
      "--score: Variant list written to scores/Standing_height_AFR_pst_eff_a1_b0.5_phi1e-04_chr3.sscore.vars .\n",
      "--score: Results written to\n",
      "scores/Standing_height_AFR_pst_eff_a1_b0.5_phi1e-04_chr3.sscore .\n",
      "End time: Thu Jun 13 16:05:54 2024\n",
      "PLINK v2.00a6LM 64-bit Intel (16 May 2024)     www.cog-genomics.org/plink/2.0/\n",
      "(C) 2005-2024 Shaun Purcell, Christopher Chang   GNU General Public License v3\n",
      "Logging to scores/Standing_height_AMR_pst_eff_a1_b0.5_phi1e-04_chr3.log.\n",
      "Options in effect:\n",
      "  --out scores/Standing_height_AMR_pst_eff_a1_b0.5_phi1e-04_chr3\n",
      "  --pfile plink/prscsx_acaf_threshold.chr3\n",
      "  --score PRScsx_Standing_Height_output/Standing_height_AMR_pst_eff_a1_b0.5_phi1e-04_chr3.txt 2 4 6 variance-standardize list-variants\n",
      "\n",
      "Start time: Thu Jun 13 16:05:54 2024\n",
      "14998 MiB RAM detected, ~13497 available; reserving 7499 MiB for main\n",
      "workspace.\n",
      "Using up to 4 compute threads.\n",
      "245394 samples (0 females, 0 males, 245394 ambiguous; 245394 founders) loaded\n",
      "from plink/prscsx_acaf_threshold.chr3.psam.\n",
      "72348 variants loaded from plink/prscsx_acaf_threshold.chr3.pvar.\n",
      "Note: No phenotype data present.\n",
      "Calculating allele frequencies... 4590done.\n"
     ]
    },
    {
     "name": "stderr",
     "output_type": "stream",
     "text": [
      "Warning: --score: 4 entries in\n",
      "PRScsx_Standing_Height_output/Standing_height_AMR_pst_eff_a1_b0.5_phi1e-04_chr3.txt\n",
      "were skipped due to missing variant IDs.\n"
     ]
    },
    {
     "name": "stdout",
     "output_type": "stream",
     "text": [
      "--score: 67764 variants processed.\n",
      "--score: Variant list written to scores/Standing_height_AMR_pst_eff_a1_b0.5_phi1e-04_chr3.sscore.vars .\n",
      "--score: Results written to\n",
      "scores/Standing_height_AMR_pst_eff_a1_b0.5_phi1e-04_chr3.sscore .\n",
      "End time: Thu Jun 13 16:06:26 2024\n",
      "PLINK v2.00a6LM 64-bit Intel (16 May 2024)     www.cog-genomics.org/plink/2.0/\n",
      "(C) 2005-2024 Shaun Purcell, Christopher Chang   GNU General Public License v3\n",
      "Logging to scores/Standing_height_EAS_pst_eff_a1_b0.5_phi1e-04_chr3.log.\n",
      "Options in effect:\n",
      "  --out scores/Standing_height_EAS_pst_eff_a1_b0.5_phi1e-04_chr3\n",
      "  --pfile plink/prscsx_acaf_threshold.chr3\n",
      "  --score PRScsx_Standing_Height_output/Standing_height_EAS_pst_eff_a1_b0.5_phi1e-04_chr3.txt 2 4 6 variance-standardize list-variants\n",
      "\n",
      "Start time: Thu Jun 13 16:06:26 2024\n",
      "14998 MiB RAM detected, ~13494 available; reserving 7499 MiB for main\n",
      "workspace.\n",
      "Using up to 4 compute threads.\n",
      "245394 samples (0 females, 0 males, 245394 ambiguous; 245394 founders) loaded\n",
      "from plink/prscsx_acaf_threshold.chr3.psam.\n",
      "72348 variants loaded from plink/prscsx_acaf_threshold.chr3.pvar.\n",
      "Note: No phenotype data present.\n",
      "Calculating allele frequencies... 4590done.\n"
     ]
    },
    {
     "name": "stderr",
     "output_type": "stream",
     "text": [
      "Warning: --score: 3 entries in\n",
      "PRScsx_Standing_Height_output/Standing_height_EAS_pst_eff_a1_b0.5_phi1e-04_chr3.txt\n",
      "were skipped due to missing variant IDs.\n"
     ]
    },
    {
     "name": "stdout",
     "output_type": "stream",
     "text": [
      "--score: 58587 variants processed.\n",
      "--score: Variant list written to scores/Standing_height_EAS_pst_eff_a1_b0.5_phi1e-04_chr3.sscore.vars .\n",
      "--score: Results written to\n",
      "scores/Standing_height_EAS_pst_eff_a1_b0.5_phi1e-04_chr3.sscore .\n",
      "End time: Thu Jun 13 16:06:55 2024\n",
      "PLINK v2.00a6LM 64-bit Intel (16 May 2024)     www.cog-genomics.org/plink/2.0/\n",
      "(C) 2005-2024 Shaun Purcell, Christopher Chang   GNU General Public License v3\n",
      "Logging to scores/Standing_height_EUR_pst_eff_a1_b0.5_phi1e-04_chr3.log.\n",
      "Options in effect:\n",
      "  --out scores/Standing_height_EUR_pst_eff_a1_b0.5_phi1e-04_chr3\n",
      "  --pfile plink/prscsx_acaf_threshold.chr3\n",
      "  --score PRScsx_Standing_Height_output/Standing_height_EUR_pst_eff_a1_b0.5_phi1e-04_chr3.txt 2 4 6 variance-standardize list-variants\n",
      "\n",
      "Start time: Thu Jun 13 16:06:55 2024\n",
      "14998 MiB RAM detected, ~13502 available; reserving 7499 MiB for main\n",
      "workspace.\n",
      "Using up to 4 compute threads.\n",
      "245394 samples (0 females, 0 males, 245394 ambiguous; 245394 founders) loaded\n",
      "from plink/prscsx_acaf_threshold.chr3.psam.\n",
      "72348 variants loaded from plink/prscsx_acaf_threshold.chr3.pvar.\n",
      "Note: No phenotype data present.\n",
      "Calculating allele frequencies... 4590done.\n"
     ]
    },
    {
     "name": "stderr",
     "output_type": "stream",
     "text": [
      "Warning: --score: 4 entries in\n",
      "PRScsx_Standing_Height_output/Standing_height_EUR_pst_eff_a1_b0.5_phi1e-04_chr3.txt\n",
      "were skipped due to missing variant IDs.\n"
     ]
    },
    {
     "name": "stdout",
     "output_type": "stream",
     "text": [
      "--score: 62994 variants processed.\n",
      "--score: Variant list written to scores/Standing_height_EUR_pst_eff_a1_b0.5_phi1e-04_chr3.sscore.vars .\n",
      "--score: Results written to\n",
      "scores/Standing_height_EUR_pst_eff_a1_b0.5_phi1e-04_chr3.sscore .\n",
      "End time: Thu Jun 13 16:07:25 2024\n",
      "PLINK v2.00a6LM 64-bit Intel (16 May 2024)     www.cog-genomics.org/plink/2.0/\n",
      "(C) 2005-2024 Shaun Purcell, Christopher Chang   GNU General Public License v3\n",
      "Logging to scores/Standing_height_SAS_pst_eff_a1_b0.5_phi1e-04_chr3.log.\n",
      "Options in effect:\n",
      "  --out scores/Standing_height_SAS_pst_eff_a1_b0.5_phi1e-04_chr3\n",
      "  --pfile plink/prscsx_acaf_threshold.chr3\n",
      "  --score PRScsx_Standing_Height_output/Standing_height_SAS_pst_eff_a1_b0.5_phi1e-04_chr3.txt 2 4 6 variance-standardize list-variants\n",
      "\n",
      "Start time: Thu Jun 13 16:07:25 2024\n",
      "14998 MiB RAM detected, ~13503 available; reserving 7499 MiB for main\n",
      "workspace.\n",
      "Using up to 4 compute threads.\n",
      "245394 samples (0 females, 0 males, 245394 ambiguous; 245394 founders) loaded\n",
      "from plink/prscsx_acaf_threshold.chr3.psam.\n",
      "72348 variants loaded from plink/prscsx_acaf_threshold.chr3.pvar.\n",
      "Note: No phenotype data present.\n",
      "Calculating allele frequencies... 4590done.\n"
     ]
    },
    {
     "name": "stderr",
     "output_type": "stream",
     "text": [
      "Warning: --score: 4 entries in\n",
      "PRScsx_Standing_Height_output/Standing_height_SAS_pst_eff_a1_b0.5_phi1e-04_chr3.txt\n",
      "were skipped due to missing variant IDs.\n"
     ]
    },
    {
     "name": "stdout",
     "output_type": "stream",
     "text": [
      "--score: 63722 variants processed.\n",
      "--score: Variant list written to scores/Standing_height_SAS_pst_eff_a1_b0.5_phi1e-04_chr3.sscore.vars .\n",
      "--score: Results written to\n",
      "scores/Standing_height_SAS_pst_eff_a1_b0.5_phi1e-04_chr3.sscore .\n",
      "End time: Thu Jun 13 16:07:56 2024\n"
     ]
    },
    {
     "name": "stderr",
     "output_type": "stream",
     "text": [
      "Copying gs://fc-secure-09b7d164-67b2-4c94-8381-4b8202619ea8/data/plink/prscsx_acaf_threshold.chr4.pgen...\n",
      "Copying gs://fc-secure-09b7d164-67b2-4c94-8381-4b8202619ea8/data/plink/prscsx_acaf_threshold.chr4.pvar...\n",
      "Copying gs://fc-secure-09b7d164-67b2-4c94-8381-4b8202619ea8/data/plink/prscsx_acaf_threshold.chr4.psam...\n",
      "Resuming download for plink/prscsx_acaf_threshold.chr4.pgen component 0         \n",
      "Resuming download for plink/prscsx_acaf_threshold.chr4.pgen component 1\n",
      "Resuming download for plink/prscsx_acaf_threshold.chr4.pgen component 2\n",
      "Resuming download for plink/prscsx_acaf_threshold.chr4.pgen component 3\n",
      "\\ [3/3 files][  2.3 GiB/  2.3 GiB] 100% Done  33.3 MiB/s ETA 00:00:00           \n",
      "Operation completed over 3 objects/2.3 GiB.                                      \n"
     ]
    },
    {
     "name": "stdout",
     "output_type": "stream",
     "text": [
      "PLINK v2.00a6LM 64-bit Intel (16 May 2024)     www.cog-genomics.org/plink/2.0/\n",
      "(C) 2005-2024 Shaun Purcell, Christopher Chang   GNU General Public License v3\n",
      "Logging to scores/Standing_height_AFR_pst_eff_a1_b0.5_phi1e-04_chr4.log.\n",
      "Options in effect:\n",
      "  --out scores/Standing_height_AFR_pst_eff_a1_b0.5_phi1e-04_chr4\n",
      "  --pfile plink/prscsx_acaf_threshold.chr4\n",
      "  --score PRScsx_Standing_Height_output/Standing_height_AFR_pst_eff_a1_b0.5_phi1e-04_chr4.txt 2 4 6 variance-standardize list-variants\n",
      "\n",
      "Start time: Thu Jun 13 16:08:46 2024\n",
      "14998 MiB RAM detected, ~13477 available; reserving 7499 MiB for main\n",
      "workspace.\n",
      "Using up to 4 compute threads.\n",
      "245394 samples (0 females, 0 males, 245394 ambiguous; 245394 founders) loaded\n",
      "from plink/prscsx_acaf_threshold.chr4.psam.\n",
      "61821 variants loaded from plink/prscsx_acaf_threshold.chr4.pvar.\n",
      "Note: No phenotype data present.\n",
      "Calculating allele frequencies... 53done.\n"
     ]
    },
    {
     "name": "stderr",
     "output_type": "stream",
     "text": [
      "Warning: --score: 6 entries in\n",
      "PRScsx_Standing_Height_output/Standing_height_AFR_pst_eff_a1_b0.5_phi1e-04_chr4.txt\n",
      "were skipped due to missing variant IDs.\n"
     ]
    },
    {
     "name": "stdout",
     "output_type": "stream",
     "text": [
      "--score: 59777 variants processed.\n",
      "--score: Variant list written to scores/Standing_height_AFR_pst_eff_a1_b0.5_phi1e-04_chr4.sscore.vars .\n",
      "--score: Results written to\n",
      "scores/Standing_height_AFR_pst_eff_a1_b0.5_phi1e-04_chr4.sscore .\n",
      "End time: Thu Jun 13 16:09:28 2024\n",
      "PLINK v2.00a6LM 64-bit Intel (16 May 2024)     www.cog-genomics.org/plink/2.0/\n",
      "(C) 2005-2024 Shaun Purcell, Christopher Chang   GNU General Public License v3\n",
      "Logging to scores/Standing_height_AMR_pst_eff_a1_b0.5_phi1e-04_chr4.log.\n",
      "Options in effect:\n",
      "  --out scores/Standing_height_AMR_pst_eff_a1_b0.5_phi1e-04_chr4\n",
      "  --pfile plink/prscsx_acaf_threshold.chr4\n",
      "  --score PRScsx_Standing_Height_output/Standing_height_AMR_pst_eff_a1_b0.5_phi1e-04_chr4.txt 2 4 6 variance-standardize list-variants\n",
      "\n",
      "Start time: Thu Jun 13 16:09:28 2024\n",
      "14998 MiB RAM detected, ~13506 available; reserving 7499 MiB for main\n",
      "workspace.\n",
      "Using up to 4 compute threads.\n",
      "245394 samples (0 females, 0 males, 245394 ambiguous; 245394 founders) loaded\n",
      "from plink/prscsx_acaf_threshold.chr4.psam.\n",
      "61821 variants loaded from plink/prscsx_acaf_threshold.chr4.pvar.\n",
      "Note: No phenotype data present.\n",
      "Calculating allele frequencies... 53done.\n"
     ]
    },
    {
     "name": "stderr",
     "output_type": "stream",
     "text": [
      "Warning: --score: 4 entries in\n",
      "PRScsx_Standing_Height_output/Standing_height_AMR_pst_eff_a1_b0.5_phi1e-04_chr4.txt\n",
      "were skipped due to missing variant IDs.\n"
     ]
    },
    {
     "name": "stdout",
     "output_type": "stream",
     "text": [
      "--score: 57866 variants processed.\n",
      "--score: Variant list written to scores/Standing_height_AMR_pst_eff_a1_b0.5_phi1e-04_chr4.sscore.vars .\n",
      "--score: Results written to\n",
      "scores/Standing_height_AMR_pst_eff_a1_b0.5_phi1e-04_chr4.sscore .\n",
      "End time: Thu Jun 13 16:09:57 2024\n",
      "PLINK v2.00a6LM 64-bit Intel (16 May 2024)     www.cog-genomics.org/plink/2.0/\n",
      "(C) 2005-2024 Shaun Purcell, Christopher Chang   GNU General Public License v3\n",
      "Logging to scores/Standing_height_EAS_pst_eff_a1_b0.5_phi1e-04_chr4.log.\n",
      "Options in effect:\n",
      "  --out scores/Standing_height_EAS_pst_eff_a1_b0.5_phi1e-04_chr4\n",
      "  --pfile plink/prscsx_acaf_threshold.chr4\n",
      "  --score PRScsx_Standing_Height_output/Standing_height_EAS_pst_eff_a1_b0.5_phi1e-04_chr4.txt 2 4 6 variance-standardize list-variants\n",
      "\n",
      "Start time: Thu Jun 13 16:09:57 2024\n",
      "14998 MiB RAM detected, ~13515 available; reserving 7499 MiB for main\n",
      "workspace.\n",
      "Using up to 4 compute threads.\n",
      "245394 samples (0 females, 0 males, 245394 ambiguous; 245394 founders) loaded\n",
      "from plink/prscsx_acaf_threshold.chr4.psam.\n",
      "61821 variants loaded from plink/prscsx_acaf_threshold.chr4.pvar.\n",
      "Note: No phenotype data present.\n",
      "Calculating allele frequencies... 53done.\n"
     ]
    },
    {
     "name": "stderr",
     "output_type": "stream",
     "text": [
      "Warning: --score: 2 entries in\n",
      "PRScsx_Standing_Height_output/Standing_height_EAS_pst_eff_a1_b0.5_phi1e-04_chr4.txt\n",
      "were skipped due to missing variant IDs.\n"
     ]
    },
    {
     "name": "stdout",
     "output_type": "stream",
     "text": [
      "--score: 49877 variants processed.\n",
      "--score: Variant list written to scores/Standing_height_EAS_pst_eff_a1_b0.5_phi1e-04_chr4.sscore.vars .\n",
      "--score: Results written to\n",
      "scores/Standing_height_EAS_pst_eff_a1_b0.5_phi1e-04_chr4.sscore .\n",
      "End time: Thu Jun 13 16:10:21 2024\n",
      "PLINK v2.00a6LM 64-bit Intel (16 May 2024)     www.cog-genomics.org/plink/2.0/\n",
      "(C) 2005-2024 Shaun Purcell, Christopher Chang   GNU General Public License v3\n",
      "Logging to scores/Standing_height_EUR_pst_eff_a1_b0.5_phi1e-04_chr4.log.\n",
      "Options in effect:\n",
      "  --out scores/Standing_height_EUR_pst_eff_a1_b0.5_phi1e-04_chr4\n",
      "  --pfile plink/prscsx_acaf_threshold.chr4\n",
      "  --score PRScsx_Standing_Height_output/Standing_height_EUR_pst_eff_a1_b0.5_phi1e-04_chr4.txt 2 4 6 variance-standardize list-variants\n",
      "\n",
      "Start time: Thu Jun 13 16:10:22 2024\n",
      "14998 MiB RAM detected, ~13511 available; reserving 7499 MiB for main\n",
      "workspace.\n",
      "Using up to 4 compute threads.\n",
      "245394 samples (0 females, 0 males, 245394 ambiguous; 245394 founders) loaded\n",
      "from plink/prscsx_acaf_threshold.chr4.psam.\n",
      "61821 variants loaded from plink/prscsx_acaf_threshold.chr4.pvar.\n",
      "Note: No phenotype data present.\n",
      "Calculating allele frequencies... 53done.\n"
     ]
    },
    {
     "name": "stderr",
     "output_type": "stream",
     "text": [
      "Warning: --score: 4 entries in\n",
      "PRScsx_Standing_Height_output/Standing_height_EUR_pst_eff_a1_b0.5_phi1e-04_chr4.txt\n",
      "were skipped due to missing variant IDs.\n"
     ]
    },
    {
     "name": "stdout",
     "output_type": "stream",
     "text": [
      "--score: 53845 variants processed.\n",
      "--score: Variant list written to scores/Standing_height_EUR_pst_eff_a1_b0.5_phi1e-04_chr4.sscore.vars .\n",
      "--score: Results written to\n",
      "scores/Standing_height_EUR_pst_eff_a1_b0.5_phi1e-04_chr4.sscore .\n",
      "End time: Thu Jun 13 16:10:47 2024\n",
      "PLINK v2.00a6LM 64-bit Intel (16 May 2024)     www.cog-genomics.org/plink/2.0/\n",
      "(C) 2005-2024 Shaun Purcell, Christopher Chang   GNU General Public License v3\n",
      "Logging to scores/Standing_height_SAS_pst_eff_a1_b0.5_phi1e-04_chr4.log.\n",
      "Options in effect:\n",
      "  --out scores/Standing_height_SAS_pst_eff_a1_b0.5_phi1e-04_chr4\n",
      "  --pfile plink/prscsx_acaf_threshold.chr4\n",
      "  --score PRScsx_Standing_Height_output/Standing_height_SAS_pst_eff_a1_b0.5_phi1e-04_chr4.txt 2 4 6 variance-standardize list-variants\n",
      "\n",
      "Start time: Thu Jun 13 16:10:47 2024\n",
      "14998 MiB RAM detected, ~13493 available; reserving 7499 MiB for main\n",
      "workspace.\n",
      "Using up to 4 compute threads.\n",
      "245394 samples (0 females, 0 males, 245394 ambiguous; 245394 founders) loaded\n",
      "from plink/prscsx_acaf_threshold.chr4.psam.\n",
      "61821 variants loaded from plink/prscsx_acaf_threshold.chr4.pvar.\n",
      "Note: No phenotype data present.\n",
      "Calculating allele frequencies... 53done.\n"
     ]
    },
    {
     "name": "stderr",
     "output_type": "stream",
     "text": [
      "Warning: --score: 4 entries in\n",
      "PRScsx_Standing_Height_output/Standing_height_SAS_pst_eff_a1_b0.5_phi1e-04_chr4.txt\n",
      "were skipped due to missing variant IDs.\n"
     ]
    },
    {
     "name": "stdout",
     "output_type": "stream",
     "text": [
      "--score: 54223 variants processed.\n",
      "--score: Variant list written to scores/Standing_height_SAS_pst_eff_a1_b0.5_phi1e-04_chr4.sscore.vars .\n",
      "--score: Results written to\n",
      "scores/Standing_height_SAS_pst_eff_a1_b0.5_phi1e-04_chr4.sscore .\n",
      "End time: Thu Jun 13 16:11:13 2024\n"
     ]
    },
    {
     "name": "stderr",
     "output_type": "stream",
     "text": [
      "Copying gs://fc-secure-09b7d164-67b2-4c94-8381-4b8202619ea8/data/plink/prscsx_acaf_threshold.chr5.pgen...\n",
      "Copying gs://fc-secure-09b7d164-67b2-4c94-8381-4b8202619ea8/data/plink/prscsx_acaf_threshold.chr5.psam...\n",
      "Copying gs://fc-secure-09b7d164-67b2-4c94-8381-4b8202619ea8/data/plink/prscsx_acaf_threshold.chr5.pvar...\n",
      "- [3/3 files][  2.4 GiB/  2.4 GiB] 100% Done  31.2 MiB/s ETA 00:00:00           \n",
      "Operation completed over 3 objects/2.4 GiB.                                      \n"
     ]
    },
    {
     "name": "stdout",
     "output_type": "stream",
     "text": [
      "PLINK v2.00a6LM 64-bit Intel (16 May 2024)     www.cog-genomics.org/plink/2.0/\n",
      "(C) 2005-2024 Shaun Purcell, Christopher Chang   GNU General Public License v3\n",
      "Logging to scores/Standing_height_AFR_pst_eff_a1_b0.5_phi1e-04_chr5.log.\n",
      "Options in effect:\n",
      "  --out scores/Standing_height_AFR_pst_eff_a1_b0.5_phi1e-04_chr5\n",
      "  --pfile plink/prscsx_acaf_threshold.chr5\n",
      "  --score PRScsx_Standing_Height_output/Standing_height_AFR_pst_eff_a1_b0.5_phi1e-04_chr5.txt 2 4 6 variance-standardize list-variants\n",
      "\n",
      "Start time: Thu Jun 13 16:12:34 2024\n",
      "14998 MiB RAM detected, ~13485 available; reserving 7499 MiB for main\n",
      "workspace.\n",
      "Using up to 4 compute threads.\n",
      "245394 samples (0 females, 0 males, 245394 ambiguous; 245394 founders) loaded\n",
      "from plink/prscsx_acaf_threshold.chr5.psam.\n",
      "63980 variants loaded from plink/prscsx_acaf_threshold.chr5.pvar.\n",
      "Note: No phenotype data present.\n",
      "Calculating allele frequencies... 51done.\n"
     ]
    },
    {
     "name": "stderr",
     "output_type": "stream",
     "text": [
      "Warning: --score: 2 entries in\n",
      "PRScsx_Standing_Height_output/Standing_height_AFR_pst_eff_a1_b0.5_phi1e-04_chr5.txt\n",
      "were skipped due to missing variant IDs.\n"
     ]
    },
    {
     "name": "stdout",
     "output_type": "stream",
     "text": [
      "--score: 60383 variants processed.\n",
      "--score: Variant list written to scores/Standing_height_AFR_pst_eff_a1_b0.5_phi1e-04_chr5.sscore.vars .\n",
      "--score: Results written to\n",
      "scores/Standing_height_AFR_pst_eff_a1_b0.5_phi1e-04_chr5.sscore .\n",
      "End time: Thu Jun 13 16:13:27 2024\n",
      "PLINK v2.00a6LM 64-bit Intel (16 May 2024)     www.cog-genomics.org/plink/2.0/\n",
      "(C) 2005-2024 Shaun Purcell, Christopher Chang   GNU General Public License v3\n",
      "Logging to scores/Standing_height_AMR_pst_eff_a1_b0.5_phi1e-04_chr5.log.\n",
      "Options in effect:\n",
      "  --out scores/Standing_height_AMR_pst_eff_a1_b0.5_phi1e-04_chr5\n",
      "  --pfile plink/prscsx_acaf_threshold.chr5\n",
      "  --score PRScsx_Standing_Height_output/Standing_height_AMR_pst_eff_a1_b0.5_phi1e-04_chr5.txt 2 4 6 variance-standardize list-variants\n",
      "\n",
      "Start time: Thu Jun 13 16:13:27 2024\n",
      "14998 MiB RAM detected, ~13501 available; reserving 7499 MiB for main\n",
      "workspace.\n",
      "Using up to 4 compute threads.\n",
      "245394 samples (0 females, 0 males, 245394 ambiguous; 245394 founders) loaded\n",
      "from plink/prscsx_acaf_threshold.chr5.psam.\n",
      "63980 variants loaded from plink/prscsx_acaf_threshold.chr5.pvar.\n",
      "Note: No phenotype data present.\n",
      "Calculating allele frequencies... 51done.\n"
     ]
    },
    {
     "name": "stderr",
     "output_type": "stream",
     "text": [
      "Warning: --score: 1 entry in\n",
      "PRScsx_Standing_Height_output/Standing_height_AMR_pst_eff_a1_b0.5_phi1e-04_chr5.txt\n",
      "was skipped due to a missing variant ID.\n"
     ]
    },
    {
     "name": "stdout",
     "output_type": "stream",
     "text": [
      "--score: 58665 variants processed.\n",
      "--score: Variant list written to scores/Standing_height_AMR_pst_eff_a1_b0.5_phi1e-04_chr5.sscore.vars .\n",
      "--score: Results written to\n",
      "scores/Standing_height_AMR_pst_eff_a1_b0.5_phi1e-04_chr5.sscore .\n",
      "End time: Thu Jun 13 16:13:55 2024\n",
      "PLINK v2.00a6LM 64-bit Intel (16 May 2024)     www.cog-genomics.org/plink/2.0/\n",
      "(C) 2005-2024 Shaun Purcell, Christopher Chang   GNU General Public License v3\n",
      "Logging to scores/Standing_height_EAS_pst_eff_a1_b0.5_phi1e-04_chr5.log.\n",
      "Options in effect:\n",
      "  --out scores/Standing_height_EAS_pst_eff_a1_b0.5_phi1e-04_chr5\n",
      "  --pfile plink/prscsx_acaf_threshold.chr5\n",
      "  --score PRScsx_Standing_Height_output/Standing_height_EAS_pst_eff_a1_b0.5_phi1e-04_chr5.txt 2 4 6 variance-standardize list-variants\n",
      "\n",
      "Start time: Thu Jun 13 16:13:56 2024\n",
      "14998 MiB RAM detected, ~13492 available; reserving 7499 MiB for main\n",
      "workspace.\n",
      "Using up to 4 compute threads.\n",
      "245394 samples (0 females, 0 males, 245394 ambiguous; 245394 founders) loaded\n",
      "from plink/prscsx_acaf_threshold.chr5.psam.\n",
      "63980 variants loaded from plink/prscsx_acaf_threshold.chr5.pvar.\n",
      "Note: No phenotype data present.\n",
      "Calculating allele frequencies... 51done.\n",
      "--score: 50972 variants processed.\n",
      "--score: Variant list written to scores/Standing_height_EAS_pst_eff_a1_b0.5_phi1e-04_chr5.sscore.vars .\n",
      "--score: Results written to\n",
      "scores/Standing_height_EAS_pst_eff_a1_b0.5_phi1e-04_chr5.sscore .\n",
      "End time: Thu Jun 13 16:14:20 2024\n",
      "PLINK v2.00a6LM 64-bit Intel (16 May 2024)     www.cog-genomics.org/plink/2.0/\n",
      "(C) 2005-2024 Shaun Purcell, Christopher Chang   GNU General Public License v3\n",
      "Logging to scores/Standing_height_EUR_pst_eff_a1_b0.5_phi1e-04_chr5.log.\n",
      "Options in effect:\n",
      "  --out scores/Standing_height_EUR_pst_eff_a1_b0.5_phi1e-04_chr5\n",
      "  --pfile plink/prscsx_acaf_threshold.chr5\n",
      "  --score PRScsx_Standing_Height_output/Standing_height_EUR_pst_eff_a1_b0.5_phi1e-04_chr5.txt 2 4 6 variance-standardize list-variants\n",
      "\n",
      "Start time: Thu Jun 13 16:14:20 2024\n",
      "14998 MiB RAM detected, ~13487 available; reserving 7499 MiB for main\n",
      "workspace.\n",
      "Using up to 4 compute threads.\n",
      "245394 samples (0 females, 0 males, 245394 ambiguous; 245394 founders) loaded\n",
      "from plink/prscsx_acaf_threshold.chr5.psam.\n",
      "63980 variants loaded from plink/prscsx_acaf_threshold.chr5.pvar.\n",
      "Note: No phenotype data present.\n",
      "Calculating allele frequencies... 51done.\n"
     ]
    },
    {
     "name": "stderr",
     "output_type": "stream",
     "text": [
      "Warning: --score: 1 entry in\n",
      "PRScsx_Standing_Height_output/Standing_height_EUR_pst_eff_a1_b0.5_phi1e-04_chr5.txt\n",
      "was skipped due to a missing variant ID.\n"
     ]
    },
    {
     "name": "stdout",
     "output_type": "stream",
     "text": [
      "--score: 55055 variants processed.\n",
      "--score: Variant list written to scores/Standing_height_EUR_pst_eff_a1_b0.5_phi1e-04_chr5.sscore.vars .\n",
      "--score: Results written to\n",
      "scores/Standing_height_EUR_pst_eff_a1_b0.5_phi1e-04_chr5.sscore .\n",
      "End time: Thu Jun 13 16:14:47 2024\n",
      "PLINK v2.00a6LM 64-bit Intel (16 May 2024)     www.cog-genomics.org/plink/2.0/\n",
      "(C) 2005-2024 Shaun Purcell, Christopher Chang   GNU General Public License v3\n",
      "Logging to scores/Standing_height_SAS_pst_eff_a1_b0.5_phi1e-04_chr5.log.\n",
      "Options in effect:\n",
      "  --out scores/Standing_height_SAS_pst_eff_a1_b0.5_phi1e-04_chr5\n",
      "  --pfile plink/prscsx_acaf_threshold.chr5\n",
      "  --score PRScsx_Standing_Height_output/Standing_height_SAS_pst_eff_a1_b0.5_phi1e-04_chr5.txt 2 4 6 variance-standardize list-variants\n",
      "\n",
      "Start time: Thu Jun 13 16:14:47 2024\n",
      "14998 MiB RAM detected, ~13503 available; reserving 7499 MiB for main\n",
      "workspace.\n",
      "Using up to 4 compute threads.\n",
      "245394 samples (0 females, 0 males, 245394 ambiguous; 245394 founders) loaded\n",
      "from plink/prscsx_acaf_threshold.chr5.psam.\n",
      "63980 variants loaded from plink/prscsx_acaf_threshold.chr5.pvar.\n",
      "Note: No phenotype data present.\n",
      "Calculating allele frequencies... 51done.\n"
     ]
    },
    {
     "name": "stderr",
     "output_type": "stream",
     "text": [
      "Warning: --score: 1 entry in\n",
      "PRScsx_Standing_Height_output/Standing_height_SAS_pst_eff_a1_b0.5_phi1e-04_chr5.txt\n",
      "was skipped due to a missing variant ID.\n"
     ]
    },
    {
     "name": "stdout",
     "output_type": "stream",
     "text": [
      "--score: 55501 variants processed.\n",
      "--score: Variant list written to scores/Standing_height_SAS_pst_eff_a1_b0.5_phi1e-04_chr5.sscore.vars .\n",
      "--score: Results written to\n",
      "scores/Standing_height_SAS_pst_eff_a1_b0.5_phi1e-04_chr5.sscore .\n",
      "End time: Thu Jun 13 16:15:13 2024\n"
     ]
    },
    {
     "name": "stderr",
     "output_type": "stream",
     "text": [
      "Copying gs://fc-secure-09b7d164-67b2-4c94-8381-4b8202619ea8/data/plink/prscsx_acaf_threshold.chr6.pgen...\n",
      "Copying gs://fc-secure-09b7d164-67b2-4c94-8381-4b8202619ea8/data/plink/prscsx_acaf_threshold.chr6.psam...\n",
      "Copying gs://fc-secure-09b7d164-67b2-4c94-8381-4b8202619ea8/data/plink/prscsx_acaf_threshold.chr6.pvar...\n",
      "\\ [3/3 files][  2.8 GiB/  2.8 GiB] 100% Done  32.0 MiB/s ETA 00:00:00           \n",
      "Operation completed over 3 objects/2.8 GiB.                                      \n"
     ]
    },
    {
     "name": "stdout",
     "output_type": "stream",
     "text": [
      "PLINK v2.00a6LM 64-bit Intel (16 May 2024)     www.cog-genomics.org/plink/2.0/\n",
      "(C) 2005-2024 Shaun Purcell, Christopher Chang   GNU General Public License v3\n",
      "Logging to scores/Standing_height_AFR_pst_eff_a1_b0.5_phi1e-04_chr6.log.\n",
      "Options in effect:\n",
      "  --out scores/Standing_height_AFR_pst_eff_a1_b0.5_phi1e-04_chr6\n",
      "  --pfile plink/prscsx_acaf_threshold.chr6\n",
      "  --score PRScsx_Standing_Height_output/Standing_height_AFR_pst_eff_a1_b0.5_phi1e-04_chr6.txt 2 4 6 variance-standardize list-variants\n",
      "\n",
      "Start time: Thu Jun 13 16:16:51 2024\n",
      "14998 MiB RAM detected, ~13480 available; reserving 7499 MiB for main\n",
      "workspace.\n",
      "Using up to 4 compute threads.\n",
      "245394 samples (0 females, 0 males, 245394 ambiguous; 245394 founders) loaded\n",
      "from plink/prscsx_acaf_threshold.chr6.psam.\n",
      "76922 variants loaded from plink/prscsx_acaf_threshold.chr6.pvar.\n",
      "Note: No phenotype data present.\n",
      "Calculating allele frequencies... 4285done.\n"
     ]
    },
    {
     "name": "stderr",
     "output_type": "stream",
     "text": [
      "Warning: --score: 5 entries in\n",
      "PRScsx_Standing_Height_output/Standing_height_AFR_pst_eff_a1_b0.5_phi1e-04_chr6.txt\n",
      "were skipped due to missing variant IDs.\n"
     ]
    },
    {
     "name": "stdout",
     "output_type": "stream",
     "text": [
      "--score: 73663 variants processed.\n",
      "--score: Variant list written to scores/Standing_height_AFR_pst_eff_a1_b0.5_phi1e-04_chr6.sscore.vars .\n",
      "--score: Results written to\n",
      "scores/Standing_height_AFR_pst_eff_a1_b0.5_phi1e-04_chr6.sscore .\n",
      "End time: Thu Jun 13 16:17:25 2024\n",
      "PLINK v2.00a6LM 64-bit Intel (16 May 2024)     www.cog-genomics.org/plink/2.0/\n",
      "(C) 2005-2024 Shaun Purcell, Christopher Chang   GNU General Public License v3\n",
      "Logging to scores/Standing_height_AMR_pst_eff_a1_b0.5_phi1e-04_chr6.log.\n",
      "Options in effect:\n",
      "  --out scores/Standing_height_AMR_pst_eff_a1_b0.5_phi1e-04_chr6\n",
      "  --pfile plink/prscsx_acaf_threshold.chr6\n",
      "  --score PRScsx_Standing_Height_output/Standing_height_AMR_pst_eff_a1_b0.5_phi1e-04_chr6.txt 2 4 6 variance-standardize list-variants\n",
      "\n",
      "Start time: Thu Jun 13 16:17:25 2024\n",
      "14998 MiB RAM detected, ~13507 available; reserving 7499 MiB for main\n",
      "workspace.\n",
      "Using up to 4 compute threads.\n",
      "245394 samples (0 females, 0 males, 245394 ambiguous; 245394 founders) loaded\n",
      "from plink/prscsx_acaf_threshold.chr6.psam.\n",
      "76922 variants loaded from plink/prscsx_acaf_threshold.chr6.pvar.\n",
      "Note: No phenotype data present.\n",
      "Calculating allele frequencies... 4285done.\n"
     ]
    },
    {
     "name": "stderr",
     "output_type": "stream",
     "text": [
      "Warning: --score: 7 entries in\n",
      "PRScsx_Standing_Height_output/Standing_height_AMR_pst_eff_a1_b0.5_phi1e-04_chr6.txt\n",
      "were skipped due to missing variant IDs.\n"
     ]
    },
    {
     "name": "stdout",
     "output_type": "stream",
     "text": [
      "--score: 72123 variants processed.\n",
      "--score: Variant list written to scores/Standing_height_AMR_pst_eff_a1_b0.5_phi1e-04_chr6.sscore.vars .\n",
      "--score: Results written to\n",
      "scores/Standing_height_AMR_pst_eff_a1_b0.5_phi1e-04_chr6.sscore .\n",
      "End time: Thu Jun 13 16:17:58 2024\n",
      "PLINK v2.00a6LM 64-bit Intel (16 May 2024)     www.cog-genomics.org/plink/2.0/\n",
      "(C) 2005-2024 Shaun Purcell, Christopher Chang   GNU General Public License v3\n",
      "Logging to scores/Standing_height_EAS_pst_eff_a1_b0.5_phi1e-04_chr6.log.\n",
      "Options in effect:\n",
      "  --out scores/Standing_height_EAS_pst_eff_a1_b0.5_phi1e-04_chr6\n",
      "  --pfile plink/prscsx_acaf_threshold.chr6\n",
      "  --score PRScsx_Standing_Height_output/Standing_height_EAS_pst_eff_a1_b0.5_phi1e-04_chr6.txt 2 4 6 variance-standardize list-variants\n",
      "\n",
      "Start time: Thu Jun 13 16:17:58 2024\n",
      "14998 MiB RAM detected, ~13501 available; reserving 7499 MiB for main\n",
      "workspace.\n",
      "Using up to 4 compute threads.\n",
      "245394 samples (0 females, 0 males, 245394 ambiguous; 245394 founders) loaded\n",
      "from plink/prscsx_acaf_threshold.chr6.psam.\n",
      "76922 variants loaded from plink/prscsx_acaf_threshold.chr6.pvar.\n",
      "Note: No phenotype data present.\n",
      "Calculating allele frequencies... 4285done.\n"
     ]
    },
    {
     "name": "stderr",
     "output_type": "stream",
     "text": [
      "Warning: --score: 6 entries in\n",
      "PRScsx_Standing_Height_output/Standing_height_EAS_pst_eff_a1_b0.5_phi1e-04_chr6.txt\n",
      "were skipped due to missing variant IDs.\n"
     ]
    },
    {
     "name": "stdout",
     "output_type": "stream",
     "text": [
      "--score: 62869 variants processed.\n",
      "--score: Variant list written to scores/Standing_height_EAS_pst_eff_a1_b0.5_phi1e-04_chr6.sscore.vars .\n",
      "--score: Results written to\n",
      "scores/Standing_height_EAS_pst_eff_a1_b0.5_phi1e-04_chr6.sscore .\n",
      "End time: Thu Jun 13 16:18:27 2024\n",
      "PLINK v2.00a6LM 64-bit Intel (16 May 2024)     www.cog-genomics.org/plink/2.0/\n",
      "(C) 2005-2024 Shaun Purcell, Christopher Chang   GNU General Public License v3\n",
      "Logging to scores/Standing_height_EUR_pst_eff_a1_b0.5_phi1e-04_chr6.log.\n",
      "Options in effect:\n",
      "  --out scores/Standing_height_EUR_pst_eff_a1_b0.5_phi1e-04_chr6\n",
      "  --pfile plink/prscsx_acaf_threshold.chr6\n",
      "  --score PRScsx_Standing_Height_output/Standing_height_EUR_pst_eff_a1_b0.5_phi1e-04_chr6.txt 2 4 6 variance-standardize list-variants\n",
      "\n",
      "Start time: Thu Jun 13 16:18:27 2024\n",
      "14998 MiB RAM detected, ~13501 available; reserving 7499 MiB for main\n",
      "workspace.\n",
      "Using up to 4 compute threads.\n",
      "245394 samples (0 females, 0 males, 245394 ambiguous; 245394 founders) loaded\n",
      "from plink/prscsx_acaf_threshold.chr6.psam.\n",
      "76922 variants loaded from plink/prscsx_acaf_threshold.chr6.pvar.\n",
      "Note: No phenotype data present.\n",
      "Calculating allele frequencies... 4285done.\n"
     ]
    },
    {
     "name": "stderr",
     "output_type": "stream",
     "text": [
      "Warning: --score: 6 entries in\n",
      "PRScsx_Standing_Height_output/Standing_height_EUR_pst_eff_a1_b0.5_phi1e-04_chr6.txt\n",
      "were skipped due to missing variant IDs.\n"
     ]
    },
    {
     "name": "stdout",
     "output_type": "stream",
     "text": [
      "--score: 67976 variants processed.\n",
      "--score: Variant list written to scores/Standing_height_EUR_pst_eff_a1_b0.5_phi1e-04_chr6.sscore.vars .\n",
      "--score: Results written to\n",
      "scores/Standing_height_EUR_pst_eff_a1_b0.5_phi1e-04_chr6.sscore .\n",
      "End time: Thu Jun 13 16:18:58 2024\n",
      "PLINK v2.00a6LM 64-bit Intel (16 May 2024)     www.cog-genomics.org/plink/2.0/\n",
      "(C) 2005-2024 Shaun Purcell, Christopher Chang   GNU General Public License v3\n",
      "Logging to scores/Standing_height_SAS_pst_eff_a1_b0.5_phi1e-04_chr6.log.\n",
      "Options in effect:\n",
      "  --out scores/Standing_height_SAS_pst_eff_a1_b0.5_phi1e-04_chr6\n",
      "  --pfile plink/prscsx_acaf_threshold.chr6\n",
      "  --score PRScsx_Standing_Height_output/Standing_height_SAS_pst_eff_a1_b0.5_phi1e-04_chr6.txt 2 4 6 variance-standardize list-variants\n",
      "\n",
      "Start time: Thu Jun 13 16:18:59 2024\n",
      "14998 MiB RAM detected, ~13505 available; reserving 7499 MiB for main\n",
      "workspace.\n",
      "Using up to 4 compute threads.\n",
      "245394 samples (0 females, 0 males, 245394 ambiguous; 245394 founders) loaded\n",
      "from plink/prscsx_acaf_threshold.chr6.psam.\n",
      "76922 variants loaded from plink/prscsx_acaf_threshold.chr6.pvar.\n",
      "Note: No phenotype data present.\n",
      "Calculating allele frequencies... 4285done.\n"
     ]
    },
    {
     "name": "stderr",
     "output_type": "stream",
     "text": [
      "Warning: --score: 6 entries in\n",
      "PRScsx_Standing_Height_output/Standing_height_SAS_pst_eff_a1_b0.5_phi1e-04_chr6.txt\n",
      "were skipped due to missing variant IDs.\n"
     ]
    },
    {
     "name": "stdout",
     "output_type": "stream",
     "text": [
      "--score: 68154 variants processed.\n",
      "--score: Variant list written to scores/Standing_height_SAS_pst_eff_a1_b0.5_phi1e-04_chr6.sscore.vars .\n",
      "--score: Results written to\n",
      "scores/Standing_height_SAS_pst_eff_a1_b0.5_phi1e-04_chr6.sscore .\n",
      "End time: Thu Jun 13 16:19:30 2024\n"
     ]
    },
    {
     "name": "stderr",
     "output_type": "stream",
     "text": [
      "Copying gs://fc-secure-09b7d164-67b2-4c94-8381-4b8202619ea8/data/plink/prscsx_acaf_threshold.chr7.pgen...\n",
      "Copying gs://fc-secure-09b7d164-67b2-4c94-8381-4b8202619ea8/data/plink/prscsx_acaf_threshold.chr7.pvar...\n",
      "Copying gs://fc-secure-09b7d164-67b2-4c94-8381-4b8202619ea8/data/plink/prscsx_acaf_threshold.chr7.psam...\n",
      "\\ [3/3 files][  2.2 GiB/  2.2 GiB] 100% Done  35.0 MiB/s ETA 00:00:00           \n",
      "Operation completed over 3 objects/2.2 GiB.                                      \n"
     ]
    },
    {
     "name": "stdout",
     "output_type": "stream",
     "text": [
      "PLINK v2.00a6LM 64-bit Intel (16 May 2024)     www.cog-genomics.org/plink/2.0/\n",
      "(C) 2005-2024 Shaun Purcell, Christopher Chang   GNU General Public License v3\n",
      "Logging to scores/Standing_height_AFR_pst_eff_a1_b0.5_phi1e-04_chr7.log.\n",
      "Options in effect:\n",
      "  --out scores/Standing_height_AFR_pst_eff_a1_b0.5_phi1e-04_chr7\n",
      "  --pfile plink/prscsx_acaf_threshold.chr7\n",
      "  --score PRScsx_Standing_Height_output/Standing_height_AFR_pst_eff_a1_b0.5_phi1e-04_chr7.txt 2 4 6 variance-standardize list-variants\n",
      "\n",
      "Start time: Thu Jun 13 16:20:45 2024\n",
      "14998 MiB RAM detected, ~13474 available; reserving 7499 MiB for main\n",
      "workspace.\n",
      "Using up to 4 compute threads.\n",
      "245394 samples (0 females, 0 males, 245394 ambiguous; 245394 founders) loaded\n",
      "from plink/prscsx_acaf_threshold.chr7.psam.\n",
      "58644 variants loaded from plink/prscsx_acaf_threshold.chr7.pvar.\n",
      "Note: No phenotype data present.\n",
      "Calculating allele frequencies... 55done.\n"
     ]
    },
    {
     "name": "stderr",
     "output_type": "stream",
     "text": [
      "Warning: --score: 3 entries in\n",
      "PRScsx_Standing_Height_output/Standing_height_AFR_pst_eff_a1_b0.5_phi1e-04_chr7.txt\n",
      "were skipped due to missing variant IDs.\n"
     ]
    },
    {
     "name": "stdout",
     "output_type": "stream",
     "text": [
      "--score: 56425 variants processed.\n",
      "--score: Variant list written to scores/Standing_height_AFR_pst_eff_a1_b0.5_phi1e-04_chr7.sscore.vars .\n",
      "--score: Results written to\n",
      "scores/Standing_height_AFR_pst_eff_a1_b0.5_phi1e-04_chr7.sscore .\n",
      "End time: Thu Jun 13 16:21:12 2024\n",
      "PLINK v2.00a6LM 64-bit Intel (16 May 2024)     www.cog-genomics.org/plink/2.0/\n",
      "(C) 2005-2024 Shaun Purcell, Christopher Chang   GNU General Public License v3\n",
      "Logging to scores/Standing_height_AMR_pst_eff_a1_b0.5_phi1e-04_chr7.log.\n",
      "Options in effect:\n",
      "  --out scores/Standing_height_AMR_pst_eff_a1_b0.5_phi1e-04_chr7\n",
      "  --pfile plink/prscsx_acaf_threshold.chr7\n",
      "  --score PRScsx_Standing_Height_output/Standing_height_AMR_pst_eff_a1_b0.5_phi1e-04_chr7.txt 2 4 6 variance-standardize list-variants\n",
      "\n",
      "Start time: Thu Jun 13 16:21:12 2024\n",
      "14998 MiB RAM detected, ~13500 available; reserving 7499 MiB for main\n",
      "workspace.\n",
      "Using up to 4 compute threads.\n",
      "245394 samples (0 females, 0 males, 245394 ambiguous; 245394 founders) loaded\n",
      "from plink/prscsx_acaf_threshold.chr7.psam.\n",
      "58644 variants loaded from plink/prscsx_acaf_threshold.chr7.pvar.\n",
      "Note: No phenotype data present.\n",
      "Calculating allele frequencies... 55done.\n"
     ]
    },
    {
     "name": "stderr",
     "output_type": "stream",
     "text": [
      "Warning: --score: 4 entries in\n",
      "PRScsx_Standing_Height_output/Standing_height_AMR_pst_eff_a1_b0.5_phi1e-04_chr7.txt\n",
      "were skipped due to missing variant IDs.\n"
     ]
    },
    {
     "name": "stdout",
     "output_type": "stream",
     "text": [
      "--score: 55002 variants processed.\n",
      "--score: Variant list written to scores/Standing_height_AMR_pst_eff_a1_b0.5_phi1e-04_chr7.sscore.vars .\n",
      "--score: Results written to\n",
      "scores/Standing_height_AMR_pst_eff_a1_b0.5_phi1e-04_chr7.sscore .\n",
      "End time: Thu Jun 13 16:21:38 2024\n",
      "PLINK v2.00a6LM 64-bit Intel (16 May 2024)     www.cog-genomics.org/plink/2.0/\n",
      "(C) 2005-2024 Shaun Purcell, Christopher Chang   GNU General Public License v3\n",
      "Logging to scores/Standing_height_EAS_pst_eff_a1_b0.5_phi1e-04_chr7.log.\n",
      "Options in effect:\n",
      "  --out scores/Standing_height_EAS_pst_eff_a1_b0.5_phi1e-04_chr7\n",
      "  --pfile plink/prscsx_acaf_threshold.chr7\n",
      "  --score PRScsx_Standing_Height_output/Standing_height_EAS_pst_eff_a1_b0.5_phi1e-04_chr7.txt 2 4 6 variance-standardize list-variants\n",
      "\n",
      "Start time: Thu Jun 13 16:21:38 2024\n",
      "14998 MiB RAM detected, ~13500 available; reserving 7499 MiB for main\n",
      "workspace.\n",
      "Using up to 4 compute threads.\n",
      "245394 samples (0 females, 0 males, 245394 ambiguous; 245394 founders) loaded\n",
      "from plink/prscsx_acaf_threshold.chr7.psam.\n",
      "58644 variants loaded from plink/prscsx_acaf_threshold.chr7.pvar.\n",
      "Note: No phenotype data present.\n",
      "Calculating allele frequencies... 55done.\n"
     ]
    },
    {
     "name": "stderr",
     "output_type": "stream",
     "text": [
      "Warning: --score: 4 entries in\n",
      "PRScsx_Standing_Height_output/Standing_height_EAS_pst_eff_a1_b0.5_phi1e-04_chr7.txt\n",
      "were skipped due to missing variant IDs.\n"
     ]
    },
    {
     "name": "stdout",
     "output_type": "stream",
     "text": [
      "--score: 48106 variants processed.\n",
      "--score: Variant list written to scores/Standing_height_EAS_pst_eff_a1_b0.5_phi1e-04_chr7.sscore.vars .\n",
      "--score: Results written to\n",
      "scores/Standing_height_EAS_pst_eff_a1_b0.5_phi1e-04_chr7.sscore .\n",
      "End time: Thu Jun 13 16:22:01 2024\n",
      "PLINK v2.00a6LM 64-bit Intel (16 May 2024)     www.cog-genomics.org/plink/2.0/\n",
      "(C) 2005-2024 Shaun Purcell, Christopher Chang   GNU General Public License v3\n",
      "Logging to scores/Standing_height_EUR_pst_eff_a1_b0.5_phi1e-04_chr7.log.\n",
      "Options in effect:\n",
      "  --out scores/Standing_height_EUR_pst_eff_a1_b0.5_phi1e-04_chr7\n",
      "  --pfile plink/prscsx_acaf_threshold.chr7\n",
      "  --score PRScsx_Standing_Height_output/Standing_height_EUR_pst_eff_a1_b0.5_phi1e-04_chr7.txt 2 4 6 variance-standardize list-variants\n",
      "\n",
      "Start time: Thu Jun 13 16:22:01 2024\n",
      "14998 MiB RAM detected, ~13505 available; reserving 7499 MiB for main\n",
      "workspace.\n",
      "Using up to 4 compute threads.\n",
      "245394 samples (0 females, 0 males, 245394 ambiguous; 245394 founders) loaded\n",
      "from plink/prscsx_acaf_threshold.chr7.psam.\n",
      "58644 variants loaded from plink/prscsx_acaf_threshold.chr7.pvar.\n",
      "Note: No phenotype data present.\n",
      "Calculating allele frequencies... 55done.\n"
     ]
    },
    {
     "name": "stderr",
     "output_type": "stream",
     "text": [
      "Warning: --score: 4 entries in\n",
      "PRScsx_Standing_Height_output/Standing_height_EUR_pst_eff_a1_b0.5_phi1e-04_chr7.txt\n",
      "were skipped due to missing variant IDs.\n"
     ]
    },
    {
     "name": "stdout",
     "output_type": "stream",
     "text": [
      "--score: 51855 variants processed.\n",
      "--score: Variant list written to scores/Standing_height_EUR_pst_eff_a1_b0.5_phi1e-04_chr7.sscore.vars .\n",
      "--score: Results written to\n",
      "scores/Standing_height_EUR_pst_eff_a1_b0.5_phi1e-04_chr7.sscore .\n",
      "End time: Thu Jun 13 16:22:26 2024\n",
      "PLINK v2.00a6LM 64-bit Intel (16 May 2024)     www.cog-genomics.org/plink/2.0/\n",
      "(C) 2005-2024 Shaun Purcell, Christopher Chang   GNU General Public License v3\n",
      "Logging to scores/Standing_height_SAS_pst_eff_a1_b0.5_phi1e-04_chr7.log.\n",
      "Options in effect:\n",
      "  --out scores/Standing_height_SAS_pst_eff_a1_b0.5_phi1e-04_chr7\n",
      "  --pfile plink/prscsx_acaf_threshold.chr7\n",
      "  --score PRScsx_Standing_Height_output/Standing_height_SAS_pst_eff_a1_b0.5_phi1e-04_chr7.txt 2 4 6 variance-standardize list-variants\n",
      "\n",
      "Start time: Thu Jun 13 16:22:26 2024\n",
      "14998 MiB RAM detected, ~13502 available; reserving 7499 MiB for main\n",
      "workspace.\n",
      "Using up to 4 compute threads.\n",
      "245394 samples (0 females, 0 males, 245394 ambiguous; 245394 founders) loaded\n",
      "from plink/prscsx_acaf_threshold.chr7.psam.\n",
      "58644 variants loaded from plink/prscsx_acaf_threshold.chr7.pvar.\n",
      "Note: No phenotype data present.\n",
      "Calculating allele frequencies... 55done.\n"
     ]
    },
    {
     "name": "stderr",
     "output_type": "stream",
     "text": [
      "Warning: --score: 3 entries in\n",
      "PRScsx_Standing_Height_output/Standing_height_SAS_pst_eff_a1_b0.5_phi1e-04_chr7.txt\n",
      "were skipped due to missing variant IDs.\n"
     ]
    },
    {
     "name": "stdout",
     "output_type": "stream",
     "text": [
      "--score: 52289 variants processed.\n",
      "--score: Variant list written to scores/Standing_height_SAS_pst_eff_a1_b0.5_phi1e-04_chr7.sscore.vars .\n",
      "--score: Results written to\n",
      "scores/Standing_height_SAS_pst_eff_a1_b0.5_phi1e-04_chr7.sscore .\n",
      "End time: Thu Jun 13 16:22:51 2024\n"
     ]
    },
    {
     "name": "stderr",
     "output_type": "stream",
     "text": [
      "Copying gs://fc-secure-09b7d164-67b2-4c94-8381-4b8202619ea8/data/plink/prscsx_acaf_threshold.chr8.pgen...\n",
      "Copying gs://fc-secure-09b7d164-67b2-4c94-8381-4b8202619ea8/data/plink/prscsx_acaf_threshold.chr8.psam...\n",
      "Copying gs://fc-secure-09b7d164-67b2-4c94-8381-4b8202619ea8/data/plink/prscsx_acaf_threshold.chr8.pvar...\n",
      "| [3/3 files][  2.0 GiB/  2.0 GiB] 100% Done  38.2 MiB/s ETA 00:00:00           \n",
      "Operation completed over 3 objects/2.0 GiB.                                      \n"
     ]
    },
    {
     "name": "stdout",
     "output_type": "stream",
     "text": [
      "PLINK v2.00a6LM 64-bit Intel (16 May 2024)     www.cog-genomics.org/plink/2.0/\n",
      "(C) 2005-2024 Shaun Purcell, Christopher Chang   GNU General Public License v3\n",
      "Logging to scores/Standing_height_AFR_pst_eff_a1_b0.5_phi1e-04_chr8.log.\n",
      "Options in effect:\n",
      "  --out scores/Standing_height_AFR_pst_eff_a1_b0.5_phi1e-04_chr8\n",
      "  --pfile plink/prscsx_acaf_threshold.chr8\n",
      "  --score PRScsx_Standing_Height_output/Standing_height_AFR_pst_eff_a1_b0.5_phi1e-04_chr8.txt 2 4 6 variance-standardize list-variants\n",
      "\n",
      "Start time: Thu Jun 13 16:23:55 2024\n",
      "14998 MiB RAM detected, ~13475 available; reserving 7499 MiB for main\n",
      "workspace.\n",
      "Using up to 4 compute threads.\n",
      "245394 samples (0 females, 0 males, 245394 ambiguous; 245394 founders) loaded\n",
      "from plink/prscsx_acaf_threshold.chr8.psam.\n",
      "52444 variants loaded from plink/prscsx_acaf_threshold.chr8.pvar.\n",
      "Note: No phenotype data present.\n",
      "Calculating allele frequencies... 62done.\n"
     ]
    },
    {
     "name": "stderr",
     "output_type": "stream",
     "text": [
      "Warning: --score: 1 entry in\n",
      "PRScsx_Standing_Height_output/Standing_height_AFR_pst_eff_a1_b0.5_phi1e-04_chr8.txt\n",
      "was skipped due to a missing variant ID.\n"
     ]
    },
    {
     "name": "stdout",
     "output_type": "stream",
     "text": [
      "--score: 50462 variants processed.\n",
      "--score: Variant list written to scores/Standing_height_AFR_pst_eff_a1_b0.5_phi1e-04_chr8.sscore.vars .\n",
      "--score: Results written to\n",
      "scores/Standing_height_AFR_pst_eff_a1_b0.5_phi1e-04_chr8.sscore .\n",
      "End time: Thu Jun 13 16:24:28 2024\n",
      "PLINK v2.00a6LM 64-bit Intel (16 May 2024)     www.cog-genomics.org/plink/2.0/\n",
      "(C) 2005-2024 Shaun Purcell, Christopher Chang   GNU General Public License v3\n",
      "Logging to scores/Standing_height_AMR_pst_eff_a1_b0.5_phi1e-04_chr8.log.\n",
      "Options in effect:\n",
      "  --out scores/Standing_height_AMR_pst_eff_a1_b0.5_phi1e-04_chr8\n",
      "  --pfile plink/prscsx_acaf_threshold.chr8\n",
      "  --score PRScsx_Standing_Height_output/Standing_height_AMR_pst_eff_a1_b0.5_phi1e-04_chr8.txt 2 4 6 variance-standardize list-variants\n",
      "\n",
      "Start time: Thu Jun 13 16:24:28 2024\n",
      "14998 MiB RAM detected, ~13491 available; reserving 7499 MiB for main\n",
      "workspace.\n",
      "Using up to 4 compute threads.\n",
      "245394 samples (0 females, 0 males, 245394 ambiguous; 245394 founders) loaded\n",
      "from plink/prscsx_acaf_threshold.chr8.psam.\n",
      "52444 variants loaded from plink/prscsx_acaf_threshold.chr8.pvar.\n",
      "Note: No phenotype data present.\n",
      "Calculating allele frequencies... 62done.\n"
     ]
    },
    {
     "name": "stderr",
     "output_type": "stream",
     "text": [
      "Warning: --score: 3 entries in\n",
      "PRScsx_Standing_Height_output/Standing_height_AMR_pst_eff_a1_b0.5_phi1e-04_chr8.txt\n",
      "were skipped due to missing variant IDs.\n"
     ]
    },
    {
     "name": "stdout",
     "output_type": "stream",
     "text": [
      "--score: 49178 variants processed.\n",
      "--score: Variant list written to scores/Standing_height_AMR_pst_eff_a1_b0.5_phi1e-04_chr8.sscore.vars .\n",
      "--score: Results written to\n",
      "scores/Standing_height_AMR_pst_eff_a1_b0.5_phi1e-04_chr8.sscore .\n",
      "End time: Thu Jun 13 16:24:54 2024\n",
      "PLINK v2.00a6LM 64-bit Intel (16 May 2024)     www.cog-genomics.org/plink/2.0/\n",
      "(C) 2005-2024 Shaun Purcell, Christopher Chang   GNU General Public License v3\n",
      "Logging to scores/Standing_height_EAS_pst_eff_a1_b0.5_phi1e-04_chr8.log.\n",
      "Options in effect:\n",
      "  --out scores/Standing_height_EAS_pst_eff_a1_b0.5_phi1e-04_chr8\n",
      "  --pfile plink/prscsx_acaf_threshold.chr8\n",
      "  --score PRScsx_Standing_Height_output/Standing_height_EAS_pst_eff_a1_b0.5_phi1e-04_chr8.txt 2 4 6 variance-standardize list-variants\n",
      "\n",
      "Start time: Thu Jun 13 16:24:54 2024\n",
      "14998 MiB RAM detected, ~13509 available; reserving 7499 MiB for main\n",
      "workspace.\n",
      "Using up to 4 compute threads.\n",
      "245394 samples (0 females, 0 males, 245394 ambiguous; 245394 founders) loaded\n",
      "from plink/prscsx_acaf_threshold.chr8.psam.\n",
      "52444 variants loaded from plink/prscsx_acaf_threshold.chr8.pvar.\n",
      "Note: No phenotype data present.\n",
      "Calculating allele frequencies... 62done.\n"
     ]
    },
    {
     "name": "stderr",
     "output_type": "stream",
     "text": [
      "Warning: --score: 2 entries in\n",
      "PRScsx_Standing_Height_output/Standing_height_EAS_pst_eff_a1_b0.5_phi1e-04_chr8.txt\n",
      "were skipped due to missing variant IDs.\n"
     ]
    },
    {
     "name": "stdout",
     "output_type": "stream",
     "text": [
      "--score: 42510 variants processed.\n",
      "--score: Variant list written to scores/Standing_height_EAS_pst_eff_a1_b0.5_phi1e-04_chr8.sscore.vars .\n",
      "--score: Results written to\n",
      "scores/Standing_height_EAS_pst_eff_a1_b0.5_phi1e-04_chr8.sscore .\n",
      "End time: Thu Jun 13 16:25:14 2024\n",
      "PLINK v2.00a6LM 64-bit Intel (16 May 2024)     www.cog-genomics.org/plink/2.0/\n",
      "(C) 2005-2024 Shaun Purcell, Christopher Chang   GNU General Public License v3\n",
      "Logging to scores/Standing_height_EUR_pst_eff_a1_b0.5_phi1e-04_chr8.log.\n",
      "Options in effect:\n",
      "  --out scores/Standing_height_EUR_pst_eff_a1_b0.5_phi1e-04_chr8\n",
      "  --pfile plink/prscsx_acaf_threshold.chr8\n",
      "  --score PRScsx_Standing_Height_output/Standing_height_EUR_pst_eff_a1_b0.5_phi1e-04_chr8.txt 2 4 6 variance-standardize list-variants\n",
      "\n",
      "Start time: Thu Jun 13 16:25:15 2024\n",
      "14998 MiB RAM detected, ~13512 available; reserving 7499 MiB for main\n",
      "workspace.\n",
      "Using up to 4 compute threads.\n",
      "245394 samples (0 females, 0 males, 245394 ambiguous; 245394 founders) loaded\n",
      "from plink/prscsx_acaf_threshold.chr8.psam.\n",
      "52444 variants loaded from plink/prscsx_acaf_threshold.chr8.pvar.\n",
      "Note: No phenotype data present.\n",
      "Calculating allele frequencies... 62done.\n"
     ]
    },
    {
     "name": "stderr",
     "output_type": "stream",
     "text": [
      "Warning: --score: 3 entries in\n",
      "PRScsx_Standing_Height_output/Standing_height_EUR_pst_eff_a1_b0.5_phi1e-04_chr8.txt\n",
      "were skipped due to missing variant IDs.\n"
     ]
    },
    {
     "name": "stdout",
     "output_type": "stream",
     "text": [
      "--score: 46209 variants processed.\n",
      "--score: Variant list written to scores/Standing_height_EUR_pst_eff_a1_b0.5_phi1e-04_chr8.sscore.vars .\n",
      "--score: Results written to\n",
      "scores/Standing_height_EUR_pst_eff_a1_b0.5_phi1e-04_chr8.sscore .\n",
      "End time: Thu Jun 13 16:25:37 2024\n",
      "PLINK v2.00a6LM 64-bit Intel (16 May 2024)     www.cog-genomics.org/plink/2.0/\n",
      "(C) 2005-2024 Shaun Purcell, Christopher Chang   GNU General Public License v3\n",
      "Logging to scores/Standing_height_SAS_pst_eff_a1_b0.5_phi1e-04_chr8.log.\n",
      "Options in effect:\n",
      "  --out scores/Standing_height_SAS_pst_eff_a1_b0.5_phi1e-04_chr8\n",
      "  --pfile plink/prscsx_acaf_threshold.chr8\n",
      "  --score PRScsx_Standing_Height_output/Standing_height_SAS_pst_eff_a1_b0.5_phi1e-04_chr8.txt 2 4 6 variance-standardize list-variants\n",
      "\n",
      "Start time: Thu Jun 13 16:25:37 2024\n",
      "14998 MiB RAM detected, ~13511 available; reserving 7499 MiB for main\n",
      "workspace.\n",
      "Using up to 4 compute threads.\n",
      "245394 samples (0 females, 0 males, 245394 ambiguous; 245394 founders) loaded\n",
      "from plink/prscsx_acaf_threshold.chr8.psam.\n",
      "52444 variants loaded from plink/prscsx_acaf_threshold.chr8.pvar.\n",
      "Note: No phenotype data present.\n",
      "Calculating allele frequencies... 62done.\n"
     ]
    },
    {
     "name": "stderr",
     "output_type": "stream",
     "text": [
      "Warning: --score: 3 entries in\n",
      "PRScsx_Standing_Height_output/Standing_height_SAS_pst_eff_a1_b0.5_phi1e-04_chr8.txt\n",
      "were skipped due to missing variant IDs.\n"
     ]
    },
    {
     "name": "stdout",
     "output_type": "stream",
     "text": [
      "--score: 46731 variants processed.\n",
      "--score: Variant list written to scores/Standing_height_SAS_pst_eff_a1_b0.5_phi1e-04_chr8.sscore.vars .\n",
      "--score: Results written to\n",
      "scores/Standing_height_SAS_pst_eff_a1_b0.5_phi1e-04_chr8.sscore .\n",
      "End time: Thu Jun 13 16:25:59 2024\n"
     ]
    },
    {
     "name": "stderr",
     "output_type": "stream",
     "text": [
      "Copying gs://fc-secure-09b7d164-67b2-4c94-8381-4b8202619ea8/data/plink/prscsx_acaf_threshold.chr9.pgen...\n",
      "Copying gs://fc-secure-09b7d164-67b2-4c94-8381-4b8202619ea8/data/plink/prscsx_acaf_threshold.chr9.psam...\n",
      "Copying gs://fc-secure-09b7d164-67b2-4c94-8381-4b8202619ea8/data/plink/prscsx_acaf_threshold.chr9.pvar...\n",
      "\\ [3/3 files][  1.6 GiB/  1.6 GiB] 100% Done  31.4 MiB/s ETA 00:00:00           \n",
      "Operation completed over 3 objects/1.6 GiB.                                      \n"
     ]
    },
    {
     "name": "stdout",
     "output_type": "stream",
     "text": [
      "PLINK v2.00a6LM 64-bit Intel (16 May 2024)     www.cog-genomics.org/plink/2.0/\n",
      "(C) 2005-2024 Shaun Purcell, Christopher Chang   GNU General Public License v3\n",
      "Logging to scores/Standing_height_AFR_pst_eff_a1_b0.5_phi1e-04_chr9.log.\n",
      "Options in effect:\n",
      "  --out scores/Standing_height_AFR_pst_eff_a1_b0.5_phi1e-04_chr9\n",
      "  --pfile plink/prscsx_acaf_threshold.chr9\n",
      "  --score PRScsx_Standing_Height_output/Standing_height_AFR_pst_eff_a1_b0.5_phi1e-04_chr9.txt 2 4 6 variance-standardize list-variants\n",
      "\n",
      "Start time: Thu Jun 13 16:26:53 2024\n",
      "14998 MiB RAM detected, ~13486 available; reserving 7499 MiB for main\n",
      "workspace.\n",
      "Using up to 4 compute threads.\n",
      "245394 samples (0 females, 0 males, 245394 ambiguous; 245394 founders) loaded\n",
      "from plink/prscsx_acaf_threshold.chr9.psam.\n",
      "40574 variants loaded from plink/prscsx_acaf_threshold.chr9.pvar.\n",
      "Note: No phenotype data present.\n",
      "Calculating allele frequencies... done.\n"
     ]
    },
    {
     "name": "stderr",
     "output_type": "stream",
     "text": [
      "Warning: --score: 2 entries in\n",
      "PRScsx_Standing_Height_output/Standing_height_AFR_pst_eff_a1_b0.5_phi1e-04_chr9.txt\n",
      "were skipped due to missing variant IDs.\n"
     ]
    },
    {
     "name": "stdout",
     "output_type": "stream",
     "text": [
      "--score: 39042 variants processed.\n",
      "--score: Variant list written to scores/Standing_height_AFR_pst_eff_a1_b0.5_phi1e-04_chr9.sscore.vars .\n",
      "--score: Results written to\n",
      "scores/Standing_height_AFR_pst_eff_a1_b0.5_phi1e-04_chr9.sscore .\n",
      "End time: Thu Jun 13 16:27:11 2024\n",
      "PLINK v2.00a6LM 64-bit Intel (16 May 2024)     www.cog-genomics.org/plink/2.0/\n",
      "(C) 2005-2024 Shaun Purcell, Christopher Chang   GNU General Public License v3\n",
      "Logging to scores/Standing_height_AMR_pst_eff_a1_b0.5_phi1e-04_chr9.log.\n",
      "Options in effect:\n",
      "  --out scores/Standing_height_AMR_pst_eff_a1_b0.5_phi1e-04_chr9\n",
      "  --pfile plink/prscsx_acaf_threshold.chr9\n",
      "  --score PRScsx_Standing_Height_output/Standing_height_AMR_pst_eff_a1_b0.5_phi1e-04_chr9.txt 2 4 6 variance-standardize list-variants\n",
      "\n",
      "Start time: Thu Jun 13 16:27:12 2024\n",
      "14998 MiB RAM detected, ~13504 available; reserving 7499 MiB for main\n",
      "workspace.\n",
      "Using up to 4 compute threads.\n",
      "245394 samples (0 females, 0 males, 245394 ambiguous; 245394 founders) loaded\n",
      "from plink/prscsx_acaf_threshold.chr9.psam.\n",
      "40574 variants loaded from plink/prscsx_acaf_threshold.chr9.pvar.\n",
      "Note: No phenotype data present.\n",
      "Calculating allele frequencies... done.\n"
     ]
    },
    {
     "name": "stderr",
     "output_type": "stream",
     "text": [
      "Warning: --score: 1 entry in\n",
      "PRScsx_Standing_Height_output/Standing_height_AMR_pst_eff_a1_b0.5_phi1e-04_chr9.txt\n",
      "was skipped due to a missing variant ID.\n"
     ]
    },
    {
     "name": "stdout",
     "output_type": "stream",
     "text": [
      "--score: 38323 variants processed.\n",
      "--score: Variant list written to scores/Standing_height_AMR_pst_eff_a1_b0.5_phi1e-04_chr9.sscore.vars .\n",
      "--score: Results written to\n",
      "scores/Standing_height_AMR_pst_eff_a1_b0.5_phi1e-04_chr9.sscore .\n",
      "End time: Thu Jun 13 16:27:30 2024\n",
      "PLINK v2.00a6LM 64-bit Intel (16 May 2024)     www.cog-genomics.org/plink/2.0/\n",
      "(C) 2005-2024 Shaun Purcell, Christopher Chang   GNU General Public License v3\n",
      "Logging to scores/Standing_height_EAS_pst_eff_a1_b0.5_phi1e-04_chr9.log.\n",
      "Options in effect:\n",
      "  --out scores/Standing_height_EAS_pst_eff_a1_b0.5_phi1e-04_chr9\n",
      "  --pfile plink/prscsx_acaf_threshold.chr9\n",
      "  --score PRScsx_Standing_Height_output/Standing_height_EAS_pst_eff_a1_b0.5_phi1e-04_chr9.txt 2 4 6 variance-standardize list-variants\n",
      "\n",
      "Start time: Thu Jun 13 16:27:30 2024\n",
      "14998 MiB RAM detected, ~13501 available; reserving 7499 MiB for main\n",
      "workspace.\n",
      "Using up to 4 compute threads.\n",
      "245394 samples (0 females, 0 males, 245394 ambiguous; 245394 founders) loaded\n",
      "from plink/prscsx_acaf_threshold.chr9.psam.\n",
      "40574 variants loaded from plink/prscsx_acaf_threshold.chr9.pvar.\n",
      "Note: No phenotype data present.\n",
      "Calculating allele frequencies... done.\n"
     ]
    },
    {
     "name": "stderr",
     "output_type": "stream",
     "text": [
      "Warning: --score: 1 entry in\n",
      "PRScsx_Standing_Height_output/Standing_height_EAS_pst_eff_a1_b0.5_phi1e-04_chr9.txt\n",
      "was skipped due to a missing variant ID.\n"
     ]
    },
    {
     "name": "stdout",
     "output_type": "stream",
     "text": [
      "--score: 33298 variants processed.\n",
      "--score: Variant list written to scores/Standing_height_EAS_pst_eff_a1_b0.5_phi1e-04_chr9.sscore.vars .\n",
      "--score: Results written to\n",
      "scores/Standing_height_EAS_pst_eff_a1_b0.5_phi1e-04_chr9.sscore .\n",
      "End time: Thu Jun 13 16:27:46 2024\n",
      "PLINK v2.00a6LM 64-bit Intel (16 May 2024)     www.cog-genomics.org/plink/2.0/\n",
      "(C) 2005-2024 Shaun Purcell, Christopher Chang   GNU General Public License v3\n",
      "Logging to scores/Standing_height_EUR_pst_eff_a1_b0.5_phi1e-04_chr9.log.\n",
      "Options in effect:\n",
      "  --out scores/Standing_height_EUR_pst_eff_a1_b0.5_phi1e-04_chr9\n",
      "  --pfile plink/prscsx_acaf_threshold.chr9\n",
      "  --score PRScsx_Standing_Height_output/Standing_height_EUR_pst_eff_a1_b0.5_phi1e-04_chr9.txt 2 4 6 variance-standardize list-variants\n",
      "\n",
      "Start time: Thu Jun 13 16:27:46 2024\n",
      "14998 MiB RAM detected, ~13492 available; reserving 7499 MiB for main\n",
      "workspace.\n",
      "Using up to 4 compute threads.\n",
      "245394 samples (0 females, 0 males, 245394 ambiguous; 245394 founders) loaded\n",
      "from plink/prscsx_acaf_threshold.chr9.psam.\n",
      "40574 variants loaded from plink/prscsx_acaf_threshold.chr9.pvar.\n",
      "Note: No phenotype data present.\n",
      "Calculating allele frequencies... done.\n"
     ]
    },
    {
     "name": "stderr",
     "output_type": "stream",
     "text": [
      "Warning: --score: 1 entry in\n",
      "PRScsx_Standing_Height_output/Standing_height_EUR_pst_eff_a1_b0.5_phi1e-04_chr9.txt\n",
      "was skipped due to a missing variant ID.\n"
     ]
    },
    {
     "name": "stdout",
     "output_type": "stream",
     "text": [
      "--score: 35984 variants processed.\n",
      "--score: Variant list written to scores/Standing_height_EUR_pst_eff_a1_b0.5_phi1e-04_chr9.sscore.vars .\n",
      "--score: Results written to\n",
      "scores/Standing_height_EUR_pst_eff_a1_b0.5_phi1e-04_chr9.sscore .\n",
      "End time: Thu Jun 13 16:28:04 2024\n",
      "PLINK v2.00a6LM 64-bit Intel (16 May 2024)     www.cog-genomics.org/plink/2.0/\n",
      "(C) 2005-2024 Shaun Purcell, Christopher Chang   GNU General Public License v3\n",
      "Logging to scores/Standing_height_SAS_pst_eff_a1_b0.5_phi1e-04_chr9.log.\n",
      "Options in effect:\n",
      "  --out scores/Standing_height_SAS_pst_eff_a1_b0.5_phi1e-04_chr9\n",
      "  --pfile plink/prscsx_acaf_threshold.chr9\n",
      "  --score PRScsx_Standing_Height_output/Standing_height_SAS_pst_eff_a1_b0.5_phi1e-04_chr9.txt 2 4 6 variance-standardize list-variants\n",
      "\n",
      "Start time: Thu Jun 13 16:28:04 2024\n",
      "14998 MiB RAM detected, ~13509 available; reserving 7499 MiB for main\n",
      "workspace.\n",
      "Using up to 4 compute threads.\n",
      "245394 samples (0 females, 0 males, 245394 ambiguous; 245394 founders) loaded\n",
      "from plink/prscsx_acaf_threshold.chr9.psam.\n",
      "40574 variants loaded from plink/prscsx_acaf_threshold.chr9.pvar.\n",
      "Note: No phenotype data present.\n",
      "Calculating allele frequencies... done.\n"
     ]
    },
    {
     "name": "stderr",
     "output_type": "stream",
     "text": [
      "Warning: --score: 1 entry in\n",
      "PRScsx_Standing_Height_output/Standing_height_SAS_pst_eff_a1_b0.5_phi1e-04_chr9.txt\n",
      "was skipped due to a missing variant ID.\n"
     ]
    },
    {
     "name": "stdout",
     "output_type": "stream",
     "text": [
      "--score: 36401 variants processed.\n",
      "--score: Variant list written to scores/Standing_height_SAS_pst_eff_a1_b0.5_phi1e-04_chr9.sscore.vars .\n",
      "--score: Results written to\n",
      "scores/Standing_height_SAS_pst_eff_a1_b0.5_phi1e-04_chr9.sscore .\n",
      "End time: Thu Jun 13 16:28:22 2024\n"
     ]
    },
    {
     "name": "stderr",
     "output_type": "stream",
     "text": [
      "Copying gs://fc-secure-09b7d164-67b2-4c94-8381-4b8202619ea8/data/plink/prscsx_acaf_threshold.chr10.psam...\n",
      "Copying gs://fc-secure-09b7d164-67b2-4c94-8381-4b8202619ea8/data/plink/prscsx_acaf_threshold.chr10.pgen...\n",
      "Copying gs://fc-secure-09b7d164-67b2-4c94-8381-4b8202619ea8/data/plink/prscsx_acaf_threshold.chr10.pvar...\n",
      "| [3/3 files][  1.9 GiB/  1.9 GiB] 100% Done  34.8 MiB/s ETA 00:00:00           \n",
      "Operation completed over 3 objects/1.9 GiB.                                      \n"
     ]
    },
    {
     "name": "stdout",
     "output_type": "stream",
     "text": [
      "PLINK v2.00a6LM 64-bit Intel (16 May 2024)     www.cog-genomics.org/plink/2.0/\n",
      "(C) 2005-2024 Shaun Purcell, Christopher Chang   GNU General Public License v3\n",
      "Logging to scores/Standing_height_AFR_pst_eff_a1_b0.5_phi1e-04_chr10.log.\n",
      "Options in effect:\n",
      "  --out scores/Standing_height_AFR_pst_eff_a1_b0.5_phi1e-04_chr10\n",
      "  --pfile plink/prscsx_acaf_threshold.chr10\n",
      "  --score PRScsx_Standing_Height_output/Standing_height_AFR_pst_eff_a1_b0.5_phi1e-04_chr10.txt 2 4 6 variance-standardize list-variants\n",
      "\n",
      "Start time: Thu Jun 13 16:29:20 2024\n",
      "14998 MiB RAM detected, ~13478 available; reserving 7499 MiB for main\n",
      "workspace.\n",
      "Using up to 4 compute threads.\n",
      "245394 samples (0 females, 0 males, 245394 ambiguous; 245394 founders) loaded\n",
      "from plink/prscsx_acaf_threshold.chr10.psam.\n",
      "49392 variants loaded from plink/prscsx_acaf_threshold.chr10.pvar.\n",
      "Note: No phenotype data present.\n",
      "Calculating allele frequencies... 66done.\n"
     ]
    },
    {
     "name": "stderr",
     "output_type": "stream",
     "text": [
      "Warning: --score: 6 entries in\n",
      "PRScsx_Standing_Height_output/Standing_height_AFR_pst_eff_a1_b0.5_phi1e-04_chr10.txt\n",
      "were skipped due to missing variant IDs.\n"
     ]
    },
    {
     "name": "stdout",
     "output_type": "stream",
     "text": [
      "--score: 47299 variants processed.\n",
      "--score: Variant list written to scores/Standing_height_AFR_pst_eff_a1_b0.5_phi1e-04_chr10.sscore.vars .\n",
      "--score: Results written to\n",
      "scores/Standing_height_AFR_pst_eff_a1_b0.5_phi1e-04_chr10.sscore .\n",
      "End time: Thu Jun 13 16:29:50 2024\n",
      "PLINK v2.00a6LM 64-bit Intel (16 May 2024)     www.cog-genomics.org/plink/2.0/\n",
      "(C) 2005-2024 Shaun Purcell, Christopher Chang   GNU General Public License v3\n",
      "Logging to scores/Standing_height_AMR_pst_eff_a1_b0.5_phi1e-04_chr10.log.\n",
      "Options in effect:\n",
      "  --out scores/Standing_height_AMR_pst_eff_a1_b0.5_phi1e-04_chr10\n",
      "  --pfile plink/prscsx_acaf_threshold.chr10\n",
      "  --score PRScsx_Standing_Height_output/Standing_height_AMR_pst_eff_a1_b0.5_phi1e-04_chr10.txt 2 4 6 variance-standardize list-variants\n",
      "\n",
      "Start time: Thu Jun 13 16:29:51 2024\n",
      "14998 MiB RAM detected, ~13508 available; reserving 7499 MiB for main\n",
      "workspace.\n",
      "Using up to 4 compute threads.\n",
      "245394 samples (0 females, 0 males, 245394 ambiguous; 245394 founders) loaded\n",
      "from plink/prscsx_acaf_threshold.chr10.psam.\n",
      "49392 variants loaded from plink/prscsx_acaf_threshold.chr10.pvar.\n",
      "Note: No phenotype data present.\n",
      "Calculating allele frequencies... 66done.\n"
     ]
    },
    {
     "name": "stderr",
     "output_type": "stream",
     "text": [
      "Warning: --score: 4 entries in\n",
      "PRScsx_Standing_Height_output/Standing_height_AMR_pst_eff_a1_b0.5_phi1e-04_chr10.txt\n",
      "were skipped due to missing variant IDs.\n"
     ]
    },
    {
     "name": "stdout",
     "output_type": "stream",
     "text": [
      "--score: 46525 variants processed.\n",
      "--score: Variant list written to scores/Standing_height_AMR_pst_eff_a1_b0.5_phi1e-04_chr10.sscore.vars .\n",
      "--score: Results written to\n",
      "scores/Standing_height_AMR_pst_eff_a1_b0.5_phi1e-04_chr10.sscore .\n",
      "End time: Thu Jun 13 16:30:18 2024\n",
      "PLINK v2.00a6LM 64-bit Intel (16 May 2024)     www.cog-genomics.org/plink/2.0/\n",
      "(C) 2005-2024 Shaun Purcell, Christopher Chang   GNU General Public License v3\n",
      "Logging to scores/Standing_height_EAS_pst_eff_a1_b0.5_phi1e-04_chr10.log.\n",
      "Options in effect:\n",
      "  --out scores/Standing_height_EAS_pst_eff_a1_b0.5_phi1e-04_chr10\n",
      "  --pfile plink/prscsx_acaf_threshold.chr10\n",
      "  --score PRScsx_Standing_Height_output/Standing_height_EAS_pst_eff_a1_b0.5_phi1e-04_chr10.txt 2 4 6 variance-standardize list-variants\n",
      "\n",
      "Start time: Thu Jun 13 16:30:18 2024\n",
      "14998 MiB RAM detected, ~13506 available; reserving 7499 MiB for main\n",
      "workspace.\n",
      "Using up to 4 compute threads.\n",
      "245394 samples (0 females, 0 males, 245394 ambiguous; 245394 founders) loaded\n",
      "from plink/prscsx_acaf_threshold.chr10.psam.\n",
      "49392 variants loaded from plink/prscsx_acaf_threshold.chr10.pvar.\n",
      "Note: No phenotype data present.\n",
      "Calculating allele frequencies... 66done.\n"
     ]
    },
    {
     "name": "stderr",
     "output_type": "stream",
     "text": [
      "Warning: --score: 4 entries in\n",
      "PRScsx_Standing_Height_output/Standing_height_EAS_pst_eff_a1_b0.5_phi1e-04_chr10.txt\n",
      "were skipped due to missing variant IDs.\n"
     ]
    },
    {
     "name": "stdout",
     "output_type": "stream",
     "text": [
      "--score: 40368 variants processed.\n",
      "--score: Variant list written to scores/Standing_height_EAS_pst_eff_a1_b0.5_phi1e-04_chr10.sscore.vars .\n",
      "--score: Results written to\n",
      "scores/Standing_height_EAS_pst_eff_a1_b0.5_phi1e-04_chr10.sscore .\n",
      "End time: Thu Jun 13 16:30:37 2024\n",
      "PLINK v2.00a6LM 64-bit Intel (16 May 2024)     www.cog-genomics.org/plink/2.0/\n",
      "(C) 2005-2024 Shaun Purcell, Christopher Chang   GNU General Public License v3\n",
      "Logging to scores/Standing_height_EUR_pst_eff_a1_b0.5_phi1e-04_chr10.log.\n",
      "Options in effect:\n",
      "  --out scores/Standing_height_EUR_pst_eff_a1_b0.5_phi1e-04_chr10\n",
      "  --pfile plink/prscsx_acaf_threshold.chr10\n",
      "  --score PRScsx_Standing_Height_output/Standing_height_EUR_pst_eff_a1_b0.5_phi1e-04_chr10.txt 2 4 6 variance-standardize list-variants\n",
      "\n",
      "Start time: Thu Jun 13 16:30:37 2024\n",
      "14998 MiB RAM detected, ~13497 available; reserving 7499 MiB for main\n",
      "workspace.\n",
      "Using up to 4 compute threads.\n",
      "245394 samples (0 females, 0 males, 245394 ambiguous; 245394 founders) loaded\n",
      "from plink/prscsx_acaf_threshold.chr10.psam.\n",
      "49392 variants loaded from plink/prscsx_acaf_threshold.chr10.pvar.\n",
      "Note: No phenotype data present.\n",
      "Calculating allele frequencies... 66done.\n"
     ]
    },
    {
     "name": "stderr",
     "output_type": "stream",
     "text": [
      "Warning: --score: 4 entries in\n",
      "PRScsx_Standing_Height_output/Standing_height_EUR_pst_eff_a1_b0.5_phi1e-04_chr10.txt\n",
      "were skipped due to missing variant IDs.\n"
     ]
    },
    {
     "name": "stdout",
     "output_type": "stream",
     "text": [
      "--score: 43652 variants processed.\n",
      "--score: Variant list written to scores/Standing_height_EUR_pst_eff_a1_b0.5_phi1e-04_chr10.sscore.vars .\n",
      "--score: Results written to\n",
      "scores/Standing_height_EUR_pst_eff_a1_b0.5_phi1e-04_chr10.sscore .\n",
      "End time: Thu Jun 13 16:30:58 2024\n",
      "PLINK v2.00a6LM 64-bit Intel (16 May 2024)     www.cog-genomics.org/plink/2.0/\n",
      "(C) 2005-2024 Shaun Purcell, Christopher Chang   GNU General Public License v3\n",
      "Logging to scores/Standing_height_SAS_pst_eff_a1_b0.5_phi1e-04_chr10.log.\n",
      "Options in effect:\n",
      "  --out scores/Standing_height_SAS_pst_eff_a1_b0.5_phi1e-04_chr10\n",
      "  --pfile plink/prscsx_acaf_threshold.chr10\n",
      "  --score PRScsx_Standing_Height_output/Standing_height_SAS_pst_eff_a1_b0.5_phi1e-04_chr10.txt 2 4 6 variance-standardize list-variants\n",
      "\n",
      "Start time: Thu Jun 13 16:30:58 2024\n",
      "14998 MiB RAM detected, ~13504 available; reserving 7499 MiB for main\n",
      "workspace.\n",
      "Using up to 4 compute threads.\n",
      "245394 samples (0 females, 0 males, 245394 ambiguous; 245394 founders) loaded\n",
      "from plink/prscsx_acaf_threshold.chr10.psam.\n",
      "49392 variants loaded from plink/prscsx_acaf_threshold.chr10.pvar.\n",
      "Note: No phenotype data present.\n",
      "Calculating allele frequencies... 66done.\n"
     ]
    },
    {
     "name": "stderr",
     "output_type": "stream",
     "text": [
      "Warning: --score: 4 entries in\n",
      "PRScsx_Standing_Height_output/Standing_height_SAS_pst_eff_a1_b0.5_phi1e-04_chr10.txt\n",
      "were skipped due to missing variant IDs.\n"
     ]
    },
    {
     "name": "stdout",
     "output_type": "stream",
     "text": [
      "--score: 44075 variants processed.\n",
      "--score: Variant list written to scores/Standing_height_SAS_pst_eff_a1_b0.5_phi1e-04_chr10.sscore.vars .\n",
      "--score: Results written to\n",
      "scores/Standing_height_SAS_pst_eff_a1_b0.5_phi1e-04_chr10.sscore .\n",
      "End time: Thu Jun 13 16:31:20 2024\n"
     ]
    },
    {
     "name": "stderr",
     "output_type": "stream",
     "text": [
      "Copying gs://fc-secure-09b7d164-67b2-4c94-8381-4b8202619ea8/data/plink/prscsx_acaf_threshold.chr11.pvar...\n",
      "Copying gs://fc-secure-09b7d164-67b2-4c94-8381-4b8202619ea8/data/plink/prscsx_acaf_threshold.chr11.psam...\n",
      "Copying gs://fc-secure-09b7d164-67b2-4c94-8381-4b8202619ea8/data/plink/prscsx_acaf_threshold.chr11.pgen...\n",
      "\\ [3/3 files][  2.3 GiB/  2.3 GiB] 100% Done  33.1 MiB/s ETA 00:00:00           \n",
      "Operation completed over 3 objects/2.3 GiB.                                      \n"
     ]
    },
    {
     "name": "stdout",
     "output_type": "stream",
     "text": [
      "PLINK v2.00a6LM 64-bit Intel (16 May 2024)     www.cog-genomics.org/plink/2.0/\n",
      "(C) 2005-2024 Shaun Purcell, Christopher Chang   GNU General Public License v3\n",
      "Logging to scores/Standing_height_AFR_pst_eff_a1_b0.5_phi1e-04_chr11.log.\n",
      "Options in effect:\n",
      "  --out scores/Standing_height_AFR_pst_eff_a1_b0.5_phi1e-04_chr11\n",
      "  --pfile plink/prscsx_acaf_threshold.chr11\n",
      "  --score PRScsx_Standing_Height_output/Standing_height_AFR_pst_eff_a1_b0.5_phi1e-04_chr11.txt 2 4 6 variance-standardize list-variants\n",
      "\n",
      "Start time: Thu Jun 13 16:32:35 2024\n",
      "14998 MiB RAM detected, ~13469 available; reserving 7499 MiB for main\n",
      "workspace.\n",
      "Using up to 4 compute threads.\n",
      "245394 samples (0 females, 0 males, 245394 ambiguous; 245394 founders) loaded\n",
      "from plink/prscsx_acaf_threshold.chr11.psam.\n",
      "60572 variants loaded from plink/prscsx_acaf_threshold.chr11.pvar.\n",
      "Note: No phenotype data present.\n",
      "Calculating allele frequencies... 54done.\n"
     ]
    },
    {
     "name": "stderr",
     "output_type": "stream",
     "text": [
      "Warning: --score: 1 entry in\n",
      "PRScsx_Standing_Height_output/Standing_height_AFR_pst_eff_a1_b0.5_phi1e-04_chr11.txt\n",
      "was skipped due to a missing variant ID.\n"
     ]
    },
    {
     "name": "stdout",
     "output_type": "stream",
     "text": [
      "--score: 58191 variants processed.\n",
      "--score: Variant list written to scores/Standing_height_AFR_pst_eff_a1_b0.5_phi1e-04_chr11.sscore.vars .\n",
      "--score: Results written to\n",
      "scores/Standing_height_AFR_pst_eff_a1_b0.5_phi1e-04_chr11.sscore .\n",
      "End time: Thu Jun 13 16:33:20 2024\n",
      "PLINK v2.00a6LM 64-bit Intel (16 May 2024)     www.cog-genomics.org/plink/2.0/\n",
      "(C) 2005-2024 Shaun Purcell, Christopher Chang   GNU General Public License v3\n",
      "Logging to scores/Standing_height_AMR_pst_eff_a1_b0.5_phi1e-04_chr11.log.\n",
      "Options in effect:\n",
      "  --out scores/Standing_height_AMR_pst_eff_a1_b0.5_phi1e-04_chr11\n",
      "  --pfile plink/prscsx_acaf_threshold.chr11\n",
      "  --score PRScsx_Standing_Height_output/Standing_height_AMR_pst_eff_a1_b0.5_phi1e-04_chr11.txt 2 4 6 variance-standardize list-variants\n",
      "\n",
      "Start time: Thu Jun 13 16:33:20 2024\n",
      "14998 MiB RAM detected, ~13498 available; reserving 7499 MiB for main\n",
      "workspace.\n",
      "Using up to 4 compute threads.\n",
      "245394 samples (0 females, 0 males, 245394 ambiguous; 245394 founders) loaded\n",
      "from plink/prscsx_acaf_threshold.chr11.psam.\n",
      "60572 variants loaded from plink/prscsx_acaf_threshold.chr11.pvar.\n",
      "Note: No phenotype data present.\n",
      "Calculating allele frequencies... 54done.\n",
      "--score: 56592 variants processed.\n",
      "--score: Variant list written to scores/Standing_height_AMR_pst_eff_a1_b0.5_phi1e-04_chr11.sscore.vars .\n",
      "--score: Results written to\n",
      "scores/Standing_height_AMR_pst_eff_a1_b0.5_phi1e-04_chr11.sscore .\n",
      "End time: Thu Jun 13 16:33:47 2024\n",
      "PLINK v2.00a6LM 64-bit Intel (16 May 2024)     www.cog-genomics.org/plink/2.0/\n",
      "(C) 2005-2024 Shaun Purcell, Christopher Chang   GNU General Public License v3\n",
      "Logging to scores/Standing_height_EAS_pst_eff_a1_b0.5_phi1e-04_chr11.log.\n",
      "Options in effect:\n",
      "  --out scores/Standing_height_EAS_pst_eff_a1_b0.5_phi1e-04_chr11\n",
      "  --pfile plink/prscsx_acaf_threshold.chr11\n",
      "  --score PRScsx_Standing_Height_output/Standing_height_EAS_pst_eff_a1_b0.5_phi1e-04_chr11.txt 2 4 6 variance-standardize list-variants\n",
      "\n",
      "Start time: Thu Jun 13 16:33:47 2024\n",
      "14998 MiB RAM detected, ~13498 available; reserving 7499 MiB for main\n",
      "workspace.\n",
      "Using up to 4 compute threads.\n",
      "245394 samples (0 females, 0 males, 245394 ambiguous; 245394 founders) loaded\n",
      "from plink/prscsx_acaf_threshold.chr11.psam.\n",
      "60572 variants loaded from plink/prscsx_acaf_threshold.chr11.pvar.\n",
      "Note: No phenotype data present.\n",
      "Calculating allele frequencies... 54done.\n",
      "--score: 48996 variants processed.\n",
      "--score: Variant list written to scores/Standing_height_EAS_pst_eff_a1_b0.5_phi1e-04_chr11.sscore.vars .\n",
      "--score: Results written to\n",
      "scores/Standing_height_EAS_pst_eff_a1_b0.5_phi1e-04_chr11.sscore .\n",
      "End time: Thu Jun 13 16:34:11 2024\n",
      "PLINK v2.00a6LM 64-bit Intel (16 May 2024)     www.cog-genomics.org/plink/2.0/\n",
      "(C) 2005-2024 Shaun Purcell, Christopher Chang   GNU General Public License v3\n",
      "Logging to scores/Standing_height_EUR_pst_eff_a1_b0.5_phi1e-04_chr11.log.\n",
      "Options in effect:\n",
      "  --out scores/Standing_height_EUR_pst_eff_a1_b0.5_phi1e-04_chr11\n",
      "  --pfile plink/prscsx_acaf_threshold.chr11\n",
      "  --score PRScsx_Standing_Height_output/Standing_height_EUR_pst_eff_a1_b0.5_phi1e-04_chr11.txt 2 4 6 variance-standardize list-variants\n",
      "\n",
      "Start time: Thu Jun 13 16:34:11 2024\n",
      "14998 MiB RAM detected, ~13492 available; reserving 7499 MiB for main\n",
      "workspace.\n",
      "Using up to 4 compute threads.\n",
      "245394 samples (0 females, 0 males, 245394 ambiguous; 245394 founders) loaded\n",
      "from plink/prscsx_acaf_threshold.chr11.psam.\n",
      "60572 variants loaded from plink/prscsx_acaf_threshold.chr11.pvar.\n",
      "Note: No phenotype data present.\n",
      "Calculating allele frequencies... 54done.\n",
      "--score: 52705 variants processed.\n",
      "--score: Variant list written to scores/Standing_height_EUR_pst_eff_a1_b0.5_phi1e-04_chr11.sscore.vars .\n",
      "--score: Results written to\n",
      "scores/Standing_height_EUR_pst_eff_a1_b0.5_phi1e-04_chr11.sscore .\n",
      "End time: Thu Jun 13 16:34:36 2024\n",
      "PLINK v2.00a6LM 64-bit Intel (16 May 2024)     www.cog-genomics.org/plink/2.0/\n",
      "(C) 2005-2024 Shaun Purcell, Christopher Chang   GNU General Public License v3\n",
      "Logging to scores/Standing_height_SAS_pst_eff_a1_b0.5_phi1e-04_chr11.log.\n",
      "Options in effect:\n",
      "  --out scores/Standing_height_SAS_pst_eff_a1_b0.5_phi1e-04_chr11\n",
      "  --pfile plink/prscsx_acaf_threshold.chr11\n",
      "  --score PRScsx_Standing_Height_output/Standing_height_SAS_pst_eff_a1_b0.5_phi1e-04_chr11.txt 2 4 6 variance-standardize list-variants\n",
      "\n",
      "Start time: Thu Jun 13 16:34:36 2024\n",
      "14998 MiB RAM detected, ~13504 available; reserving 7499 MiB for main\n",
      "workspace.\n",
      "Using up to 4 compute threads.\n",
      "245394 samples (0 females, 0 males, 245394 ambiguous; 245394 founders) loaded\n",
      "from plink/prscsx_acaf_threshold.chr11.psam.\n",
      "60572 variants loaded from plink/prscsx_acaf_threshold.chr11.pvar.\n",
      "Note: No phenotype data present.\n",
      "Calculating allele frequencies... 54done.\n",
      "--score: 53170 variants processed.\n",
      "--score: Variant list written to scores/Standing_height_SAS_pst_eff_a1_b0.5_phi1e-04_chr11.sscore.vars .\n",
      "--score: Results written to\n",
      "scores/Standing_height_SAS_pst_eff_a1_b0.5_phi1e-04_chr11.sscore .\n",
      "End time: Thu Jun 13 16:35:02 2024\n"
     ]
    },
    {
     "name": "stderr",
     "output_type": "stream",
     "text": [
      "Copying gs://fc-secure-09b7d164-67b2-4c94-8381-4b8202619ea8/data/plink/prscsx_acaf_threshold.chr12.pgen...\n",
      "Copying gs://fc-secure-09b7d164-67b2-4c94-8381-4b8202619ea8/data/plink/prscsx_acaf_threshold.chr12.psam...\n",
      "Copying gs://fc-secure-09b7d164-67b2-4c94-8381-4b8202619ea8/data/plink/prscsx_acaf_threshold.chr12.pvar...\n",
      "\\ [3/3 files][  2.2 GiB/  2.2 GiB] 100% Done  33.4 MiB/s ETA 00:00:00           \n",
      "Operation completed over 3 objects/2.2 GiB.                                      \n"
     ]
    },
    {
     "name": "stdout",
     "output_type": "stream",
     "text": [
      "PLINK v2.00a6LM 64-bit Intel (16 May 2024)     www.cog-genomics.org/plink/2.0/\n",
      "(C) 2005-2024 Shaun Purcell, Christopher Chang   GNU General Public License v3\n",
      "Logging to scores/Standing_height_AFR_pst_eff_a1_b0.5_phi1e-04_chr12.log.\n",
      "Options in effect:\n",
      "  --out scores/Standing_height_AFR_pst_eff_a1_b0.5_phi1e-04_chr12\n",
      "  --pfile plink/prscsx_acaf_threshold.chr12\n",
      "  --score PRScsx_Standing_Height_output/Standing_height_AFR_pst_eff_a1_b0.5_phi1e-04_chr12.txt 2 4 6 variance-standardize list-variants\n",
      "\n",
      "Start time: Thu Jun 13 16:36:17 2024\n",
      "14998 MiB RAM detected, ~13484 available; reserving 7499 MiB for main\n",
      "workspace.\n",
      "Using up to 4 compute threads.\n",
      "245394 samples (0 females, 0 males, 245394 ambiguous; 245394 founders) loaded\n",
      "from plink/prscsx_acaf_threshold.chr12.psam.\n",
      "60132 variants loaded from plink/prscsx_acaf_threshold.chr12.pvar.\n",
      "Note: No phenotype data present.\n",
      "Calculating allele frequencies... 54done.\n"
     ]
    },
    {
     "name": "stderr",
     "output_type": "stream",
     "text": [
      "Warning: --score: 11 entries in\n",
      "PRScsx_Standing_Height_output/Standing_height_AFR_pst_eff_a1_b0.5_phi1e-04_chr12.txt\n",
      "were skipped due to missing variant IDs.\n"
     ]
    },
    {
     "name": "stdout",
     "output_type": "stream",
     "text": [
      "--score: 57175 variants processed.\n",
      "--score: Variant list written to scores/Standing_height_AFR_pst_eff_a1_b0.5_phi1e-04_chr12.sscore.vars .\n",
      "--score: Results written to\n",
      "scores/Standing_height_AFR_pst_eff_a1_b0.5_phi1e-04_chr12.sscore .\n",
      "End time: Thu Jun 13 16:36:44 2024\n",
      "PLINK v2.00a6LM 64-bit Intel (16 May 2024)     www.cog-genomics.org/plink/2.0/\n",
      "(C) 2005-2024 Shaun Purcell, Christopher Chang   GNU General Public License v3\n",
      "Logging to scores/Standing_height_AMR_pst_eff_a1_b0.5_phi1e-04_chr12.log.\n",
      "Options in effect:\n",
      "  --out scores/Standing_height_AMR_pst_eff_a1_b0.5_phi1e-04_chr12\n",
      "  --pfile plink/prscsx_acaf_threshold.chr12\n",
      "  --score PRScsx_Standing_Height_output/Standing_height_AMR_pst_eff_a1_b0.5_phi1e-04_chr12.txt 2 4 6 variance-standardize list-variants\n",
      "\n",
      "Start time: Thu Jun 13 16:36:44 2024\n",
      "14998 MiB RAM detected, ~13491 available; reserving 7499 MiB for main\n",
      "workspace.\n",
      "Using up to 4 compute threads.\n",
      "245394 samples (0 females, 0 males, 245394 ambiguous; 245394 founders) loaded\n",
      "from plink/prscsx_acaf_threshold.chr12.psam.\n",
      "60132 variants loaded from plink/prscsx_acaf_threshold.chr12.pvar.\n",
      "Note: No phenotype data present.\n",
      "Calculating allele frequencies... 54done.\n"
     ]
    },
    {
     "name": "stderr",
     "output_type": "stream",
     "text": [
      "Warning: --score: 11 entries in\n",
      "PRScsx_Standing_Height_output/Standing_height_AMR_pst_eff_a1_b0.5_phi1e-04_chr12.txt\n",
      "were skipped due to missing variant IDs.\n"
     ]
    },
    {
     "name": "stdout",
     "output_type": "stream",
     "text": [
      "--score: 56277 variants processed.\n",
      "--score: Variant list written to scores/Standing_height_AMR_pst_eff_a1_b0.5_phi1e-04_chr12.sscore.vars .\n",
      "--score: Results written to\n",
      "scores/Standing_height_AMR_pst_eff_a1_b0.5_phi1e-04_chr12.sscore .\n",
      "End time: Thu Jun 13 16:37:11 2024\n",
      "PLINK v2.00a6LM 64-bit Intel (16 May 2024)     www.cog-genomics.org/plink/2.0/\n",
      "(C) 2005-2024 Shaun Purcell, Christopher Chang   GNU General Public License v3\n",
      "Logging to scores/Standing_height_EAS_pst_eff_a1_b0.5_phi1e-04_chr12.log.\n",
      "Options in effect:\n",
      "  --out scores/Standing_height_EAS_pst_eff_a1_b0.5_phi1e-04_chr12\n",
      "  --pfile plink/prscsx_acaf_threshold.chr12\n",
      "  --score PRScsx_Standing_Height_output/Standing_height_EAS_pst_eff_a1_b0.5_phi1e-04_chr12.txt 2 4 6 variance-standardize list-variants\n",
      "\n",
      "Start time: Thu Jun 13 16:37:11 2024\n",
      "14998 MiB RAM detected, ~13495 available; reserving 7499 MiB for main\n",
      "workspace.\n",
      "Using up to 4 compute threads.\n",
      "245394 samples (0 females, 0 males, 245394 ambiguous; 245394 founders) loaded\n",
      "from plink/prscsx_acaf_threshold.chr12.psam.\n",
      "60132 variants loaded from plink/prscsx_acaf_threshold.chr12.pvar.\n",
      "Note: No phenotype data present.\n",
      "Calculating allele frequencies... 54done.\n"
     ]
    },
    {
     "name": "stderr",
     "output_type": "stream",
     "text": [
      "Warning: --score: 10 entries in\n",
      "PRScsx_Standing_Height_output/Standing_height_EAS_pst_eff_a1_b0.5_phi1e-04_chr12.txt\n",
      "were skipped due to missing variant IDs.\n"
     ]
    },
    {
     "name": "stdout",
     "output_type": "stream",
     "text": [
      "--score: 48611 variants processed.\n",
      "--score: Variant list written to scores/Standing_height_EAS_pst_eff_a1_b0.5_phi1e-04_chr12.sscore.vars .\n",
      "--score: Results written to\n",
      "scores/Standing_height_EAS_pst_eff_a1_b0.5_phi1e-04_chr12.sscore .\n",
      "End time: Thu Jun 13 16:37:34 2024\n",
      "PLINK v2.00a6LM 64-bit Intel (16 May 2024)     www.cog-genomics.org/plink/2.0/\n",
      "(C) 2005-2024 Shaun Purcell, Christopher Chang   GNU General Public License v3\n",
      "Logging to scores/Standing_height_EUR_pst_eff_a1_b0.5_phi1e-04_chr12.log.\n",
      "Options in effect:\n",
      "  --out scores/Standing_height_EUR_pst_eff_a1_b0.5_phi1e-04_chr12\n",
      "  --pfile plink/prscsx_acaf_threshold.chr12\n",
      "  --score PRScsx_Standing_Height_output/Standing_height_EUR_pst_eff_a1_b0.5_phi1e-04_chr12.txt 2 4 6 variance-standardize list-variants\n",
      "\n",
      "Start time: Thu Jun 13 16:37:34 2024\n",
      "14998 MiB RAM detected, ~13492 available; reserving 7499 MiB for main\n",
      "workspace.\n",
      "Using up to 4 compute threads.\n",
      "245394 samples (0 females, 0 males, 245394 ambiguous; 245394 founders) loaded\n",
      "from plink/prscsx_acaf_threshold.chr12.psam.\n",
      "60132 variants loaded from plink/prscsx_acaf_threshold.chr12.pvar.\n",
      "Note: No phenotype data present.\n",
      "Calculating allele frequencies... 54done.\n"
     ]
    },
    {
     "name": "stderr",
     "output_type": "stream",
     "text": [
      "Warning: --score: 10 entries in\n",
      "PRScsx_Standing_Height_output/Standing_height_EUR_pst_eff_a1_b0.5_phi1e-04_chr12.txt\n",
      "were skipped due to missing variant IDs.\n"
     ]
    },
    {
     "name": "stdout",
     "output_type": "stream",
     "text": [
      "--score: 51856 variants processed.\n",
      "--score: Variant list written to scores/Standing_height_EUR_pst_eff_a1_b0.5_phi1e-04_chr12.sscore.vars .\n",
      "--score: Results written to\n",
      "scores/Standing_height_EUR_pst_eff_a1_b0.5_phi1e-04_chr12.sscore .\n",
      "End time: Thu Jun 13 16:37:59 2024\n",
      "PLINK v2.00a6LM 64-bit Intel (16 May 2024)     www.cog-genomics.org/plink/2.0/\n",
      "(C) 2005-2024 Shaun Purcell, Christopher Chang   GNU General Public License v3\n",
      "Logging to scores/Standing_height_SAS_pst_eff_a1_b0.5_phi1e-04_chr12.log.\n",
      "Options in effect:\n",
      "  --out scores/Standing_height_SAS_pst_eff_a1_b0.5_phi1e-04_chr12\n",
      "  --pfile plink/prscsx_acaf_threshold.chr12\n",
      "  --score PRScsx_Standing_Height_output/Standing_height_SAS_pst_eff_a1_b0.5_phi1e-04_chr12.txt 2 4 6 variance-standardize list-variants\n",
      "\n",
      "Start time: Thu Jun 13 16:38:00 2024\n",
      "14998 MiB RAM detected, ~13481 available; reserving 7499 MiB for main\n",
      "workspace.\n",
      "Using up to 4 compute threads.\n",
      "245394 samples (0 females, 0 males, 245394 ambiguous; 245394 founders) loaded\n",
      "from plink/prscsx_acaf_threshold.chr12.psam.\n",
      "60132 variants loaded from plink/prscsx_acaf_threshold.chr12.pvar.\n",
      "Note: No phenotype data present.\n",
      "Calculating allele frequencies... 54done.\n"
     ]
    },
    {
     "name": "stderr",
     "output_type": "stream",
     "text": [
      "Warning: --score: 11 entries in\n",
      "PRScsx_Standing_Height_output/Standing_height_SAS_pst_eff_a1_b0.5_phi1e-04_chr12.txt\n",
      "were skipped due to missing variant IDs.\n"
     ]
    },
    {
     "name": "stdout",
     "output_type": "stream",
     "text": [
      "--score: 53370 variants processed.\n",
      "--score: Variant list written to scores/Standing_height_SAS_pst_eff_a1_b0.5_phi1e-04_chr12.sscore.vars .\n",
      "--score: Results written to\n",
      "scores/Standing_height_SAS_pst_eff_a1_b0.5_phi1e-04_chr12.sscore .\n",
      "End time: Thu Jun 13 16:38:25 2024\n"
     ]
    },
    {
     "name": "stderr",
     "output_type": "stream",
     "text": [
      "Copying gs://fc-secure-09b7d164-67b2-4c94-8381-4b8202619ea8/data/plink/prscsx_acaf_threshold.chr13.pgen...\n",
      "Copying gs://fc-secure-09b7d164-67b2-4c94-8381-4b8202619ea8/data/plink/prscsx_acaf_threshold.chr13.psam...\n",
      "Copying gs://fc-secure-09b7d164-67b2-4c94-8381-4b8202619ea8/data/plink/prscsx_acaf_threshold.chr13.pvar...\n",
      "- [3/3 files][  1.7 GiB/  1.7 GiB] 100% Done  34.5 MiB/s ETA 00:00:00           \n",
      "Operation completed over 3 objects/1.7 GiB.                                      \n"
     ]
    },
    {
     "name": "stdout",
     "output_type": "stream",
     "text": [
      "PLINK v2.00a6LM 64-bit Intel (16 May 2024)     www.cog-genomics.org/plink/2.0/\n",
      "(C) 2005-2024 Shaun Purcell, Christopher Chang   GNU General Public License v3\n",
      "Logging to scores/Standing_height_AFR_pst_eff_a1_b0.5_phi1e-04_chr13.log.\n",
      "Options in effect:\n",
      "  --out scores/Standing_height_AFR_pst_eff_a1_b0.5_phi1e-04_chr13\n",
      "  --pfile plink/prscsx_acaf_threshold.chr13\n",
      "  --score PRScsx_Standing_Height_output/Standing_height_AFR_pst_eff_a1_b0.5_phi1e-04_chr13.txt 2 4 6 variance-standardize list-variants\n",
      "\n",
      "Start time: Thu Jun 13 16:39:20 2024\n",
      "14998 MiB RAM detected, ~13479 available; reserving 7499 MiB for main\n",
      "workspace.\n",
      "Using up to 4 compute threads.\n",
      "245394 samples (0 females, 0 males, 245394 ambiguous; 245394 founders) loaded\n",
      "from plink/prscsx_acaf_threshold.chr13.psam.\n",
      "46104 variants loaded from plink/prscsx_acaf_threshold.chr13.pvar.\n",
      "Note: No phenotype data present.\n",
      "Calculating allele frequencies... done.\n"
     ]
    },
    {
     "name": "stderr",
     "output_type": "stream",
     "text": [
      "Warning: --score: 6 entries in\n",
      "PRScsx_Standing_Height_output/Standing_height_AFR_pst_eff_a1_b0.5_phi1e-04_chr13.txt\n",
      "were skipped due to missing variant IDs.\n"
     ]
    },
    {
     "name": "stdout",
     "output_type": "stream",
     "text": [
      "--score: 44191 variants processed.\n",
      "--score: Variant list written to scores/Standing_height_AFR_pst_eff_a1_b0.5_phi1e-04_chr13.sscore.vars .\n",
      "--score: Results written to\n",
      "scores/Standing_height_AFR_pst_eff_a1_b0.5_phi1e-04_chr13.sscore .\n",
      "End time: Thu Jun 13 16:39:45 2024\n",
      "PLINK v2.00a6LM 64-bit Intel (16 May 2024)     www.cog-genomics.org/plink/2.0/\n",
      "(C) 2005-2024 Shaun Purcell, Christopher Chang   GNU General Public License v3\n",
      "Logging to scores/Standing_height_AMR_pst_eff_a1_b0.5_phi1e-04_chr13.log.\n",
      "Options in effect:\n",
      "  --out scores/Standing_height_AMR_pst_eff_a1_b0.5_phi1e-04_chr13\n",
      "  --pfile plink/prscsx_acaf_threshold.chr13\n",
      "  --score PRScsx_Standing_Height_output/Standing_height_AMR_pst_eff_a1_b0.5_phi1e-04_chr13.txt 2 4 6 variance-standardize list-variants\n",
      "\n",
      "Start time: Thu Jun 13 16:39:45 2024\n",
      "14998 MiB RAM detected, ~13490 available; reserving 7499 MiB for main\n",
      "workspace.\n",
      "Using up to 4 compute threads.\n",
      "245394 samples (0 females, 0 males, 245394 ambiguous; 245394 founders) loaded\n",
      "from plink/prscsx_acaf_threshold.chr13.psam.\n",
      "46104 variants loaded from plink/prscsx_acaf_threshold.chr13.pvar.\n",
      "Note: No phenotype data present.\n",
      "Calculating allele frequencies... done.\n"
     ]
    },
    {
     "name": "stderr",
     "output_type": "stream",
     "text": [
      "Warning: --score: 5 entries in\n",
      "PRScsx_Standing_Height_output/Standing_height_AMR_pst_eff_a1_b0.5_phi1e-04_chr13.txt\n",
      "were skipped due to missing variant IDs.\n"
     ]
    },
    {
     "name": "stdout",
     "output_type": "stream",
     "text": [
      "--score: 43367 variants processed.\n",
      "--score: Variant list written to scores/Standing_height_AMR_pst_eff_a1_b0.5_phi1e-04_chr13.sscore.vars .\n",
      "--score: Results written to\n",
      "scores/Standing_height_AMR_pst_eff_a1_b0.5_phi1e-04_chr13.sscore .\n",
      "End time: Thu Jun 13 16:40:17 2024\n",
      "PLINK v2.00a6LM 64-bit Intel (16 May 2024)     www.cog-genomics.org/plink/2.0/\n",
      "(C) 2005-2024 Shaun Purcell, Christopher Chang   GNU General Public License v3\n",
      "Logging to scores/Standing_height_EAS_pst_eff_a1_b0.5_phi1e-04_chr13.log.\n",
      "Options in effect:\n",
      "  --out scores/Standing_height_EAS_pst_eff_a1_b0.5_phi1e-04_chr13\n",
      "  --pfile plink/prscsx_acaf_threshold.chr13\n",
      "  --score PRScsx_Standing_Height_output/Standing_height_EAS_pst_eff_a1_b0.5_phi1e-04_chr13.txt 2 4 6 variance-standardize list-variants\n",
      "\n",
      "Start time: Thu Jun 13 16:40:17 2024\n",
      "14998 MiB RAM detected, ~13503 available; reserving 7499 MiB for main\n",
      "workspace.\n",
      "Using up to 4 compute threads.\n",
      "245394 samples (0 females, 0 males, 245394 ambiguous; 245394 founders) loaded\n",
      "from plink/prscsx_acaf_threshold.chr13.psam.\n",
      "46104 variants loaded from plink/prscsx_acaf_threshold.chr13.pvar.\n",
      "Note: No phenotype data present.\n",
      "Calculating allele frequencies... done.\n"
     ]
    },
    {
     "name": "stderr",
     "output_type": "stream",
     "text": [
      "Warning: --score: 5 entries in\n",
      "PRScsx_Standing_Height_output/Standing_height_EAS_pst_eff_a1_b0.5_phi1e-04_chr13.txt\n",
      "were skipped due to missing variant IDs.\n"
     ]
    },
    {
     "name": "stdout",
     "output_type": "stream",
     "text": [
      "--score: 37073 variants processed.\n",
      "--score: Variant list written to scores/Standing_height_EAS_pst_eff_a1_b0.5_phi1e-04_chr13.sscore.vars .\n",
      "--score: Results written to\n",
      "scores/Standing_height_EAS_pst_eff_a1_b0.5_phi1e-04_chr13.sscore .\n",
      "End time: Thu Jun 13 16:40:34 2024\n",
      "PLINK v2.00a6LM 64-bit Intel (16 May 2024)     www.cog-genomics.org/plink/2.0/\n",
      "(C) 2005-2024 Shaun Purcell, Christopher Chang   GNU General Public License v3\n",
      "Logging to scores/Standing_height_EUR_pst_eff_a1_b0.5_phi1e-04_chr13.log.\n",
      "Options in effect:\n",
      "  --out scores/Standing_height_EUR_pst_eff_a1_b0.5_phi1e-04_chr13\n",
      "  --pfile plink/prscsx_acaf_threshold.chr13\n",
      "  --score PRScsx_Standing_Height_output/Standing_height_EUR_pst_eff_a1_b0.5_phi1e-04_chr13.txt 2 4 6 variance-standardize list-variants\n",
      "\n",
      "Start time: Thu Jun 13 16:40:35 2024\n",
      "14998 MiB RAM detected, ~13503 available; reserving 7499 MiB for main\n",
      "workspace.\n",
      "Using up to 4 compute threads.\n",
      "245394 samples (0 females, 0 males, 245394 ambiguous; 245394 founders) loaded\n",
      "from plink/prscsx_acaf_threshold.chr13.psam.\n",
      "46104 variants loaded from plink/prscsx_acaf_threshold.chr13.pvar.\n",
      "Note: No phenotype data present.\n",
      "Calculating allele frequencies... done.\n"
     ]
    },
    {
     "name": "stderr",
     "output_type": "stream",
     "text": [
      "Warning: --score: 6 entries in\n",
      "PRScsx_Standing_Height_output/Standing_height_EUR_pst_eff_a1_b0.5_phi1e-04_chr13.txt\n",
      "were skipped due to missing variant IDs.\n"
     ]
    },
    {
     "name": "stdout",
     "output_type": "stream",
     "text": [
      "--score: 40653 variants processed.\n",
      "--score: Variant list written to scores/Standing_height_EUR_pst_eff_a1_b0.5_phi1e-04_chr13.sscore.vars .\n",
      "--score: Results written to\n",
      "scores/Standing_height_EUR_pst_eff_a1_b0.5_phi1e-04_chr13.sscore .\n",
      "End time: Thu Jun 13 16:40:54 2024\n",
      "PLINK v2.00a6LM 64-bit Intel (16 May 2024)     www.cog-genomics.org/plink/2.0/\n",
      "(C) 2005-2024 Shaun Purcell, Christopher Chang   GNU General Public License v3\n",
      "Logging to scores/Standing_height_SAS_pst_eff_a1_b0.5_phi1e-04_chr13.log.\n",
      "Options in effect:\n",
      "  --out scores/Standing_height_SAS_pst_eff_a1_b0.5_phi1e-04_chr13\n",
      "  --pfile plink/prscsx_acaf_threshold.chr13\n",
      "  --score PRScsx_Standing_Height_output/Standing_height_SAS_pst_eff_a1_b0.5_phi1e-04_chr13.txt 2 4 6 variance-standardize list-variants\n",
      "\n",
      "Start time: Thu Jun 13 16:40:54 2024\n",
      "14998 MiB RAM detected, ~13506 available; reserving 7499 MiB for main\n",
      "workspace.\n",
      "Using up to 4 compute threads.\n",
      "245394 samples (0 females, 0 males, 245394 ambiguous; 245394 founders) loaded\n",
      "from plink/prscsx_acaf_threshold.chr13.psam.\n",
      "46104 variants loaded from plink/prscsx_acaf_threshold.chr13.pvar.\n",
      "Note: No phenotype data present.\n",
      "Calculating allele frequencies... done.\n"
     ]
    },
    {
     "name": "stderr",
     "output_type": "stream",
     "text": [
      "Warning: --score: 5 entries in\n",
      "PRScsx_Standing_Height_output/Standing_height_SAS_pst_eff_a1_b0.5_phi1e-04_chr13.txt\n",
      "were skipped due to missing variant IDs.\n"
     ]
    },
    {
     "name": "stdout",
     "output_type": "stream",
     "text": [
      "--score: 41004 variants processed.\n",
      "--score: Variant list written to scores/Standing_height_SAS_pst_eff_a1_b0.5_phi1e-04_chr13.sscore.vars .\n",
      "--score: Results written to\n",
      "scores/Standing_height_SAS_pst_eff_a1_b0.5_phi1e-04_chr13.sscore .\n",
      "End time: Thu Jun 13 16:41:14 2024\n"
     ]
    },
    {
     "name": "stderr",
     "output_type": "stream",
     "text": [
      "Copying gs://fc-secure-09b7d164-67b2-4c94-8381-4b8202619ea8/data/plink/prscsx_acaf_threshold.chr14.pgen...\n",
      "Copying gs://fc-secure-09b7d164-67b2-4c94-8381-4b8202619ea8/data/plink/prscsx_acaf_threshold.chr14.psam...\n",
      "Copying gs://fc-secure-09b7d164-67b2-4c94-8381-4b8202619ea8/data/plink/prscsx_acaf_threshold.chr14.pvar...\n",
      "- [3/3 files][  1.5 GiB/  1.5 GiB] 100% Done  25.7 MiB/s ETA 00:00:00           \n",
      "Operation completed over 3 objects/1.5 GiB.                                      \n"
     ]
    },
    {
     "name": "stdout",
     "output_type": "stream",
     "text": [
      "PLINK v2.00a6LM 64-bit Intel (16 May 2024)     www.cog-genomics.org/plink/2.0/\n",
      "(C) 2005-2024 Shaun Purcell, Christopher Chang   GNU General Public License v3\n",
      "Logging to scores/Standing_height_AFR_pst_eff_a1_b0.5_phi1e-04_chr14.log.\n",
      "Options in effect:\n",
      "  --out scores/Standing_height_AFR_pst_eff_a1_b0.5_phi1e-04_chr14\n",
      "  --pfile plink/prscsx_acaf_threshold.chr14\n",
      "  --score PRScsx_Standing_Height_output/Standing_height_AFR_pst_eff_a1_b0.5_phi1e-04_chr14.txt 2 4 6 variance-standardize list-variants\n",
      "\n",
      "Start time: Thu Jun 13 16:42:06 2024\n",
      "14998 MiB RAM detected, ~13467 available; reserving 7499 MiB for main\n",
      "workspace.\n",
      "Using up to 4 compute threads.\n",
      "245394 samples (0 females, 0 males, 245394 ambiguous; 245394 founders) loaded\n",
      "from plink/prscsx_acaf_threshold.chr14.psam.\n",
      "39956 variants loaded from plink/prscsx_acaf_threshold.chr14.pvar.\n",
      "Note: No phenotype data present.\n",
      "Calculating allele frequencies... done.\n"
     ]
    },
    {
     "name": "stderr",
     "output_type": "stream",
     "text": [
      "Warning: --score: 3 entries in\n",
      "PRScsx_Standing_Height_output/Standing_height_AFR_pst_eff_a1_b0.5_phi1e-04_chr14.txt\n",
      "were skipped due to missing variant IDs.\n"
     ]
    },
    {
     "name": "stdout",
     "output_type": "stream",
     "text": [
      "--score: 38310 variants processed.\n",
      "--score: Variant list written to scores/Standing_height_AFR_pst_eff_a1_b0.5_phi1e-04_chr14.sscore.vars .\n",
      "--score: Results written to\n",
      "scores/Standing_height_AFR_pst_eff_a1_b0.5_phi1e-04_chr14.sscore .\n",
      "End time: Thu Jun 13 16:42:27 2024\n",
      "PLINK v2.00a6LM 64-bit Intel (16 May 2024)     www.cog-genomics.org/plink/2.0/\n",
      "(C) 2005-2024 Shaun Purcell, Christopher Chang   GNU General Public License v3\n",
      "Logging to scores/Standing_height_AMR_pst_eff_a1_b0.5_phi1e-04_chr14.log.\n",
      "Options in effect:\n",
      "  --out scores/Standing_height_AMR_pst_eff_a1_b0.5_phi1e-04_chr14\n",
      "  --pfile plink/prscsx_acaf_threshold.chr14\n",
      "  --score PRScsx_Standing_Height_output/Standing_height_AMR_pst_eff_a1_b0.5_phi1e-04_chr14.txt 2 4 6 variance-standardize list-variants\n",
      "\n",
      "Start time: Thu Jun 13 16:42:27 2024\n",
      "14998 MiB RAM detected, ~13501 available; reserving 7499 MiB for main\n",
      "workspace.\n",
      "Using up to 4 compute threads.\n",
      "245394 samples (0 females, 0 males, 245394 ambiguous; 245394 founders) loaded\n",
      "from plink/prscsx_acaf_threshold.chr14.psam.\n",
      "39956 variants loaded from plink/prscsx_acaf_threshold.chr14.pvar.\n",
      "Note: No phenotype data present.\n",
      "Calculating allele frequencies... done.\n"
     ]
    },
    {
     "name": "stderr",
     "output_type": "stream",
     "text": [
      "Warning: --score: 5 entries in\n",
      "PRScsx_Standing_Height_output/Standing_height_AMR_pst_eff_a1_b0.5_phi1e-04_chr14.txt\n",
      "were skipped due to missing variant IDs.\n"
     ]
    },
    {
     "name": "stdout",
     "output_type": "stream",
     "text": [
      "--score: 37409 variants processed.\n",
      "--score: Variant list written to scores/Standing_height_AMR_pst_eff_a1_b0.5_phi1e-04_chr14.sscore.vars .\n",
      "--score: Results written to\n",
      "scores/Standing_height_AMR_pst_eff_a1_b0.5_phi1e-04_chr14.sscore .\n",
      "End time: Thu Jun 13 16:42:54 2024\n",
      "PLINK v2.00a6LM 64-bit Intel (16 May 2024)     www.cog-genomics.org/plink/2.0/\n",
      "(C) 2005-2024 Shaun Purcell, Christopher Chang   GNU General Public License v3\n",
      "Logging to scores/Standing_height_EAS_pst_eff_a1_b0.5_phi1e-04_chr14.log.\n",
      "Options in effect:\n",
      "  --out scores/Standing_height_EAS_pst_eff_a1_b0.5_phi1e-04_chr14\n",
      "  --pfile plink/prscsx_acaf_threshold.chr14\n",
      "  --score PRScsx_Standing_Height_output/Standing_height_EAS_pst_eff_a1_b0.5_phi1e-04_chr14.txt 2 4 6 variance-standardize list-variants\n",
      "\n",
      "Start time: Thu Jun 13 16:42:54 2024\n",
      "14998 MiB RAM detected, ~13508 available; reserving 7499 MiB for main\n",
      "workspace.\n",
      "Using up to 4 compute threads.\n",
      "245394 samples (0 females, 0 males, 245394 ambiguous; 245394 founders) loaded\n",
      "from plink/prscsx_acaf_threshold.chr14.psam.\n",
      "39956 variants loaded from plink/prscsx_acaf_threshold.chr14.pvar.\n",
      "Note: No phenotype data present.\n",
      "Calculating allele frequencies... done.\n"
     ]
    },
    {
     "name": "stderr",
     "output_type": "stream",
     "text": [
      "Warning: --score: 4 entries in\n",
      "PRScsx_Standing_Height_output/Standing_height_EAS_pst_eff_a1_b0.5_phi1e-04_chr14.txt\n",
      "were skipped due to missing variant IDs.\n"
     ]
    },
    {
     "name": "stdout",
     "output_type": "stream",
     "text": [
      "--score: 32342 variants processed.\n",
      "--score: Variant list written to scores/Standing_height_EAS_pst_eff_a1_b0.5_phi1e-04_chr14.sscore.vars .\n",
      "--score: Results written to\n",
      "scores/Standing_height_EAS_pst_eff_a1_b0.5_phi1e-04_chr14.sscore .\n",
      "End time: Thu Jun 13 16:43:10 2024\n",
      "PLINK v2.00a6LM 64-bit Intel (16 May 2024)     www.cog-genomics.org/plink/2.0/\n",
      "(C) 2005-2024 Shaun Purcell, Christopher Chang   GNU General Public License v3\n",
      "Logging to scores/Standing_height_EUR_pst_eff_a1_b0.5_phi1e-04_chr14.log.\n",
      "Options in effect:\n",
      "  --out scores/Standing_height_EUR_pst_eff_a1_b0.5_phi1e-04_chr14\n",
      "  --pfile plink/prscsx_acaf_threshold.chr14\n",
      "  --score PRScsx_Standing_Height_output/Standing_height_EUR_pst_eff_a1_b0.5_phi1e-04_chr14.txt 2 4 6 variance-standardize list-variants\n",
      "\n",
      "Start time: Thu Jun 13 16:43:10 2024\n",
      "14998 MiB RAM detected, ~13507 available; reserving 7499 MiB for main\n",
      "workspace.\n",
      "Using up to 4 compute threads.\n",
      "245394 samples (0 females, 0 males, 245394 ambiguous; 245394 founders) loaded\n",
      "from plink/prscsx_acaf_threshold.chr14.psam.\n",
      "39956 variants loaded from plink/prscsx_acaf_threshold.chr14.pvar.\n",
      "Note: No phenotype data present.\n",
      "Calculating allele frequencies... done.\n"
     ]
    },
    {
     "name": "stderr",
     "output_type": "stream",
     "text": [
      "Warning: --score: 5 entries in\n",
      "PRScsx_Standing_Height_output/Standing_height_EUR_pst_eff_a1_b0.5_phi1e-04_chr14.txt\n",
      "were skipped due to missing variant IDs.\n"
     ]
    },
    {
     "name": "stdout",
     "output_type": "stream",
     "text": [
      "--score: 35004 variants processed.\n",
      "--score: Variant list written to scores/Standing_height_EUR_pst_eff_a1_b0.5_phi1e-04_chr14.sscore.vars .\n",
      "--score: Results written to\n",
      "scores/Standing_height_EUR_pst_eff_a1_b0.5_phi1e-04_chr14.sscore .\n",
      "End time: Thu Jun 13 16:43:27 2024\n",
      "PLINK v2.00a6LM 64-bit Intel (16 May 2024)     www.cog-genomics.org/plink/2.0/\n",
      "(C) 2005-2024 Shaun Purcell, Christopher Chang   GNU General Public License v3\n",
      "Logging to scores/Standing_height_SAS_pst_eff_a1_b0.5_phi1e-04_chr14.log.\n",
      "Options in effect:\n",
      "  --out scores/Standing_height_SAS_pst_eff_a1_b0.5_phi1e-04_chr14\n",
      "  --pfile plink/prscsx_acaf_threshold.chr14\n",
      "  --score PRScsx_Standing_Height_output/Standing_height_SAS_pst_eff_a1_b0.5_phi1e-04_chr14.txt 2 4 6 variance-standardize list-variants\n",
      "\n",
      "Start time: Thu Jun 13 16:43:27 2024\n",
      "14998 MiB RAM detected, ~13507 available; reserving 7499 MiB for main\n",
      "workspace.\n",
      "Using up to 4 compute threads.\n",
      "245394 samples (0 females, 0 males, 245394 ambiguous; 245394 founders) loaded\n",
      "from plink/prscsx_acaf_threshold.chr14.psam.\n",
      "39956 variants loaded from plink/prscsx_acaf_threshold.chr14.pvar.\n",
      "Note: No phenotype data present.\n",
      "Calculating allele frequencies... done.\n"
     ]
    },
    {
     "name": "stderr",
     "output_type": "stream",
     "text": [
      "Warning: --score: 5 entries in\n",
      "PRScsx_Standing_Height_output/Standing_height_SAS_pst_eff_a1_b0.5_phi1e-04_chr14.txt\n",
      "were skipped due to missing variant IDs.\n"
     ]
    },
    {
     "name": "stdout",
     "output_type": "stream",
     "text": [
      "--score: 35320 variants processed.\n",
      "--score: Variant list written to scores/Standing_height_SAS_pst_eff_a1_b0.5_phi1e-04_chr14.sscore.vars .\n",
      "--score: Results written to\n",
      "scores/Standing_height_SAS_pst_eff_a1_b0.5_phi1e-04_chr14.sscore .\n",
      "End time: Thu Jun 13 16:43:44 2024\n"
     ]
    },
    {
     "name": "stderr",
     "output_type": "stream",
     "text": [
      "Copying gs://fc-secure-09b7d164-67b2-4c94-8381-4b8202619ea8/data/plink/prscsx_acaf_threshold.chr15.pgen...\n",
      "Copying gs://fc-secure-09b7d164-67b2-4c94-8381-4b8202619ea8/data/plink/prscsx_acaf_threshold.chr15.psam...\n",
      "Copying gs://fc-secure-09b7d164-67b2-4c94-8381-4b8202619ea8/data/plink/prscsx_acaf_threshold.chr15.pvar...\n",
      "| [3/3 files][  1.2 GiB/  1.2 GiB] 100% Done  33.4 MiB/s ETA 00:00:00           \n",
      "Operation completed over 3 objects/1.2 GiB.                                      \n"
     ]
    },
    {
     "name": "stdout",
     "output_type": "stream",
     "text": [
      "PLINK v2.00a6LM 64-bit Intel (16 May 2024)     www.cog-genomics.org/plink/2.0/\n",
      "(C) 2005-2024 Shaun Purcell, Christopher Chang   GNU General Public License v3\n",
      "Logging to scores/Standing_height_AFR_pst_eff_a1_b0.5_phi1e-04_chr15.log.\n",
      "Options in effect:\n",
      "  --out scores/Standing_height_AFR_pst_eff_a1_b0.5_phi1e-04_chr15\n",
      "  --pfile plink/prscsx_acaf_threshold.chr15\n",
      "  --score PRScsx_Standing_Height_output/Standing_height_AFR_pst_eff_a1_b0.5_phi1e-04_chr15.txt 2 4 6 variance-standardize list-variants\n",
      "\n",
      "Start time: Thu Jun 13 16:44:24 2024\n",
      "14998 MiB RAM detected, ~13473 available; reserving 7499 MiB for main\n",
      "workspace.\n",
      "Using up to 4 compute threads.\n",
      "245394 samples (0 females, 0 males, 245394 ambiguous; 245394 founders) loaded\n",
      "from plink/prscsx_acaf_threshold.chr15.psam.\n",
      "32147 variants loaded from plink/prscsx_acaf_threshold.chr15.pvar.\n",
      "Note: No phenotype data present.\n",
      "Calculating allele frequencies... done.\n"
     ]
    },
    {
     "name": "stderr",
     "output_type": "stream",
     "text": [
      "Warning: --score: 1 entry in\n",
      "PRScsx_Standing_Height_output/Standing_height_AFR_pst_eff_a1_b0.5_phi1e-04_chr15.txt\n",
      "was skipped due to a missing variant ID.\n"
     ]
    },
    {
     "name": "stdout",
     "output_type": "stream",
     "text": [
      "--score: 31029 variants processed.\n",
      "--score: Variant list written to scores/Standing_height_AFR_pst_eff_a1_b0.5_phi1e-04_chr15.sscore.vars .\n",
      "--score: Results written to\n",
      "scores/Standing_height_AFR_pst_eff_a1_b0.5_phi1e-04_chr15.sscore .\n",
      "End time: Thu Jun 13 16:44:49 2024\n",
      "PLINK v2.00a6LM 64-bit Intel (16 May 2024)     www.cog-genomics.org/plink/2.0/\n",
      "(C) 2005-2024 Shaun Purcell, Christopher Chang   GNU General Public License v3\n",
      "Logging to scores/Standing_height_AMR_pst_eff_a1_b0.5_phi1e-04_chr15.log.\n",
      "Options in effect:\n",
      "  --out scores/Standing_height_AMR_pst_eff_a1_b0.5_phi1e-04_chr15\n",
      "  --pfile plink/prscsx_acaf_threshold.chr15\n",
      "  --score PRScsx_Standing_Height_output/Standing_height_AMR_pst_eff_a1_b0.5_phi1e-04_chr15.txt 2 4 6 variance-standardize list-variants\n",
      "\n",
      "Start time: Thu Jun 13 16:44:49 2024\n",
      "14998 MiB RAM detected, ~13490 available; reserving 7499 MiB for main\n",
      "workspace.\n",
      "Using up to 4 compute threads.\n",
      "245394 samples (0 females, 0 males, 245394 ambiguous; 245394 founders) loaded\n",
      "from plink/prscsx_acaf_threshold.chr15.psam.\n",
      "32147 variants loaded from plink/prscsx_acaf_threshold.chr15.pvar.\n",
      "Note: No phenotype data present.\n",
      "Calculating allele frequencies... done.\n"
     ]
    },
    {
     "name": "stderr",
     "output_type": "stream",
     "text": [
      "Warning: --score: 1 entry in\n",
      "PRScsx_Standing_Height_output/Standing_height_AMR_pst_eff_a1_b0.5_phi1e-04_chr15.txt\n",
      "was skipped due to a missing variant ID.\n"
     ]
    },
    {
     "name": "stdout",
     "output_type": "stream",
     "text": [
      "--score: 30012 variants processed.\n",
      "--score: Variant list written to scores/Standing_height_AMR_pst_eff_a1_b0.5_phi1e-04_chr15.sscore.vars .\n",
      "--score: Results written to\n",
      "scores/Standing_height_AMR_pst_eff_a1_b0.5_phi1e-04_chr15.sscore .\n",
      "End time: Thu Jun 13 16:45:11 2024\n",
      "PLINK v2.00a6LM 64-bit Intel (16 May 2024)     www.cog-genomics.org/plink/2.0/\n",
      "(C) 2005-2024 Shaun Purcell, Christopher Chang   GNU General Public License v3\n",
      "Logging to scores/Standing_height_EAS_pst_eff_a1_b0.5_phi1e-04_chr15.log.\n",
      "Options in effect:\n",
      "  --out scores/Standing_height_EAS_pst_eff_a1_b0.5_phi1e-04_chr15\n",
      "  --pfile plink/prscsx_acaf_threshold.chr15\n",
      "  --score PRScsx_Standing_Height_output/Standing_height_EAS_pst_eff_a1_b0.5_phi1e-04_chr15.txt 2 4 6 variance-standardize list-variants\n",
      "\n",
      "Start time: Thu Jun 13 16:45:11 2024\n",
      "14998 MiB RAM detected, ~13487 available; reserving 7499 MiB for main\n",
      "workspace.\n",
      "Using up to 4 compute threads.\n",
      "245394 samples (0 females, 0 males, 245394 ambiguous; 245394 founders) loaded\n",
      "from plink/prscsx_acaf_threshold.chr15.psam.\n",
      "32147 variants loaded from plink/prscsx_acaf_threshold.chr15.pvar.\n",
      "Note: No phenotype data present.\n",
      "Calculating allele frequencies... done.\n",
      "--score: 26215 variants processed.\n",
      "--score: Variant list written to scores/Standing_height_EAS_pst_eff_a1_b0.5_phi1e-04_chr15.sscore.vars .\n",
      "--score: Results written to\n",
      "scores/Standing_height_EAS_pst_eff_a1_b0.5_phi1e-04_chr15.sscore .\n",
      "End time: Thu Jun 13 16:45:24 2024\n",
      "PLINK v2.00a6LM 64-bit Intel (16 May 2024)     www.cog-genomics.org/plink/2.0/\n",
      "(C) 2005-2024 Shaun Purcell, Christopher Chang   GNU General Public License v3\n",
      "Logging to scores/Standing_height_EUR_pst_eff_a1_b0.5_phi1e-04_chr15.log.\n",
      "Options in effect:\n",
      "  --out scores/Standing_height_EUR_pst_eff_a1_b0.5_phi1e-04_chr15\n",
      "  --pfile plink/prscsx_acaf_threshold.chr15\n",
      "  --score PRScsx_Standing_Height_output/Standing_height_EUR_pst_eff_a1_b0.5_phi1e-04_chr15.txt 2 4 6 variance-standardize list-variants\n",
      "\n",
      "Start time: Thu Jun 13 16:45:24 2024\n",
      "14998 MiB RAM detected, ~13503 available; reserving 7499 MiB for main\n",
      "workspace.\n",
      "Using up to 4 compute threads.\n",
      "245394 samples (0 females, 0 males, 245394 ambiguous; 245394 founders) loaded\n",
      "from plink/prscsx_acaf_threshold.chr15.psam.\n",
      "32147 variants loaded from plink/prscsx_acaf_threshold.chr15.pvar.\n",
      "Note: No phenotype data present.\n",
      "Calculating allele frequencies... done.\n"
     ]
    },
    {
     "name": "stderr",
     "output_type": "stream",
     "text": [
      "Warning: --score: 1 entry in\n",
      "PRScsx_Standing_Height_output/Standing_height_EUR_pst_eff_a1_b0.5_phi1e-04_chr15.txt\n",
      "was skipped due to a missing variant ID.\n"
     ]
    },
    {
     "name": "stdout",
     "output_type": "stream",
     "text": [
      "--score: 27960 variants processed.\n",
      "--score: Variant list written to scores/Standing_height_EUR_pst_eff_a1_b0.5_phi1e-04_chr15.sscore.vars .\n",
      "--score: Results written to\n",
      "scores/Standing_height_EUR_pst_eff_a1_b0.5_phi1e-04_chr15.sscore .\n",
      "End time: Thu Jun 13 16:45:38 2024\n",
      "PLINK v2.00a6LM 64-bit Intel (16 May 2024)     www.cog-genomics.org/plink/2.0/\n",
      "(C) 2005-2024 Shaun Purcell, Christopher Chang   GNU General Public License v3\n",
      "Logging to scores/Standing_height_SAS_pst_eff_a1_b0.5_phi1e-04_chr15.log.\n",
      "Options in effect:\n",
      "  --out scores/Standing_height_SAS_pst_eff_a1_b0.5_phi1e-04_chr15\n",
      "  --pfile plink/prscsx_acaf_threshold.chr15\n",
      "  --score PRScsx_Standing_Height_output/Standing_height_SAS_pst_eff_a1_b0.5_phi1e-04_chr15.txt 2 4 6 variance-standardize list-variants\n",
      "\n",
      "Start time: Thu Jun 13 16:45:38 2024\n",
      "14998 MiB RAM detected, ~13502 available; reserving 7499 MiB for main\n",
      "workspace.\n",
      "Using up to 4 compute threads.\n",
      "245394 samples (0 females, 0 males, 245394 ambiguous; 245394 founders) loaded\n",
      "from plink/prscsx_acaf_threshold.chr15.psam.\n",
      "32147 variants loaded from plink/prscsx_acaf_threshold.chr15.pvar.\n",
      "Note: No phenotype data present.\n",
      "Calculating allele frequencies... done.\n"
     ]
    },
    {
     "name": "stderr",
     "output_type": "stream",
     "text": [
      "Warning: --score: 1 entry in\n",
      "PRScsx_Standing_Height_output/Standing_height_SAS_pst_eff_a1_b0.5_phi1e-04_chr15.txt\n",
      "was skipped due to a missing variant ID.\n"
     ]
    },
    {
     "name": "stdout",
     "output_type": "stream",
     "text": [
      "--score: 28495 variants processed.\n",
      "--score: Variant list written to scores/Standing_height_SAS_pst_eff_a1_b0.5_phi1e-04_chr15.sscore.vars .\n",
      "--score: Results written to\n",
      "scores/Standing_height_SAS_pst_eff_a1_b0.5_phi1e-04_chr15.sscore .\n",
      "End time: Thu Jun 13 16:45:52 2024\n"
     ]
    },
    {
     "name": "stderr",
     "output_type": "stream",
     "text": [
      "Copying gs://fc-secure-09b7d164-67b2-4c94-8381-4b8202619ea8/data/plink/prscsx_acaf_threshold.chr16.pgen...\n",
      "Copying gs://fc-secure-09b7d164-67b2-4c94-8381-4b8202619ea8/data/plink/prscsx_acaf_threshold.chr16.psam...\n",
      "Copying gs://fc-secure-09b7d164-67b2-4c94-8381-4b8202619ea8/data/plink/prscsx_acaf_threshold.chr16.pvar...\n",
      "/ [3/3 files][  1.2 GiB/  1.2 GiB] 100% Done  28.1 MiB/s ETA 00:00:00           \n",
      "Operation completed over 3 objects/1.2 GiB.                                      \n"
     ]
    },
    {
     "name": "stdout",
     "output_type": "stream",
     "text": [
      "PLINK v2.00a6LM 64-bit Intel (16 May 2024)     www.cog-genomics.org/plink/2.0/\n",
      "(C) 2005-2024 Shaun Purcell, Christopher Chang   GNU General Public License v3\n",
      "Logging to scores/Standing_height_AFR_pst_eff_a1_b0.5_phi1e-04_chr16.log.\n",
      "Options in effect:\n",
      "  --out scores/Standing_height_AFR_pst_eff_a1_b0.5_phi1e-04_chr16\n",
      "  --pfile plink/prscsx_acaf_threshold.chr16\n",
      "  --score PRScsx_Standing_Height_output/Standing_height_AFR_pst_eff_a1_b0.5_phi1e-04_chr16.txt 2 4 6 variance-standardize list-variants\n",
      "\n",
      "Start time: Thu Jun 13 16:46:34 2024\n",
      "14998 MiB RAM detected, ~13464 available; reserving 7499 MiB for main\n",
      "workspace.\n",
      "Using up to 4 compute threads.\n",
      "245394 samples (0 females, 0 males, 245394 ambiguous; 245394 founders) loaded\n",
      "from plink/prscsx_acaf_threshold.chr16.psam.\n",
      "31314 variants loaded from plink/prscsx_acaf_threshold.chr16.pvar.\n",
      "Note: No phenotype data present.\n",
      "Calculating allele frequencies... done.\n"
     ]
    },
    {
     "name": "stderr",
     "output_type": "stream",
     "text": [
      "Warning: --score: 19 entries in\n",
      "PRScsx_Standing_Height_output/Standing_height_AFR_pst_eff_a1_b0.5_phi1e-04_chr16.txt\n",
      "were skipped due to missing variant IDs.\n"
     ]
    },
    {
     "name": "stdout",
     "output_type": "stream",
     "text": [
      "--score: 30209 variants processed.\n",
      "--score: Variant list written to scores/Standing_height_AFR_pst_eff_a1_b0.5_phi1e-04_chr16.sscore.vars .\n",
      "--score: Results written to\n",
      "scores/Standing_height_AFR_pst_eff_a1_b0.5_phi1e-04_chr16.sscore .\n",
      "End time: Thu Jun 13 16:46:53 2024\n",
      "PLINK v2.00a6LM 64-bit Intel (16 May 2024)     www.cog-genomics.org/plink/2.0/\n",
      "(C) 2005-2024 Shaun Purcell, Christopher Chang   GNU General Public License v3\n",
      "Logging to scores/Standing_height_AMR_pst_eff_a1_b0.5_phi1e-04_chr16.log.\n",
      "Options in effect:\n",
      "  --out scores/Standing_height_AMR_pst_eff_a1_b0.5_phi1e-04_chr16\n",
      "  --pfile plink/prscsx_acaf_threshold.chr16\n",
      "  --score PRScsx_Standing_Height_output/Standing_height_AMR_pst_eff_a1_b0.5_phi1e-04_chr16.txt 2 4 6 variance-standardize list-variants\n",
      "\n",
      "Start time: Thu Jun 13 16:46:53 2024\n",
      "14998 MiB RAM detected, ~13504 available; reserving 7499 MiB for main\n",
      "workspace.\n",
      "Using up to 4 compute threads.\n",
      "245394 samples (0 females, 0 males, 245394 ambiguous; 245394 founders) loaded\n",
      "from plink/prscsx_acaf_threshold.chr16.psam.\n",
      "31314 variants loaded from plink/prscsx_acaf_threshold.chr16.pvar.\n",
      "Note: No phenotype data present.\n",
      "Calculating allele frequencies... done.\n"
     ]
    },
    {
     "name": "stderr",
     "output_type": "stream",
     "text": [
      "Warning: --score: 20 entries in\n",
      "PRScsx_Standing_Height_output/Standing_height_AMR_pst_eff_a1_b0.5_phi1e-04_chr16.txt\n",
      "were skipped due to missing variant IDs.\n"
     ]
    },
    {
     "name": "stdout",
     "output_type": "stream",
     "text": [
      "--score: 29223 variants processed.\n",
      "--score: Variant list written to scores/Standing_height_AMR_pst_eff_a1_b0.5_phi1e-04_chr16.sscore.vars .\n",
      "--score: Results written to\n",
      "scores/Standing_height_AMR_pst_eff_a1_b0.5_phi1e-04_chr16.sscore .\n",
      "End time: Thu Jun 13 16:47:25 2024\n",
      "PLINK v2.00a6LM 64-bit Intel (16 May 2024)     www.cog-genomics.org/plink/2.0/\n",
      "(C) 2005-2024 Shaun Purcell, Christopher Chang   GNU General Public License v3\n",
      "Logging to scores/Standing_height_EAS_pst_eff_a1_b0.5_phi1e-04_chr16.log.\n",
      "Options in effect:\n",
      "  --out scores/Standing_height_EAS_pst_eff_a1_b0.5_phi1e-04_chr16\n",
      "  --pfile plink/prscsx_acaf_threshold.chr16\n",
      "  --score PRScsx_Standing_Height_output/Standing_height_EAS_pst_eff_a1_b0.5_phi1e-04_chr16.txt 2 4 6 variance-standardize list-variants\n",
      "\n",
      "Start time: Thu Jun 13 16:47:25 2024\n",
      "14998 MiB RAM detected, ~13496 available; reserving 7499 MiB for main\n",
      "workspace.\n",
      "Using up to 4 compute threads.\n",
      "245394 samples (0 females, 0 males, 245394 ambiguous; 245394 founders) loaded\n",
      "from plink/prscsx_acaf_threshold.chr16.psam.\n",
      "31314 variants loaded from plink/prscsx_acaf_threshold.chr16.pvar.\n",
      "Note: No phenotype data present.\n",
      "Calculating allele frequencies... done.\n"
     ]
    },
    {
     "name": "stderr",
     "output_type": "stream",
     "text": [
      "Warning: --score: 17 entries in\n",
      "PRScsx_Standing_Height_output/Standing_height_EAS_pst_eff_a1_b0.5_phi1e-04_chr16.txt\n",
      "were skipped due to missing variant IDs.\n"
     ]
    },
    {
     "name": "stdout",
     "output_type": "stream",
     "text": [
      "--score: 25312 variants processed.\n",
      "--score: Variant list written to scores/Standing_height_EAS_pst_eff_a1_b0.5_phi1e-04_chr16.sscore.vars .\n",
      "--score: Results written to\n",
      "scores/Standing_height_EAS_pst_eff_a1_b0.5_phi1e-04_chr16.sscore .\n",
      "End time: Thu Jun 13 16:47:38 2024\n",
      "PLINK v2.00a6LM 64-bit Intel (16 May 2024)     www.cog-genomics.org/plink/2.0/\n",
      "(C) 2005-2024 Shaun Purcell, Christopher Chang   GNU General Public License v3\n",
      "Logging to scores/Standing_height_EUR_pst_eff_a1_b0.5_phi1e-04_chr16.log.\n",
      "Options in effect:\n",
      "  --out scores/Standing_height_EUR_pst_eff_a1_b0.5_phi1e-04_chr16\n",
      "  --pfile plink/prscsx_acaf_threshold.chr16\n",
      "  --score PRScsx_Standing_Height_output/Standing_height_EUR_pst_eff_a1_b0.5_phi1e-04_chr16.txt 2 4 6 variance-standardize list-variants\n",
      "\n",
      "Start time: Thu Jun 13 16:47:39 2024\n",
      "14998 MiB RAM detected, ~13497 available; reserving 7499 MiB for main\n",
      "workspace.\n",
      "Using up to 4 compute threads.\n",
      "245394 samples (0 females, 0 males, 245394 ambiguous; 245394 founders) loaded\n",
      "from plink/prscsx_acaf_threshold.chr16.psam.\n",
      "31314 variants loaded from plink/prscsx_acaf_threshold.chr16.pvar.\n",
      "Note: No phenotype data present.\n",
      "Calculating allele frequencies... done.\n"
     ]
    },
    {
     "name": "stderr",
     "output_type": "stream",
     "text": [
      "Warning: --score: 20 entries in\n",
      "PRScsx_Standing_Height_output/Standing_height_EUR_pst_eff_a1_b0.5_phi1e-04_chr16.txt\n",
      "were skipped due to missing variant IDs.\n"
     ]
    },
    {
     "name": "stdout",
     "output_type": "stream",
     "text": [
      "--score: 27215 variants processed.\n",
      "--score: Variant list written to scores/Standing_height_EUR_pst_eff_a1_b0.5_phi1e-04_chr16.sscore.vars .\n",
      "--score: Results written to\n",
      "scores/Standing_height_EUR_pst_eff_a1_b0.5_phi1e-04_chr16.sscore .\n",
      "End time: Thu Jun 13 16:47:52 2024\n",
      "PLINK v2.00a6LM 64-bit Intel (16 May 2024)     www.cog-genomics.org/plink/2.0/\n",
      "(C) 2005-2024 Shaun Purcell, Christopher Chang   GNU General Public License v3\n",
      "Logging to scores/Standing_height_SAS_pst_eff_a1_b0.5_phi1e-04_chr16.log.\n",
      "Options in effect:\n",
      "  --out scores/Standing_height_SAS_pst_eff_a1_b0.5_phi1e-04_chr16\n",
      "  --pfile plink/prscsx_acaf_threshold.chr16\n",
      "  --score PRScsx_Standing_Height_output/Standing_height_SAS_pst_eff_a1_b0.5_phi1e-04_chr16.txt 2 4 6 variance-standardize list-variants\n",
      "\n",
      "Start time: Thu Jun 13 16:47:52 2024\n",
      "14998 MiB RAM detected, ~13486 available; reserving 7499 MiB for main\n",
      "workspace.\n",
      "Using up to 4 compute threads.\n",
      "245394 samples (0 females, 0 males, 245394 ambiguous; 245394 founders) loaded\n",
      "from plink/prscsx_acaf_threshold.chr16.psam.\n",
      "31314 variants loaded from plink/prscsx_acaf_threshold.chr16.pvar.\n",
      "Note: No phenotype data present.\n",
      "Calculating allele frequencies... done.\n"
     ]
    },
    {
     "name": "stderr",
     "output_type": "stream",
     "text": [
      "Warning: --score: 20 entries in\n",
      "PRScsx_Standing_Height_output/Standing_height_SAS_pst_eff_a1_b0.5_phi1e-04_chr16.txt\n",
      "were skipped due to missing variant IDs.\n"
     ]
    },
    {
     "name": "stdout",
     "output_type": "stream",
     "text": [
      "--score: 27374 variants processed.\n",
      "--score: Variant list written to scores/Standing_height_SAS_pst_eff_a1_b0.5_phi1e-04_chr16.sscore.vars .\n",
      "--score: Results written to\n",
      "scores/Standing_height_SAS_pst_eff_a1_b0.5_phi1e-04_chr16.sscore .\n",
      "End time: Thu Jun 13 16:48:05 2024\n"
     ]
    },
    {
     "name": "stderr",
     "output_type": "stream",
     "text": [
      "Copying gs://fc-secure-09b7d164-67b2-4c94-8381-4b8202619ea8/data/plink/prscsx_acaf_threshold.chr17.pgen...\n",
      "Copying gs://fc-secure-09b7d164-67b2-4c94-8381-4b8202619ea8/data/plink/prscsx_acaf_threshold.chr17.psam...\n",
      "Copying gs://fc-secure-09b7d164-67b2-4c94-8381-4b8202619ea8/data/plink/prscsx_acaf_threshold.chr17.pvar...\n",
      "- [3/3 files][  1.2 GiB/  1.2 GiB] 100% Done  36.9 MiB/s ETA 00:00:00           \n",
      "Operation completed over 3 objects/1.2 GiB.                                      \n"
     ]
    },
    {
     "name": "stdout",
     "output_type": "stream",
     "text": [
      "PLINK v2.00a6LM 64-bit Intel (16 May 2024)     www.cog-genomics.org/plink/2.0/\n",
      "(C) 2005-2024 Shaun Purcell, Christopher Chang   GNU General Public License v3\n",
      "Logging to scores/Standing_height_AFR_pst_eff_a1_b0.5_phi1e-04_chr17.log.\n",
      "Options in effect:\n",
      "  --out scores/Standing_height_AFR_pst_eff_a1_b0.5_phi1e-04_chr17\n",
      "  --pfile plink/prscsx_acaf_threshold.chr17\n",
      "  --score PRScsx_Standing_Height_output/Standing_height_AFR_pst_eff_a1_b0.5_phi1e-04_chr17.txt 2 4 6 variance-standardize list-variants\n",
      "\n",
      "Start time: Thu Jun 13 16:48:43 2024\n",
      "14998 MiB RAM detected, ~13480 available; reserving 7499 MiB for main\n",
      "workspace.\n",
      "Using up to 4 compute threads.\n",
      "245394 samples (0 females, 0 males, 245394 ambiguous; 245394 founders) loaded\n",
      "from plink/prscsx_acaf_threshold.chr17.psam.\n",
      "31129 variants loaded from plink/prscsx_acaf_threshold.chr17.pvar.\n",
      "Note: No phenotype data present.\n",
      "Calculating allele frequencies... done.\n"
     ]
    },
    {
     "name": "stderr",
     "output_type": "stream",
     "text": [
      "Warning: --score: 5 entries in\n",
      "PRScsx_Standing_Height_output/Standing_height_AFR_pst_eff_a1_b0.5_phi1e-04_chr17.txt\n",
      "were skipped due to missing variant IDs.\n"
     ]
    },
    {
     "name": "stdout",
     "output_type": "stream",
     "text": [
      "--score: 30073 variants processed.\n",
      "--score: Variant list written to scores/Standing_height_AFR_pst_eff_a1_b0.5_phi1e-04_chr17.sscore.vars .\n",
      "--score: Results written to\n",
      "scores/Standing_height_AFR_pst_eff_a1_b0.5_phi1e-04_chr17.sscore .\n",
      "End time: Thu Jun 13 16:49:08 2024\n",
      "PLINK v2.00a6LM 64-bit Intel (16 May 2024)     www.cog-genomics.org/plink/2.0/\n",
      "(C) 2005-2024 Shaun Purcell, Christopher Chang   GNU General Public License v3\n",
      "Logging to scores/Standing_height_AMR_pst_eff_a1_b0.5_phi1e-04_chr17.log.\n",
      "Options in effect:\n",
      "  --out scores/Standing_height_AMR_pst_eff_a1_b0.5_phi1e-04_chr17\n",
      "  --pfile plink/prscsx_acaf_threshold.chr17\n",
      "  --score PRScsx_Standing_Height_output/Standing_height_AMR_pst_eff_a1_b0.5_phi1e-04_chr17.txt 2 4 6 variance-standardize list-variants\n",
      "\n",
      "Start time: Thu Jun 13 16:49:08 2024\n",
      "14998 MiB RAM detected, ~13499 available; reserving 7499 MiB for main\n",
      "workspace.\n",
      "Using up to 4 compute threads.\n",
      "245394 samples (0 females, 0 males, 245394 ambiguous; 245394 founders) loaded\n",
      "from plink/prscsx_acaf_threshold.chr17.psam.\n",
      "31129 variants loaded from plink/prscsx_acaf_threshold.chr17.pvar.\n",
      "Note: No phenotype data present.\n",
      "Calculating allele frequencies... done.\n"
     ]
    },
    {
     "name": "stderr",
     "output_type": "stream",
     "text": [
      "Warning: --score: 6 entries in\n",
      "PRScsx_Standing_Height_output/Standing_height_AMR_pst_eff_a1_b0.5_phi1e-04_chr17.txt\n",
      "were skipped due to missing variant IDs.\n"
     ]
    },
    {
     "name": "stdout",
     "output_type": "stream",
     "text": [
      "--score: 28871 variants processed.\n",
      "--score: Variant list written to scores/Standing_height_AMR_pst_eff_a1_b0.5_phi1e-04_chr17.sscore.vars .\n",
      "--score: Results written to\n",
      "scores/Standing_height_AMR_pst_eff_a1_b0.5_phi1e-04_chr17.sscore .\n",
      "End time: Thu Jun 13 16:49:30 2024\n",
      "PLINK v2.00a6LM 64-bit Intel (16 May 2024)     www.cog-genomics.org/plink/2.0/\n",
      "(C) 2005-2024 Shaun Purcell, Christopher Chang   GNU General Public License v3\n",
      "Logging to scores/Standing_height_EAS_pst_eff_a1_b0.5_phi1e-04_chr17.log.\n",
      "Options in effect:\n",
      "  --out scores/Standing_height_EAS_pst_eff_a1_b0.5_phi1e-04_chr17\n",
      "  --pfile plink/prscsx_acaf_threshold.chr17\n",
      "  --score PRScsx_Standing_Height_output/Standing_height_EAS_pst_eff_a1_b0.5_phi1e-04_chr17.txt 2 4 6 variance-standardize list-variants\n",
      "\n",
      "Start time: Thu Jun 13 16:49:30 2024\n",
      "14998 MiB RAM detected, ~13501 available; reserving 7499 MiB for main\n",
      "workspace.\n",
      "Using up to 4 compute threads.\n",
      "245394 samples (0 females, 0 males, 245394 ambiguous; 245394 founders) loaded\n",
      "from plink/prscsx_acaf_threshold.chr17.psam.\n",
      "31129 variants loaded from plink/prscsx_acaf_threshold.chr17.pvar.\n",
      "Note: No phenotype data present.\n",
      "Calculating allele frequencies... done.\n"
     ]
    },
    {
     "name": "stderr",
     "output_type": "stream",
     "text": [
      "Warning: --score: 6 entries in\n",
      "PRScsx_Standing_Height_output/Standing_height_EAS_pst_eff_a1_b0.5_phi1e-04_chr17.txt\n",
      "were skipped due to missing variant IDs.\n"
     ]
    },
    {
     "name": "stdout",
     "output_type": "stream",
     "text": [
      "--score: 24744 variants processed.\n",
      "--score: Variant list written to scores/Standing_height_EAS_pst_eff_a1_b0.5_phi1e-04_chr17.sscore.vars .\n",
      "--score: Results written to\n",
      "scores/Standing_height_EAS_pst_eff_a1_b0.5_phi1e-04_chr17.sscore .\n",
      "End time: Thu Jun 13 16:49:42 2024\n",
      "PLINK v2.00a6LM 64-bit Intel (16 May 2024)     www.cog-genomics.org/plink/2.0/\n",
      "(C) 2005-2024 Shaun Purcell, Christopher Chang   GNU General Public License v3\n",
      "Logging to scores/Standing_height_EUR_pst_eff_a1_b0.5_phi1e-04_chr17.log.\n",
      "Options in effect:\n",
      "  --out scores/Standing_height_EUR_pst_eff_a1_b0.5_phi1e-04_chr17\n",
      "  --pfile plink/prscsx_acaf_threshold.chr17\n",
      "  --score PRScsx_Standing_Height_output/Standing_height_EUR_pst_eff_a1_b0.5_phi1e-04_chr17.txt 2 4 6 variance-standardize list-variants\n",
      "\n",
      "Start time: Thu Jun 13 16:49:43 2024\n",
      "14998 MiB RAM detected, ~13499 available; reserving 7499 MiB for main\n",
      "workspace.\n",
      "Using up to 4 compute threads.\n",
      "245394 samples (0 females, 0 males, 245394 ambiguous; 245394 founders) loaded\n",
      "from plink/prscsx_acaf_threshold.chr17.psam.\n",
      "31129 variants loaded from plink/prscsx_acaf_threshold.chr17.pvar.\n",
      "Note: No phenotype data present.\n",
      "Calculating allele frequencies... done.\n"
     ]
    },
    {
     "name": "stderr",
     "output_type": "stream",
     "text": [
      "Warning: --score: 5 entries in\n",
      "PRScsx_Standing_Height_output/Standing_height_EUR_pst_eff_a1_b0.5_phi1e-04_chr17.txt\n",
      "were skipped due to missing variant IDs.\n"
     ]
    },
    {
     "name": "stdout",
     "output_type": "stream",
     "text": [
      "--score: 26790 variants processed.\n",
      "--score: Variant list written to scores/Standing_height_EUR_pst_eff_a1_b0.5_phi1e-04_chr17.sscore.vars .\n",
      "--score: Results written to\n",
      "scores/Standing_height_EUR_pst_eff_a1_b0.5_phi1e-04_chr17.sscore .\n",
      "End time: Thu Jun 13 16:49:56 2024\n",
      "PLINK v2.00a6LM 64-bit Intel (16 May 2024)     www.cog-genomics.org/plink/2.0/\n",
      "(C) 2005-2024 Shaun Purcell, Christopher Chang   GNU General Public License v3\n",
      "Logging to scores/Standing_height_SAS_pst_eff_a1_b0.5_phi1e-04_chr17.log.\n",
      "Options in effect:\n",
      "  --out scores/Standing_height_SAS_pst_eff_a1_b0.5_phi1e-04_chr17\n",
      "  --pfile plink/prscsx_acaf_threshold.chr17\n",
      "  --score PRScsx_Standing_Height_output/Standing_height_SAS_pst_eff_a1_b0.5_phi1e-04_chr17.txt 2 4 6 variance-standardize list-variants\n",
      "\n",
      "Start time: Thu Jun 13 16:49:56 2024\n",
      "14998 MiB RAM detected, ~13495 available; reserving 7499 MiB for main\n",
      "workspace.\n",
      "Using up to 4 compute threads.\n",
      "245394 samples (0 females, 0 males, 245394 ambiguous; 245394 founders) loaded\n",
      "from plink/prscsx_acaf_threshold.chr17.psam.\n",
      "31129 variants loaded from plink/prscsx_acaf_threshold.chr17.pvar.\n",
      "Note: No phenotype data present.\n",
      "Calculating allele frequencies... done.\n"
     ]
    },
    {
     "name": "stderr",
     "output_type": "stream",
     "text": [
      "Warning: --score: 6 entries in\n",
      "PRScsx_Standing_Height_output/Standing_height_SAS_pst_eff_a1_b0.5_phi1e-04_chr17.txt\n",
      "were skipped due to missing variant IDs.\n"
     ]
    },
    {
     "name": "stdout",
     "output_type": "stream",
     "text": [
      "--score: 27054 variants processed.\n",
      "--score: Variant list written to scores/Standing_height_SAS_pst_eff_a1_b0.5_phi1e-04_chr17.sscore.vars .\n",
      "--score: Results written to\n",
      "scores/Standing_height_SAS_pst_eff_a1_b0.5_phi1e-04_chr17.sscore .\n",
      "End time: Thu Jun 13 16:50:09 2024\n"
     ]
    },
    {
     "name": "stderr",
     "output_type": "stream",
     "text": [
      "Copying gs://fc-secure-09b7d164-67b2-4c94-8381-4b8202619ea8/data/plink/prscsx_acaf_threshold.chr18.pgen...\n",
      "Copying gs://fc-secure-09b7d164-67b2-4c94-8381-4b8202619ea8/data/plink/prscsx_acaf_threshold.chr18.pvar...\n",
      "Copying gs://fc-secure-09b7d164-67b2-4c94-8381-4b8202619ea8/data/plink/prscsx_acaf_threshold.chr18.psam...\n",
      "\\ [3/3 files][  1.4 GiB/  1.4 GiB] 100% Done  23.2 MiB/s ETA 00:00:00           \n",
      "Operation completed over 3 objects/1.4 GiB.                                      \n"
     ]
    },
    {
     "name": "stdout",
     "output_type": "stream",
     "text": [
      "PLINK v2.00a6LM 64-bit Intel (16 May 2024)     www.cog-genomics.org/plink/2.0/\n",
      "(C) 2005-2024 Shaun Purcell, Christopher Chang   GNU General Public License v3\n",
      "Logging to scores/Standing_height_AFR_pst_eff_a1_b0.5_phi1e-04_chr18.log.\n",
      "Options in effect:\n",
      "  --out scores/Standing_height_AFR_pst_eff_a1_b0.5_phi1e-04_chr18\n",
      "  --pfile plink/prscsx_acaf_threshold.chr18\n",
      "  --score PRScsx_Standing_Height_output/Standing_height_AFR_pst_eff_a1_b0.5_phi1e-04_chr18.txt 2 4 6 variance-standardize list-variants\n",
      "\n",
      "Start time: Thu Jun 13 16:51:05 2024\n",
      "14998 MiB RAM detected, ~13484 available; reserving 7499 MiB for main\n",
      "workspace.\n",
      "Using up to 4 compute threads.\n",
      "245394 samples (0 females, 0 males, 245394 ambiguous; 245394 founders) loaded\n",
      "from plink/prscsx_acaf_threshold.chr18.psam.\n",
      "36050 variants loaded from plink/prscsx_acaf_threshold.chr18.pvar.\n",
      "Note: No phenotype data present.\n",
      "Calculating allele frequencies... done.\n"
     ]
    },
    {
     "name": "stderr",
     "output_type": "stream",
     "text": [
      "Warning: --score: 2 entries in\n",
      "PRScsx_Standing_Height_output/Standing_height_AFR_pst_eff_a1_b0.5_phi1e-04_chr18.txt\n",
      "were skipped due to missing variant IDs.\n"
     ]
    },
    {
     "name": "stdout",
     "output_type": "stream",
     "text": [
      "--score: 34780 variants processed.\n",
      "--score: Variant list written to scores/Standing_height_AFR_pst_eff_a1_b0.5_phi1e-04_chr18.sscore.vars .\n",
      "--score: Results written to\n",
      "scores/Standing_height_AFR_pst_eff_a1_b0.5_phi1e-04_chr18.sscore .\n",
      "End time: Thu Jun 13 16:51:26 2024\n",
      "PLINK v2.00a6LM 64-bit Intel (16 May 2024)     www.cog-genomics.org/plink/2.0/\n",
      "(C) 2005-2024 Shaun Purcell, Christopher Chang   GNU General Public License v3\n",
      "Logging to scores/Standing_height_AMR_pst_eff_a1_b0.5_phi1e-04_chr18.log.\n",
      "Options in effect:\n",
      "  --out scores/Standing_height_AMR_pst_eff_a1_b0.5_phi1e-04_chr18\n",
      "  --pfile plink/prscsx_acaf_threshold.chr18\n",
      "  --score PRScsx_Standing_Height_output/Standing_height_AMR_pst_eff_a1_b0.5_phi1e-04_chr18.txt 2 4 6 variance-standardize list-variants\n",
      "\n",
      "Start time: Thu Jun 13 16:51:26 2024\n",
      "14998 MiB RAM detected, ~13491 available; reserving 7499 MiB for main\n",
      "workspace.\n",
      "Using up to 4 compute threads.\n",
      "245394 samples (0 females, 0 males, 245394 ambiguous; 245394 founders) loaded\n",
      "from plink/prscsx_acaf_threshold.chr18.psam.\n",
      "36050 variants loaded from plink/prscsx_acaf_threshold.chr18.pvar.\n",
      "Note: No phenotype data present.\n",
      "Calculating allele frequencies... done.\n"
     ]
    },
    {
     "name": "stderr",
     "output_type": "stream",
     "text": [
      "Warning: --score: 3 entries in\n",
      "PRScsx_Standing_Height_output/Standing_height_AMR_pst_eff_a1_b0.5_phi1e-04_chr18.txt\n",
      "were skipped due to missing variant IDs.\n"
     ]
    },
    {
     "name": "stdout",
     "output_type": "stream",
     "text": [
      "--score: 33865 variants processed.\n",
      "--score: Variant list written to scores/Standing_height_AMR_pst_eff_a1_b0.5_phi1e-04_chr18.sscore.vars .\n",
      "--score: Results written to\n",
      "scores/Standing_height_AMR_pst_eff_a1_b0.5_phi1e-04_chr18.sscore .\n",
      "End time: Thu Jun 13 16:51:49 2024\n",
      "PLINK v2.00a6LM 64-bit Intel (16 May 2024)     www.cog-genomics.org/plink/2.0/\n",
      "(C) 2005-2024 Shaun Purcell, Christopher Chang   GNU General Public License v3\n",
      "Logging to scores/Standing_height_EAS_pst_eff_a1_b0.5_phi1e-04_chr18.log.\n",
      "Options in effect:\n",
      "  --out scores/Standing_height_EAS_pst_eff_a1_b0.5_phi1e-04_chr18\n",
      "  --pfile plink/prscsx_acaf_threshold.chr18\n",
      "  --score PRScsx_Standing_Height_output/Standing_height_EAS_pst_eff_a1_b0.5_phi1e-04_chr18.txt 2 4 6 variance-standardize list-variants\n",
      "\n",
      "Start time: Thu Jun 13 16:51:49 2024\n",
      "14998 MiB RAM detected, ~13489 available; reserving 7499 MiB for main\n",
      "workspace.\n",
      "Using up to 4 compute threads.\n",
      "245394 samples (0 females, 0 males, 245394 ambiguous; 245394 founders) loaded\n",
      "from plink/prscsx_acaf_threshold.chr18.psam.\n",
      "36050 variants loaded from plink/prscsx_acaf_threshold.chr18.pvar.\n",
      "Note: No phenotype data present.\n",
      "Calculating allele frequencies... done.\n"
     ]
    },
    {
     "name": "stderr",
     "output_type": "stream",
     "text": [
      "Warning: --score: 2 entries in\n",
      "PRScsx_Standing_Height_output/Standing_height_EAS_pst_eff_a1_b0.5_phi1e-04_chr18.txt\n",
      "were skipped due to missing variant IDs.\n"
     ]
    },
    {
     "name": "stdout",
     "output_type": "stream",
     "text": [
      "--score: 29031 variants processed.\n",
      "--score: Variant list written to scores/Standing_height_EAS_pst_eff_a1_b0.5_phi1e-04_chr18.sscore.vars .\n",
      "--score: Results written to\n",
      "scores/Standing_height_EAS_pst_eff_a1_b0.5_phi1e-04_chr18.sscore .\n",
      "End time: Thu Jun 13 16:52:04 2024\n",
      "PLINK v2.00a6LM 64-bit Intel (16 May 2024)     www.cog-genomics.org/plink/2.0/\n",
      "(C) 2005-2024 Shaun Purcell, Christopher Chang   GNU General Public License v3\n",
      "Logging to scores/Standing_height_EUR_pst_eff_a1_b0.5_phi1e-04_chr18.log.\n",
      "Options in effect:\n",
      "  --out scores/Standing_height_EUR_pst_eff_a1_b0.5_phi1e-04_chr18\n",
      "  --pfile plink/prscsx_acaf_threshold.chr18\n",
      "  --score PRScsx_Standing_Height_output/Standing_height_EUR_pst_eff_a1_b0.5_phi1e-04_chr18.txt 2 4 6 variance-standardize list-variants\n",
      "\n",
      "Start time: Thu Jun 13 16:52:04 2024\n",
      "14998 MiB RAM detected, ~13497 available; reserving 7499 MiB for main\n",
      "workspace.\n",
      "Using up to 4 compute threads.\n",
      "245394 samples (0 females, 0 males, 245394 ambiguous; 245394 founders) loaded\n",
      "from plink/prscsx_acaf_threshold.chr18.psam.\n",
      "36050 variants loaded from plink/prscsx_acaf_threshold.chr18.pvar.\n",
      "Note: No phenotype data present.\n",
      "Calculating allele frequencies... done.\n"
     ]
    },
    {
     "name": "stderr",
     "output_type": "stream",
     "text": [
      "Warning: --score: 3 entries in\n",
      "PRScsx_Standing_Height_output/Standing_height_EUR_pst_eff_a1_b0.5_phi1e-04_chr18.txt\n",
      "were skipped due to missing variant IDs.\n"
     ]
    },
    {
     "name": "stdout",
     "output_type": "stream",
     "text": [
      "--score: 31497 variants processed.\n",
      "--score: Variant list written to scores/Standing_height_EUR_pst_eff_a1_b0.5_phi1e-04_chr18.sscore.vars .\n",
      "--score: Results written to\n",
      "scores/Standing_height_EUR_pst_eff_a1_b0.5_phi1e-04_chr18.sscore .\n",
      "End time: Thu Jun 13 16:52:19 2024\n",
      "PLINK v2.00a6LM 64-bit Intel (16 May 2024)     www.cog-genomics.org/plink/2.0/\n",
      "(C) 2005-2024 Shaun Purcell, Christopher Chang   GNU General Public License v3\n",
      "Logging to scores/Standing_height_SAS_pst_eff_a1_b0.5_phi1e-04_chr18.log.\n",
      "Options in effect:\n",
      "  --out scores/Standing_height_SAS_pst_eff_a1_b0.5_phi1e-04_chr18\n",
      "  --pfile plink/prscsx_acaf_threshold.chr18\n",
      "  --score PRScsx_Standing_Height_output/Standing_height_SAS_pst_eff_a1_b0.5_phi1e-04_chr18.txt 2 4 6 variance-standardize list-variants\n",
      "\n",
      "Start time: Thu Jun 13 16:52:19 2024\n",
      "14998 MiB RAM detected, ~13492 available; reserving 7499 MiB for main\n",
      "workspace.\n",
      "Using up to 4 compute threads.\n",
      "245394 samples (0 females, 0 males, 245394 ambiguous; 245394 founders) loaded\n",
      "from plink/prscsx_acaf_threshold.chr18.psam.\n",
      "36050 variants loaded from plink/prscsx_acaf_threshold.chr18.pvar.\n",
      "Note: No phenotype data present.\n",
      "Calculating allele frequencies... done.\n"
     ]
    },
    {
     "name": "stderr",
     "output_type": "stream",
     "text": [
      "Warning: --score: 3 entries in\n",
      "PRScsx_Standing_Height_output/Standing_height_SAS_pst_eff_a1_b0.5_phi1e-04_chr18.txt\n",
      "were skipped due to missing variant IDs.\n"
     ]
    },
    {
     "name": "stdout",
     "output_type": "stream",
     "text": [
      "--score: 31703 variants processed.\n",
      "--score: Variant list written to scores/Standing_height_SAS_pst_eff_a1_b0.5_phi1e-04_chr18.sscore.vars .\n",
      "--score: Results written to\n",
      "scores/Standing_height_SAS_pst_eff_a1_b0.5_phi1e-04_chr18.sscore .\n",
      "End time: Thu Jun 13 16:52:35 2024\n"
     ]
    },
    {
     "name": "stderr",
     "output_type": "stream",
     "text": [
      "Copying gs://fc-secure-09b7d164-67b2-4c94-8381-4b8202619ea8/data/plink/prscsx_acaf_threshold.chr19.pgen...\n",
      "Copying gs://fc-secure-09b7d164-67b2-4c94-8381-4b8202619ea8/data/plink/prscsx_acaf_threshold.chr19.pvar...\n",
      "Copying gs://fc-secure-09b7d164-67b2-4c94-8381-4b8202619ea8/data/plink/prscsx_acaf_threshold.chr19.psam...\n",
      "- [3/3 files][786.0 MiB/786.0 MiB] 100% Done  31.5 MiB/s ETA 00:00:00           \n",
      "Operation completed over 3 objects/786.0 MiB.                                    \n"
     ]
    },
    {
     "name": "stdout",
     "output_type": "stream",
     "text": [
      "PLINK v2.00a6LM 64-bit Intel (16 May 2024)     www.cog-genomics.org/plink/2.0/\n",
      "(C) 2005-2024 Shaun Purcell, Christopher Chang   GNU General Public License v3\n",
      "Logging to scores/Standing_height_AFR_pst_eff_a1_b0.5_phi1e-04_chr19.log.\n",
      "Options in effect:\n",
      "  --out scores/Standing_height_AFR_pst_eff_a1_b0.5_phi1e-04_chr19\n",
      "  --pfile plink/prscsx_acaf_threshold.chr19\n",
      "  --score PRScsx_Standing_Height_output/Standing_height_AFR_pst_eff_a1_b0.5_phi1e-04_chr19.txt 2 4 6 variance-standardize list-variants\n",
      "\n",
      "Start time: Thu Jun 13 16:53:03 2024\n",
      "14998 MiB RAM detected, ~13486 available; reserving 7499 MiB for main\n",
      "workspace.\n",
      "Using up to 4 compute threads.\n",
      "245394 samples (0 females, 0 males, 245394 ambiguous; 245394 founders) loaded\n",
      "from plink/prscsx_acaf_threshold.chr19.psam.\n",
      "21014 variants loaded from plink/prscsx_acaf_threshold.chr19.pvar.\n",
      "Note: No phenotype data present.\n",
      "Calculating allele frequencies... done.\n"
     ]
    },
    {
     "name": "stderr",
     "output_type": "stream",
     "text": [
      "Warning: --score: 3 entries in\n",
      "PRScsx_Standing_Height_output/Standing_height_AFR_pst_eff_a1_b0.5_phi1e-04_chr19.txt\n",
      "were skipped due to missing variant IDs.\n"
     ]
    },
    {
     "name": "stdout",
     "output_type": "stream",
     "text": [
      "--score: 20331 variants processed.\n",
      "--score: Variant list written to scores/Standing_height_AFR_pst_eff_a1_b0.5_phi1e-04_chr19.sscore.vars .\n",
      "--score: Results written to\n",
      "scores/Standing_height_AFR_pst_eff_a1_b0.5_phi1e-04_chr19.sscore .\n",
      "End time: Thu Jun 13 16:53:12 2024\n",
      "PLINK v2.00a6LM 64-bit Intel (16 May 2024)     www.cog-genomics.org/plink/2.0/\n",
      "(C) 2005-2024 Shaun Purcell, Christopher Chang   GNU General Public License v3\n",
      "Logging to scores/Standing_height_AMR_pst_eff_a1_b0.5_phi1e-04_chr19.log.\n",
      "Options in effect:\n",
      "  --out scores/Standing_height_AMR_pst_eff_a1_b0.5_phi1e-04_chr19\n",
      "  --pfile plink/prscsx_acaf_threshold.chr19\n",
      "  --score PRScsx_Standing_Height_output/Standing_height_AMR_pst_eff_a1_b0.5_phi1e-04_chr19.txt 2 4 6 variance-standardize list-variants\n",
      "\n",
      "Start time: Thu Jun 13 16:53:13 2024\n",
      "14998 MiB RAM detected, ~13490 available; reserving 7499 MiB for main\n",
      "workspace.\n",
      "Using up to 4 compute threads.\n",
      "245394 samples (0 females, 0 males, 245394 ambiguous; 245394 founders) loaded\n",
      "from plink/prscsx_acaf_threshold.chr19.psam.\n",
      "21014 variants loaded from plink/prscsx_acaf_threshold.chr19.pvar.\n",
      "Note: No phenotype data present.\n",
      "Calculating allele frequencies... done.\n"
     ]
    },
    {
     "name": "stderr",
     "output_type": "stream",
     "text": [
      "Warning: --score: 3 entries in\n",
      "PRScsx_Standing_Height_output/Standing_height_AMR_pst_eff_a1_b0.5_phi1e-04_chr19.txt\n",
      "were skipped due to missing variant IDs.\n"
     ]
    },
    {
     "name": "stdout",
     "output_type": "stream",
     "text": [
      "--score: 19331 variants processed.\n",
      "--score: Variant list written to scores/Standing_height_AMR_pst_eff_a1_b0.5_phi1e-04_chr19.sscore.vars .\n",
      "--score: Results written to\n",
      "scores/Standing_height_AMR_pst_eff_a1_b0.5_phi1e-04_chr19.sscore .\n",
      "End time: Thu Jun 13 16:53:22 2024\n",
      "PLINK v2.00a6LM 64-bit Intel (16 May 2024)     www.cog-genomics.org/plink/2.0/\n",
      "(C) 2005-2024 Shaun Purcell, Christopher Chang   GNU General Public License v3\n",
      "Logging to scores/Standing_height_EAS_pst_eff_a1_b0.5_phi1e-04_chr19.log.\n",
      "Options in effect:\n",
      "  --out scores/Standing_height_EAS_pst_eff_a1_b0.5_phi1e-04_chr19\n",
      "  --pfile plink/prscsx_acaf_threshold.chr19\n",
      "  --score PRScsx_Standing_Height_output/Standing_height_EAS_pst_eff_a1_b0.5_phi1e-04_chr19.txt 2 4 6 variance-standardize list-variants\n",
      "\n",
      "Start time: Thu Jun 13 16:53:22 2024\n",
      "14998 MiB RAM detected, ~13503 available; reserving 7499 MiB for main\n",
      "workspace.\n",
      "Using up to 4 compute threads.\n",
      "245394 samples (0 females, 0 males, 245394 ambiguous; 245394 founders) loaded\n",
      "from plink/prscsx_acaf_threshold.chr19.psam.\n",
      "21014 variants loaded from plink/prscsx_acaf_threshold.chr19.pvar.\n",
      "Note: No phenotype data present.\n",
      "Calculating allele frequencies... done.\n"
     ]
    },
    {
     "name": "stderr",
     "output_type": "stream",
     "text": [
      "Warning: --score: 3 entries in\n",
      "PRScsx_Standing_Height_output/Standing_height_EAS_pst_eff_a1_b0.5_phi1e-04_chr19.txt\n",
      "were skipped due to missing variant IDs.\n"
     ]
    },
    {
     "name": "stdout",
     "output_type": "stream",
     "text": [
      "--score: 17027 variants processed.\n",
      "--score: Variant list written to scores/Standing_height_EAS_pst_eff_a1_b0.5_phi1e-04_chr19.sscore.vars .\n",
      "--score: Results written to\n",
      "scores/Standing_height_EAS_pst_eff_a1_b0.5_phi1e-04_chr19.sscore .\n",
      "End time: Thu Jun 13 16:53:31 2024\n",
      "PLINK v2.00a6LM 64-bit Intel (16 May 2024)     www.cog-genomics.org/plink/2.0/\n",
      "(C) 2005-2024 Shaun Purcell, Christopher Chang   GNU General Public License v3\n",
      "Logging to scores/Standing_height_EUR_pst_eff_a1_b0.5_phi1e-04_chr19.log.\n",
      "Options in effect:\n",
      "  --out scores/Standing_height_EUR_pst_eff_a1_b0.5_phi1e-04_chr19\n",
      "  --pfile plink/prscsx_acaf_threshold.chr19\n",
      "  --score PRScsx_Standing_Height_output/Standing_height_EUR_pst_eff_a1_b0.5_phi1e-04_chr19.txt 2 4 6 variance-standardize list-variants\n",
      "\n",
      "Start time: Thu Jun 13 16:53:31 2024\n",
      "14998 MiB RAM detected, ~13505 available; reserving 7499 MiB for main\n",
      "workspace.\n",
      "Using up to 4 compute threads.\n",
      "245394 samples (0 females, 0 males, 245394 ambiguous; 245394 founders) loaded\n",
      "from plink/prscsx_acaf_threshold.chr19.psam.\n",
      "21014 variants loaded from plink/prscsx_acaf_threshold.chr19.pvar.\n",
      "Note: No phenotype data present.\n",
      "Calculating allele frequencies... done.\n"
     ]
    },
    {
     "name": "stderr",
     "output_type": "stream",
     "text": [
      "Warning: --score: 3 entries in\n",
      "PRScsx_Standing_Height_output/Standing_height_EUR_pst_eff_a1_b0.5_phi1e-04_chr19.txt\n",
      "were skipped due to missing variant IDs.\n"
     ]
    },
    {
     "name": "stdout",
     "output_type": "stream",
     "text": [
      "--score: 18075 variants processed.\n",
      "--score: Variant list written to scores/Standing_height_EUR_pst_eff_a1_b0.5_phi1e-04_chr19.sscore.vars .\n",
      "--score: Results written to\n",
      "scores/Standing_height_EUR_pst_eff_a1_b0.5_phi1e-04_chr19.sscore .\n",
      "End time: Thu Jun 13 16:53:40 2024\n",
      "PLINK v2.00a6LM 64-bit Intel (16 May 2024)     www.cog-genomics.org/plink/2.0/\n",
      "(C) 2005-2024 Shaun Purcell, Christopher Chang   GNU General Public License v3\n",
      "Logging to scores/Standing_height_SAS_pst_eff_a1_b0.5_phi1e-04_chr19.log.\n",
      "Options in effect:\n",
      "  --out scores/Standing_height_SAS_pst_eff_a1_b0.5_phi1e-04_chr19\n",
      "  --pfile plink/prscsx_acaf_threshold.chr19\n",
      "  --score PRScsx_Standing_Height_output/Standing_height_SAS_pst_eff_a1_b0.5_phi1e-04_chr19.txt 2 4 6 variance-standardize list-variants\n",
      "\n",
      "Start time: Thu Jun 13 16:53:40 2024\n",
      "14998 MiB RAM detected, ~13504 available; reserving 7499 MiB for main\n",
      "workspace.\n",
      "Using up to 4 compute threads.\n",
      "245394 samples (0 females, 0 males, 245394 ambiguous; 245394 founders) loaded\n",
      "from plink/prscsx_acaf_threshold.chr19.psam.\n",
      "21014 variants loaded from plink/prscsx_acaf_threshold.chr19.pvar.\n",
      "Note: No phenotype data present.\n",
      "Calculating allele frequencies... done.\n"
     ]
    },
    {
     "name": "stderr",
     "output_type": "stream",
     "text": [
      "Warning: --score: 3 entries in\n",
      "PRScsx_Standing_Height_output/Standing_height_SAS_pst_eff_a1_b0.5_phi1e-04_chr19.txt\n",
      "were skipped due to missing variant IDs.\n"
     ]
    },
    {
     "name": "stdout",
     "output_type": "stream",
     "text": [
      "--score: 18178 variants processed.\n",
      "--score: Variant list written to scores/Standing_height_SAS_pst_eff_a1_b0.5_phi1e-04_chr19.sscore.vars .\n",
      "--score: Results written to\n",
      "scores/Standing_height_SAS_pst_eff_a1_b0.5_phi1e-04_chr19.sscore .\n",
      "End time: Thu Jun 13 16:53:49 2024\n"
     ]
    },
    {
     "name": "stderr",
     "output_type": "stream",
     "text": [
      "Copying gs://fc-secure-09b7d164-67b2-4c94-8381-4b8202619ea8/data/plink/prscsx_acaf_threshold.chr20.pgen...\n",
      "Copying gs://fc-secure-09b7d164-67b2-4c94-8381-4b8202619ea8/data/plink/prscsx_acaf_threshold.chr20.psam...\n",
      "Copying gs://fc-secure-09b7d164-67b2-4c94-8381-4b8202619ea8/data/plink/prscsx_acaf_threshold.chr20.pvar...\n",
      "| [3/3 files][  1.0 GiB/  1.0 GiB] 100% Done  34.7 MiB/s ETA 00:00:00           \n",
      "Operation completed over 3 objects/1.0 GiB.                                      \n"
     ]
    },
    {
     "name": "stdout",
     "output_type": "stream",
     "text": [
      "PLINK v2.00a6LM 64-bit Intel (16 May 2024)     www.cog-genomics.org/plink/2.0/\n",
      "(C) 2005-2024 Shaun Purcell, Christopher Chang   GNU General Public License v3\n",
      "Logging to scores/Standing_height_AFR_pst_eff_a1_b0.5_phi1e-04_chr20.log.\n",
      "Options in effect:\n",
      "  --out scores/Standing_height_AFR_pst_eff_a1_b0.5_phi1e-04_chr20\n",
      "  --pfile plink/prscsx_acaf_threshold.chr20\n",
      "  --score PRScsx_Standing_Height_output/Standing_height_AFR_pst_eff_a1_b0.5_phi1e-04_chr20.txt 2 4 6 variance-standardize list-variants\n",
      "\n",
      "Start time: Thu Jun 13 16:54:22 2024\n",
      "14998 MiB RAM detected, ~13485 available; reserving 7499 MiB for main\n",
      "workspace.\n",
      "Using up to 4 compute threads.\n",
      "245394 samples (0 females, 0 males, 245394 ambiguous; 245394 founders) loaded\n",
      "from plink/prscsx_acaf_threshold.chr20.psam.\n",
      "27731 variants loaded from plink/prscsx_acaf_threshold.chr20.pvar.\n",
      "Note: No phenotype data present.\n",
      "Calculating allele frequencies... done.\n"
     ]
    },
    {
     "name": "stderr",
     "output_type": "stream",
     "text": [
      "Warning: --score: 3 entries in\n",
      "PRScsx_Standing_Height_output/Standing_height_AFR_pst_eff_a1_b0.5_phi1e-04_chr20.txt\n",
      "were skipped due to missing variant IDs.\n"
     ]
    },
    {
     "name": "stdout",
     "output_type": "stream",
     "text": [
      "--score: 26760 variants processed.\n",
      "--score: Variant list written to scores/Standing_height_AFR_pst_eff_a1_b0.5_phi1e-04_chr20.sscore.vars .\n",
      "--score: Results written to\n",
      "scores/Standing_height_AFR_pst_eff_a1_b0.5_phi1e-04_chr20.sscore .\n",
      "End time: Thu Jun 13 16:54:47 2024\n",
      "PLINK v2.00a6LM 64-bit Intel (16 May 2024)     www.cog-genomics.org/plink/2.0/\n",
      "(C) 2005-2024 Shaun Purcell, Christopher Chang   GNU General Public License v3\n",
      "Logging to scores/Standing_height_AMR_pst_eff_a1_b0.5_phi1e-04_chr20.log.\n",
      "Options in effect:\n",
      "  --out scores/Standing_height_AMR_pst_eff_a1_b0.5_phi1e-04_chr20\n",
      "  --pfile plink/prscsx_acaf_threshold.chr20\n",
      "  --score PRScsx_Standing_Height_output/Standing_height_AMR_pst_eff_a1_b0.5_phi1e-04_chr20.txt 2 4 6 variance-standardize list-variants\n",
      "\n",
      "Start time: Thu Jun 13 16:54:47 2024\n",
      "14998 MiB RAM detected, ~13486 available; reserving 7499 MiB for main\n",
      "workspace.\n",
      "Using up to 4 compute threads.\n",
      "245394 samples (0 females, 0 males, 245394 ambiguous; 245394 founders) loaded\n",
      "from plink/prscsx_acaf_threshold.chr20.psam.\n",
      "27731 variants loaded from plink/prscsx_acaf_threshold.chr20.pvar.\n",
      "Note: No phenotype data present.\n",
      "Calculating allele frequencies... done.\n"
     ]
    },
    {
     "name": "stderr",
     "output_type": "stream",
     "text": [
      "Warning: --score: 2 entries in\n",
      "PRScsx_Standing_Height_output/Standing_height_AMR_pst_eff_a1_b0.5_phi1e-04_chr20.txt\n",
      "were skipped due to missing variant IDs.\n"
     ]
    },
    {
     "name": "stdout",
     "output_type": "stream",
     "text": [
      "--score: 26050 variants processed.\n",
      "--score: Variant list written to scores/Standing_height_AMR_pst_eff_a1_b0.5_phi1e-04_chr20.sscore.vars .\n",
      "--score: Results written to\n",
      "scores/Standing_height_AMR_pst_eff_a1_b0.5_phi1e-04_chr20.sscore .\n",
      "End time: Thu Jun 13 16:55:02 2024\n",
      "PLINK v2.00a6LM 64-bit Intel (16 May 2024)     www.cog-genomics.org/plink/2.0/\n",
      "(C) 2005-2024 Shaun Purcell, Christopher Chang   GNU General Public License v3\n",
      "Logging to scores/Standing_height_EAS_pst_eff_a1_b0.5_phi1e-04_chr20.log.\n",
      "Options in effect:\n",
      "  --out scores/Standing_height_EAS_pst_eff_a1_b0.5_phi1e-04_chr20\n",
      "  --pfile plink/prscsx_acaf_threshold.chr20\n",
      "  --score PRScsx_Standing_Height_output/Standing_height_EAS_pst_eff_a1_b0.5_phi1e-04_chr20.txt 2 4 6 variance-standardize list-variants\n",
      "\n",
      "Start time: Thu Jun 13 16:55:02 2024\n",
      "14998 MiB RAM detected, ~13494 available; reserving 7499 MiB for main\n",
      "workspace.\n",
      "Using up to 4 compute threads.\n",
      "245394 samples (0 females, 0 males, 245394 ambiguous; 245394 founders) loaded\n",
      "from plink/prscsx_acaf_threshold.chr20.psam.\n",
      "27731 variants loaded from plink/prscsx_acaf_threshold.chr20.pvar.\n",
      "Note: No phenotype data present.\n",
      "Calculating allele frequencies... done.\n"
     ]
    },
    {
     "name": "stderr",
     "output_type": "stream",
     "text": [
      "Warning: --score: 1 entry in\n",
      "PRScsx_Standing_Height_output/Standing_height_EAS_pst_eff_a1_b0.5_phi1e-04_chr20.txt\n",
      "was skipped due to a missing variant ID.\n"
     ]
    },
    {
     "name": "stdout",
     "output_type": "stream",
     "text": [
      "--score: 22493 variants processed.\n",
      "--score: Variant list written to scores/Standing_height_EAS_pst_eff_a1_b0.5_phi1e-04_chr20.sscore.vars .\n",
      "--score: Results written to\n",
      "scores/Standing_height_EAS_pst_eff_a1_b0.5_phi1e-04_chr20.sscore .\n",
      "End time: Thu Jun 13 16:55:13 2024\n",
      "PLINK v2.00a6LM 64-bit Intel (16 May 2024)     www.cog-genomics.org/plink/2.0/\n",
      "(C) 2005-2024 Shaun Purcell, Christopher Chang   GNU General Public License v3\n",
      "Logging to scores/Standing_height_EUR_pst_eff_a1_b0.5_phi1e-04_chr20.log.\n",
      "Options in effect:\n",
      "  --out scores/Standing_height_EUR_pst_eff_a1_b0.5_phi1e-04_chr20\n",
      "  --pfile plink/prscsx_acaf_threshold.chr20\n",
      "  --score PRScsx_Standing_Height_output/Standing_height_EUR_pst_eff_a1_b0.5_phi1e-04_chr20.txt 2 4 6 variance-standardize list-variants\n",
      "\n",
      "Start time: Thu Jun 13 16:55:13 2024\n",
      "14998 MiB RAM detected, ~13497 available; reserving 7499 MiB for main\n",
      "workspace.\n",
      "Using up to 4 compute threads.\n",
      "245394 samples (0 females, 0 males, 245394 ambiguous; 245394 founders) loaded\n",
      "from plink/prscsx_acaf_threshold.chr20.psam.\n",
      "27731 variants loaded from plink/prscsx_acaf_threshold.chr20.pvar.\n",
      "Note: No phenotype data present.\n",
      "Calculating allele frequencies... done.\n"
     ]
    },
    {
     "name": "stderr",
     "output_type": "stream",
     "text": [
      "Warning: --score: 2 entries in\n",
      "PRScsx_Standing_Height_output/Standing_height_EUR_pst_eff_a1_b0.5_phi1e-04_chr20.txt\n",
      "were skipped due to missing variant IDs.\n"
     ]
    },
    {
     "name": "stdout",
     "output_type": "stream",
     "text": [
      "--score: 24358 variants processed.\n",
      "--score: Variant list written to scores/Standing_height_EUR_pst_eff_a1_b0.5_phi1e-04_chr20.sscore.vars .\n",
      "--score: Results written to\n",
      "scores/Standing_height_EUR_pst_eff_a1_b0.5_phi1e-04_chr20.sscore .\n",
      "End time: Thu Jun 13 16:55:25 2024\n",
      "PLINK v2.00a6LM 64-bit Intel (16 May 2024)     www.cog-genomics.org/plink/2.0/\n",
      "(C) 2005-2024 Shaun Purcell, Christopher Chang   GNU General Public License v3\n",
      "Logging to scores/Standing_height_SAS_pst_eff_a1_b0.5_phi1e-04_chr20.log.\n",
      "Options in effect:\n",
      "  --out scores/Standing_height_SAS_pst_eff_a1_b0.5_phi1e-04_chr20\n",
      "  --pfile plink/prscsx_acaf_threshold.chr20\n",
      "  --score PRScsx_Standing_Height_output/Standing_height_SAS_pst_eff_a1_b0.5_phi1e-04_chr20.txt 2 4 6 variance-standardize list-variants\n",
      "\n",
      "Start time: Thu Jun 13 16:55:25 2024\n",
      "14998 MiB RAM detected, ~13491 available; reserving 7499 MiB for main\n",
      "workspace.\n",
      "Using up to 4 compute threads.\n",
      "245394 samples (0 females, 0 males, 245394 ambiguous; 245394 founders) loaded\n",
      "from plink/prscsx_acaf_threshold.chr20.psam.\n",
      "27731 variants loaded from plink/prscsx_acaf_threshold.chr20.pvar.\n",
      "Note: No phenotype data present.\n",
      "Calculating allele frequencies... done.\n"
     ]
    },
    {
     "name": "stderr",
     "output_type": "stream",
     "text": [
      "Warning: --score: 2 entries in\n",
      "PRScsx_Standing_Height_output/Standing_height_SAS_pst_eff_a1_b0.5_phi1e-04_chr20.txt\n",
      "were skipped due to missing variant IDs.\n"
     ]
    },
    {
     "name": "stdout",
     "output_type": "stream",
     "text": [
      "--score: 24576 variants processed.\n",
      "--score: Variant list written to scores/Standing_height_SAS_pst_eff_a1_b0.5_phi1e-04_chr20.sscore.vars .\n",
      "--score: Results written to\n",
      "scores/Standing_height_SAS_pst_eff_a1_b0.5_phi1e-04_chr20.sscore .\n",
      "End time: Thu Jun 13 16:55:38 2024\n"
     ]
    },
    {
     "name": "stderr",
     "output_type": "stream",
     "text": [
      "Copying gs://fc-secure-09b7d164-67b2-4c94-8381-4b8202619ea8/data/plink/prscsx_acaf_threshold.chr21.pgen...\n",
      "Copying gs://fc-secure-09b7d164-67b2-4c94-8381-4b8202619ea8/data/plink/prscsx_acaf_threshold.chr21.psam...\n",
      "Copying gs://fc-secure-09b7d164-67b2-4c94-8381-4b8202619ea8/data/plink/prscsx_acaf_threshold.chr21.pvar...\n",
      "/ [3/3 files][626.1 MiB/626.1 MiB] 100% Done  27.4 MiB/s ETA 00:00:00           \n",
      "Operation completed over 3 objects/626.1 MiB.                                    \n"
     ]
    },
    {
     "name": "stdout",
     "output_type": "stream",
     "text": [
      "PLINK v2.00a6LM 64-bit Intel (16 May 2024)     www.cog-genomics.org/plink/2.0/\n",
      "(C) 2005-2024 Shaun Purcell, Christopher Chang   GNU General Public License v3\n",
      "Logging to scores/Standing_height_AFR_pst_eff_a1_b0.5_phi1e-04_chr21.log.\n",
      "Options in effect:\n",
      "  --out scores/Standing_height_AFR_pst_eff_a1_b0.5_phi1e-04_chr21\n",
      "  --pfile plink/prscsx_acaf_threshold.chr21\n",
      "  --score PRScsx_Standing_Height_output/Standing_height_AFR_pst_eff_a1_b0.5_phi1e-04_chr21.txt 2 4 6 variance-standardize list-variants\n",
      "\n",
      "Start time: Thu Jun 13 16:56:04 2024\n",
      "14998 MiB RAM detected, ~13485 available; reserving 7499 MiB for main\n",
      "workspace.\n",
      "Using up to 4 compute threads.\n",
      "245394 samples (0 females, 0 males, 245394 ambiguous; 245394 founders) loaded\n",
      "from plink/prscsx_acaf_threshold.chr21.psam.\n",
      "16044 variants loaded from plink/prscsx_acaf_threshold.chr21.pvar.\n",
      "Note: No phenotype data present.\n",
      "Calculating allele frequencies... done.\n"
     ]
    },
    {
     "name": "stderr",
     "output_type": "stream",
     "text": [
      "Warning: --score: 3 entries in\n",
      "PRScsx_Standing_Height_output/Standing_height_AFR_pst_eff_a1_b0.5_phi1e-04_chr21.txt\n",
      "were skipped due to missing variant IDs.\n"
     ]
    },
    {
     "name": "stdout",
     "output_type": "stream",
     "text": [
      "--score: 15530 variants processed.\n",
      "--score: Variant list written to scores/Standing_height_AFR_pst_eff_a1_b0.5_phi1e-04_chr21.sscore.vars .\n",
      "--score: Results written to\n",
      "scores/Standing_height_AFR_pst_eff_a1_b0.5_phi1e-04_chr21.sscore .\n",
      "End time: Thu Jun 13 16:56:12 2024\n",
      "PLINK v2.00a6LM 64-bit Intel (16 May 2024)     www.cog-genomics.org/plink/2.0/\n",
      "(C) 2005-2024 Shaun Purcell, Christopher Chang   GNU General Public License v3\n",
      "Logging to scores/Standing_height_AMR_pst_eff_a1_b0.5_phi1e-04_chr21.log.\n",
      "Options in effect:\n",
      "  --out scores/Standing_height_AMR_pst_eff_a1_b0.5_phi1e-04_chr21\n",
      "  --pfile plink/prscsx_acaf_threshold.chr21\n",
      "  --score PRScsx_Standing_Height_output/Standing_height_AMR_pst_eff_a1_b0.5_phi1e-04_chr21.txt 2 4 6 variance-standardize list-variants\n",
      "\n",
      "Start time: Thu Jun 13 16:56:12 2024\n",
      "14998 MiB RAM detected, ~13504 available; reserving 7499 MiB for main\n",
      "workspace.\n",
      "Using up to 4 compute threads.\n",
      "245394 samples (0 females, 0 males, 245394 ambiguous; 245394 founders) loaded\n",
      "from plink/prscsx_acaf_threshold.chr21.psam.\n",
      "16044 variants loaded from plink/prscsx_acaf_threshold.chr21.pvar.\n",
      "Note: No phenotype data present.\n",
      "Calculating allele frequencies... done.\n"
     ]
    },
    {
     "name": "stderr",
     "output_type": "stream",
     "text": [
      "Warning: --score: 1 entry in\n",
      "PRScsx_Standing_Height_output/Standing_height_AMR_pst_eff_a1_b0.5_phi1e-04_chr21.txt\n",
      "was skipped due to a missing variant ID.\n"
     ]
    },
    {
     "name": "stdout",
     "output_type": "stream",
     "text": [
      "--score: 15185 variants processed.\n",
      "--score: Variant list written to scores/Standing_height_AMR_pst_eff_a1_b0.5_phi1e-04_chr21.sscore.vars .\n",
      "--score: Results written to\n",
      "scores/Standing_height_AMR_pst_eff_a1_b0.5_phi1e-04_chr21.sscore .\n",
      "End time: Thu Jun 13 16:56:19 2024\n",
      "PLINK v2.00a6LM 64-bit Intel (16 May 2024)     www.cog-genomics.org/plink/2.0/\n",
      "(C) 2005-2024 Shaun Purcell, Christopher Chang   GNU General Public License v3\n",
      "Logging to scores/Standing_height_EAS_pst_eff_a1_b0.5_phi1e-04_chr21.log.\n",
      "Options in effect:\n",
      "  --out scores/Standing_height_EAS_pst_eff_a1_b0.5_phi1e-04_chr21\n",
      "  --pfile plink/prscsx_acaf_threshold.chr21\n",
      "  --score PRScsx_Standing_Height_output/Standing_height_EAS_pst_eff_a1_b0.5_phi1e-04_chr21.txt 2 4 6 variance-standardize list-variants\n",
      "\n",
      "Start time: Thu Jun 13 16:56:20 2024\n",
      "14998 MiB RAM detected, ~13497 available; reserving 7499 MiB for main\n",
      "workspace.\n",
      "Using up to 4 compute threads.\n",
      "245394 samples (0 females, 0 males, 245394 ambiguous; 245394 founders) loaded\n",
      "from plink/prscsx_acaf_threshold.chr21.psam.\n",
      "16044 variants loaded from plink/prscsx_acaf_threshold.chr21.pvar.\n",
      "Note: No phenotype data present.\n",
      "Calculating allele frequencies... done.\n"
     ]
    },
    {
     "name": "stderr",
     "output_type": "stream",
     "text": [
      "Warning: --score: 2 entries in\n",
      "PRScsx_Standing_Height_output/Standing_height_EAS_pst_eff_a1_b0.5_phi1e-04_chr21.txt\n",
      "were skipped due to missing variant IDs.\n"
     ]
    },
    {
     "name": "stdout",
     "output_type": "stream",
     "text": [
      "--score: 13321 variants processed.\n",
      "--score: Variant list written to scores/Standing_height_EAS_pst_eff_a1_b0.5_phi1e-04_chr21.sscore.vars .\n",
      "--score: Results written to\n",
      "scores/Standing_height_EAS_pst_eff_a1_b0.5_phi1e-04_chr21.sscore .\n",
      "End time: Thu Jun 13 16:56:27 2024\n",
      "PLINK v2.00a6LM 64-bit Intel (16 May 2024)     www.cog-genomics.org/plink/2.0/\n",
      "(C) 2005-2024 Shaun Purcell, Christopher Chang   GNU General Public License v3\n",
      "Logging to scores/Standing_height_EUR_pst_eff_a1_b0.5_phi1e-04_chr21.log.\n",
      "Options in effect:\n",
      "  --out scores/Standing_height_EUR_pst_eff_a1_b0.5_phi1e-04_chr21\n",
      "  --pfile plink/prscsx_acaf_threshold.chr21\n",
      "  --score PRScsx_Standing_Height_output/Standing_height_EUR_pst_eff_a1_b0.5_phi1e-04_chr21.txt 2 4 6 variance-standardize list-variants\n",
      "\n",
      "Start time: Thu Jun 13 16:56:27 2024\n",
      "14998 MiB RAM detected, ~13499 available; reserving 7499 MiB for main\n",
      "workspace.\n",
      "Using up to 4 compute threads.\n",
      "245394 samples (0 females, 0 males, 245394 ambiguous; 245394 founders) loaded\n",
      "from plink/prscsx_acaf_threshold.chr21.psam.\n",
      "16044 variants loaded from plink/prscsx_acaf_threshold.chr21.pvar.\n",
      "Note: No phenotype data present.\n",
      "Calculating allele frequencies... done.\n"
     ]
    },
    {
     "name": "stderr",
     "output_type": "stream",
     "text": [
      "Warning: --score: 1 entry in\n",
      "PRScsx_Standing_Height_output/Standing_height_EUR_pst_eff_a1_b0.5_phi1e-04_chr21.txt\n",
      "was skipped due to a missing variant ID.\n"
     ]
    },
    {
     "name": "stdout",
     "output_type": "stream",
     "text": [
      "--score: 14256 variants processed.\n",
      "--score: Variant list written to scores/Standing_height_EUR_pst_eff_a1_b0.5_phi1e-04_chr21.sscore.vars .\n",
      "--score: Results written to\n",
      "scores/Standing_height_EUR_pst_eff_a1_b0.5_phi1e-04_chr21.sscore .\n",
      "End time: Thu Jun 13 16:56:34 2024\n",
      "PLINK v2.00a6LM 64-bit Intel (16 May 2024)     www.cog-genomics.org/plink/2.0/\n",
      "(C) 2005-2024 Shaun Purcell, Christopher Chang   GNU General Public License v3\n",
      "Logging to scores/Standing_height_SAS_pst_eff_a1_b0.5_phi1e-04_chr21.log.\n",
      "Options in effect:\n",
      "  --out scores/Standing_height_SAS_pst_eff_a1_b0.5_phi1e-04_chr21\n",
      "  --pfile plink/prscsx_acaf_threshold.chr21\n",
      "  --score PRScsx_Standing_Height_output/Standing_height_SAS_pst_eff_a1_b0.5_phi1e-04_chr21.txt 2 4 6 variance-standardize list-variants\n",
      "\n",
      "Start time: Thu Jun 13 16:56:34 2024\n",
      "14998 MiB RAM detected, ~13499 available; reserving 7499 MiB for main\n",
      "workspace.\n",
      "Using up to 4 compute threads.\n",
      "245394 samples (0 females, 0 males, 245394 ambiguous; 245394 founders) loaded\n",
      "from plink/prscsx_acaf_threshold.chr21.psam.\n",
      "16044 variants loaded from plink/prscsx_acaf_threshold.chr21.pvar.\n",
      "Note: No phenotype data present.\n",
      "Calculating allele frequencies... done.\n"
     ]
    },
    {
     "name": "stderr",
     "output_type": "stream",
     "text": [
      "Warning: --score: 2 entries in\n",
      "PRScsx_Standing_Height_output/Standing_height_SAS_pst_eff_a1_b0.5_phi1e-04_chr21.txt\n",
      "were skipped due to missing variant IDs.\n"
     ]
    },
    {
     "name": "stdout",
     "output_type": "stream",
     "text": [
      "--score: 14368 variants processed.\n",
      "--score: Variant list written to scores/Standing_height_SAS_pst_eff_a1_b0.5_phi1e-04_chr21.sscore.vars .\n",
      "--score: Results written to\n",
      "scores/Standing_height_SAS_pst_eff_a1_b0.5_phi1e-04_chr21.sscore .\n",
      "End time: Thu Jun 13 16:56:42 2024\n"
     ]
    },
    {
     "name": "stderr",
     "output_type": "stream",
     "text": [
      "Copying gs://fc-secure-09b7d164-67b2-4c94-8381-4b8202619ea8/data/plink/prscsx_acaf_threshold.chr22.psam...\n",
      "Copying gs://fc-secure-09b7d164-67b2-4c94-8381-4b8202619ea8/data/plink/prscsx_acaf_threshold.chr22.pgen...\n",
      "Copying gs://fc-secure-09b7d164-67b2-4c94-8381-4b8202619ea8/data/plink/prscsx_acaf_threshold.chr22.pvar...\n",
      "/ [3/3 files][635.7 MiB/635.7 MiB] 100% Done  29.7 MiB/s ETA 00:00:00           \n",
      "Operation completed over 3 objects/635.7 MiB.                                    \n"
     ]
    },
    {
     "name": "stdout",
     "output_type": "stream",
     "text": [
      "PLINK v2.00a6LM 64-bit Intel (16 May 2024)     www.cog-genomics.org/plink/2.0/\n",
      "(C) 2005-2024 Shaun Purcell, Christopher Chang   GNU General Public License v3\n",
      "Logging to scores/Standing_height_AFR_pst_eff_a1_b0.5_phi1e-04_chr22.log.\n",
      "Options in effect:\n",
      "  --out scores/Standing_height_AFR_pst_eff_a1_b0.5_phi1e-04_chr22\n",
      "  --pfile plink/prscsx_acaf_threshold.chr22\n",
      "  --score PRScsx_Standing_Height_output/Standing_height_AFR_pst_eff_a1_b0.5_phi1e-04_chr22.txt 2 4 6 variance-standardize list-variants\n",
      "\n",
      "Start time: Thu Jun 13 16:57:06 2024\n",
      "14998 MiB RAM detected, ~13468 available; reserving 7499 MiB for main\n",
      "workspace.\n",
      "Using up to 4 compute threads.\n",
      "245394 samples (0 females, 0 males, 245394 ambiguous; 245394 founders) loaded\n",
      "from plink/prscsx_acaf_threshold.chr22.psam.\n",
      "16458 variants loaded from plink/prscsx_acaf_threshold.chr22.pvar.\n",
      "Note: No phenotype data present.\n",
      "Calculating allele frequencies... done.\n",
      "--score: 15767 variants processed.\n",
      "--score: Variant list written to scores/Standing_height_AFR_pst_eff_a1_b0.5_phi1e-04_chr22.sscore.vars .\n",
      "--score: Results written to\n",
      "scores/Standing_height_AFR_pst_eff_a1_b0.5_phi1e-04_chr22.sscore .\n",
      "End time: Thu Jun 13 16:57:14 2024\n",
      "PLINK v2.00a6LM 64-bit Intel (16 May 2024)     www.cog-genomics.org/plink/2.0/\n",
      "(C) 2005-2024 Shaun Purcell, Christopher Chang   GNU General Public License v3\n",
      "Logging to scores/Standing_height_AMR_pst_eff_a1_b0.5_phi1e-04_chr22.log.\n",
      "Options in effect:\n",
      "  --out scores/Standing_height_AMR_pst_eff_a1_b0.5_phi1e-04_chr22\n",
      "  --pfile plink/prscsx_acaf_threshold.chr22\n",
      "  --score PRScsx_Standing_Height_output/Standing_height_AMR_pst_eff_a1_b0.5_phi1e-04_chr22.txt 2 4 6 variance-standardize list-variants\n",
      "\n",
      "Start time: Thu Jun 13 16:57:14 2024\n",
      "14998 MiB RAM detected, ~13497 available; reserving 7499 MiB for main\n",
      "workspace.\n",
      "Using up to 4 compute threads.\n",
      "245394 samples (0 females, 0 males, 245394 ambiguous; 245394 founders) loaded\n",
      "from plink/prscsx_acaf_threshold.chr22.psam.\n",
      "16458 variants loaded from plink/prscsx_acaf_threshold.chr22.pvar.\n",
      "Note: No phenotype data present.\n",
      "Calculating allele frequencies... done.\n",
      "--score: 15287 variants processed.\n",
      "--score: Variant list written to scores/Standing_height_AMR_pst_eff_a1_b0.5_phi1e-04_chr22.sscore.vars .\n",
      "--score: Results written to\n",
      "scores/Standing_height_AMR_pst_eff_a1_b0.5_phi1e-04_chr22.sscore .\n",
      "End time: Thu Jun 13 16:57:22 2024\n",
      "PLINK v2.00a6LM 64-bit Intel (16 May 2024)     www.cog-genomics.org/plink/2.0/\n",
      "(C) 2005-2024 Shaun Purcell, Christopher Chang   GNU General Public License v3\n",
      "Logging to scores/Standing_height_EAS_pst_eff_a1_b0.5_phi1e-04_chr22.log.\n",
      "Options in effect:\n",
      "  --out scores/Standing_height_EAS_pst_eff_a1_b0.5_phi1e-04_chr22\n",
      "  --pfile plink/prscsx_acaf_threshold.chr22\n",
      "  --score PRScsx_Standing_Height_output/Standing_height_EAS_pst_eff_a1_b0.5_phi1e-04_chr22.txt 2 4 6 variance-standardize list-variants\n",
      "\n",
      "Start time: Thu Jun 13 16:57:22 2024\n",
      "14998 MiB RAM detected, ~13505 available; reserving 7499 MiB for main\n",
      "workspace.\n",
      "Using up to 4 compute threads.\n",
      "245394 samples (0 females, 0 males, 245394 ambiguous; 245394 founders) loaded\n",
      "from plink/prscsx_acaf_threshold.chr22.psam.\n",
      "16458 variants loaded from plink/prscsx_acaf_threshold.chr22.pvar.\n",
      "Note: No phenotype data present.\n",
      "Calculating allele frequencies... done.\n",
      "--score: 13147 variants processed.\n",
      "--score: Variant list written to scores/Standing_height_EAS_pst_eff_a1_b0.5_phi1e-04_chr22.sscore.vars .\n",
      "--score: Results written to\n",
      "scores/Standing_height_EAS_pst_eff_a1_b0.5_phi1e-04_chr22.sscore .\n",
      "End time: Thu Jun 13 16:57:30 2024\n",
      "PLINK v2.00a6LM 64-bit Intel (16 May 2024)     www.cog-genomics.org/plink/2.0/\n",
      "(C) 2005-2024 Shaun Purcell, Christopher Chang   GNU General Public License v3\n",
      "Logging to scores/Standing_height_EUR_pst_eff_a1_b0.5_phi1e-04_chr22.log.\n",
      "Options in effect:\n",
      "  --out scores/Standing_height_EUR_pst_eff_a1_b0.5_phi1e-04_chr22\n",
      "  --pfile plink/prscsx_acaf_threshold.chr22\n",
      "  --score PRScsx_Standing_Height_output/Standing_height_EUR_pst_eff_a1_b0.5_phi1e-04_chr22.txt 2 4 6 variance-standardize list-variants\n",
      "\n",
      "Start time: Thu Jun 13 16:57:30 2024\n",
      "14998 MiB RAM detected, ~13503 available; reserving 7499 MiB for main\n",
      "workspace.\n",
      "Using up to 4 compute threads.\n",
      "245394 samples (0 females, 0 males, 245394 ambiguous; 245394 founders) loaded\n",
      "from plink/prscsx_acaf_threshold.chr22.psam.\n",
      "16458 variants loaded from plink/prscsx_acaf_threshold.chr22.pvar.\n",
      "Note: No phenotype data present.\n",
      "Calculating allele frequencies... done.\n",
      "--score: 14389 variants processed.\n",
      "--score: Variant list written to scores/Standing_height_EUR_pst_eff_a1_b0.5_phi1e-04_chr22.sscore.vars .\n",
      "--score: Results written to\n",
      "scores/Standing_height_EUR_pst_eff_a1_b0.5_phi1e-04_chr22.sscore .\n",
      "End time: Thu Jun 13 16:57:37 2024\n",
      "PLINK v2.00a6LM 64-bit Intel (16 May 2024)     www.cog-genomics.org/plink/2.0/\n",
      "(C) 2005-2024 Shaun Purcell, Christopher Chang   GNU General Public License v3\n",
      "Logging to scores/Standing_height_SAS_pst_eff_a1_b0.5_phi1e-04_chr22.log.\n",
      "Options in effect:\n",
      "  --out scores/Standing_height_SAS_pst_eff_a1_b0.5_phi1e-04_chr22\n",
      "  --pfile plink/prscsx_acaf_threshold.chr22\n",
      "  --score PRScsx_Standing_Height_output/Standing_height_SAS_pst_eff_a1_b0.5_phi1e-04_chr22.txt 2 4 6 variance-standardize list-variants\n",
      "\n",
      "Start time: Thu Jun 13 16:57:37 2024\n",
      "14998 MiB RAM detected, ~13505 available; reserving 7499 MiB for main\n",
      "workspace.\n",
      "Using up to 4 compute threads.\n",
      "245394 samples (0 females, 0 males, 245394 ambiguous; 245394 founders) loaded\n",
      "from plink/prscsx_acaf_threshold.chr22.psam.\n",
      "16458 variants loaded from plink/prscsx_acaf_threshold.chr22.pvar.\n",
      "Note: No phenotype data present.\n",
      "Calculating allele frequencies... done.\n",
      "--score: 14479 variants processed.\n",
      "--score: Variant list written to scores/Standing_height_SAS_pst_eff_a1_b0.5_phi1e-04_chr22.sscore.vars .\n",
      "--score: Results written to\n",
      "scores/Standing_height_SAS_pst_eff_a1_b0.5_phi1e-04_chr22.sscore .\n",
      "End time: Thu Jun 13 16:57:44 2024\n"
     ]
    }
   ],
   "source": [
    "%%bash\n",
    "#calc PRS's with plink2\n",
    "mkdir plink\n",
    "mkdir scores\n",
    "for i in {1..22}\n",
    "do\n",
    "  #cp pgen/pvar/psam files from bucket to workspace (uncomment the line below after delete cell above)\n",
    "  gsutil -m cp gs://fc-secure-09b7d164-67b2-4c94-8381-4b8202619ea8/data/plink/prscsx_acaf_threshold.chr${i}.p* plink/\n",
    "  for pop in AFR AMR EAS EUR SAS\n",
    "  do\n",
    "  #calc PRS for each chr-pop pair\n",
    "  plink2 --pfile plink/prscsx_acaf_threshold.chr${i} \\\n",
    "  --score PRScsx_Standing_Height_output/Standing_height_${pop}_pst_eff_a1_b0.5_phi1e-04_chr${i}.txt 2 4 6 variance-standardize list-variants \\\n",
    "  --out scores/Standing_height_${pop}_pst_eff_a1_b0.5_phi1e-04_chr${i}\n",
    "  done\n",
    "  #rm pgen/pvar/psam for space\n",
    "  #rm plink/prscsx_acaf_threshold.chr${i}.p*\n",
    "done"
   ]
  },
  {
   "cell_type": "code",
   "execution_count": 2,
   "metadata": {},
   "outputs": [
    {
     "name": "stderr",
     "output_type": "stream",
     "text": [
      "Copying file://scores/Standing_height_AFR_pst_eff_a1_b0.5_phi1e-04_chr2.log [Content-Type=application/octet-stream]...\n",
      "Copying file://scores/Standing_height_EAS_pst_eff_a1_b0.5_phi1e-04_chr12.sscore [Content-Type=application/octet-stream]...\n",
      "Copying file://scores/Standing_height_EUR_pst_eff_a1_b0.5_phi1e-04_chr14.sscore.vars [Content-Type=application/octet-stream]...\n",
      "Copying file://scores/Standing_height_AFR_pst_eff_a1_b0.5_phi1e-04_chr12.sscore [Content-Type=application/octet-stream]...\n",
      "Copying file://scores/Standing_height_EAS_pst_eff_a1_b0.5_phi1e-04_chr6.sscore [Content-Type=application/octet-stream]...\n",
      "Copying file://scores/Standing_height_EAS_pst_eff_a1_b0.5_phi1e-04_chr22.log [Content-Type=application/octet-stream]...\n",
      "Copying file://scores/Standing_height_AFR_pst_eff_a1_b0.5_phi1e-04_chr9.sscore [Content-Type=application/octet-stream]...\n",
      "Copying file://scores/Standing_height_SAS_pst_eff_a1_b0.5_phi1e-04_chr5.log [Content-Type=application/octet-stream]...\n",
      "Copying file://scores/Standing_height_AMR_pst_eff_a1_b0.5_phi1e-02_chr1.log [Content-Type=application/octet-stream]...\n",
      "Copying file://scores/Standing_height_EAS_pst_eff_a1_b0.5_phi1e-02_chr2.log [Content-Type=application/octet-stream]...\n",
      "Copying file://scores/Standing_height_EUR_pst_eff_a1_b0.5_phi1e-04_chr2.sscore [Content-Type=application/octet-stream]...\n",
      "Copying file://scores/Standing_height_EAS_pst_eff_a1_b0.5_phi1e-04_chr21.sscore.vars [Content-Type=application/octet-stream]...\n",
      "Copying file://scores/Standing_height_SAS_pst_eff_a1_b0.5_phi1e-04_chr20.log [Content-Type=application/octet-stream]...\n",
      "Copying file://scores/Standing_height_AMR_pst_eff_a1_b0.5_phi1e-04_chr22.sscore [Content-Type=application/octet-stream]...\n",
      "Copying file://scores/Standing_height_EUR_pst_eff_a1_b0.5_phi1e-04_chr14.sscore [Content-Type=application/octet-stream]...\n",
      "Copying file://scores/Standing_height_AFR_pst_eff_a1_b0.5_phi1e-04_chr11.sscore [Content-Type=application/octet-stream]...\n",
      "Copying file://scores/Standing_height_SAS_pst_eff_a1_b0.5_phi1e-04_chr4.sscore.vars [Content-Type=application/octet-stream]...\n",
      "Copying file://scores/Standing_height_AMR_pst_eff_a1_b0.5_phi1e-04_chr4.sscore.vars [Content-Type=application/octet-stream]...\n",
      "Copying file://scores/Standing_height_AFR_pst_eff_a1_b0.5_phi1e-04_chr21.sscore [Content-Type=application/octet-stream]...\n",
      "Copying file://scores/Standing_height_SAS_pst_eff_a1_b0.5_phi1e-04_chr15.log [Content-Type=application/octet-stream]...\n",
      "Copying file://scores/Standing_height_AFR_pst_eff_a1_b0.5_phi1e-04_chr3.sscore [Content-Type=application/octet-stream]...\n",
      "Copying file://scores/Standing_height_EAS_pst_eff_a1_b0.5_phi1e-04_chr6.sscore.vars [Content-Type=application/octet-stream]...\n",
      "Copying file://scores/Standing_height_EAS_pst_eff_a1_b0.5_phi1e-02_chr1.log [Content-Type=application/octet-stream]...\n",
      "Copying file://scores/Standing_height_EUR_pst_eff_a1_b0.5_phi1e-04_chr13.log [Content-Type=application/octet-stream]...\n",
      "Copying file://scores/Standing_height_EUR_pst_eff_a1_b0.5_phi1e-04_chr11.sscore.vars [Content-Type=application/octet-stream]...\n",
      "Copying file://scores/Standing_height_AFR_pst_eff_a1_b0.5_phi1e-04_chr18.log [Content-Type=application/octet-stream]...\n",
      "Copying file://scores/Standing_height_EUR_pst_eff_a1_b0.5_phi1e-04_chr11.sscore [Content-Type=application/octet-stream]...\n",
      "Copying file://scores/Standing_height_EAS_pst_eff_a1_b0.5_phi1e-04_chr4.sscore.vars [Content-Type=application/octet-stream]...\n",
      "Copying file://scores/Standing_height_EUR_pst_eff_a1_b0.5_phi1e-04_chr5.sscore.vars [Content-Type=application/octet-stream]...\n",
      "Copying file://scores/Standing_height_EUR_pst_eff_a1_b0.5_phi1e-04_chr18.sscore [Content-Type=application/octet-stream]...\n",
      "Copying file://scores/Standing_height_EAS_pst_eff_a1_b0.5_phi1e-04_chr7.sscore.vars [Content-Type=application/octet-stream]...\n",
      "Copying file://scores/Standing_height_AFR_pst_eff_a1_b0.5_phi1e-04_chr9.sscore.vars [Content-Type=application/octet-stream]...\n",
      "Copying file://scores/Standing_height_EAS_pst_eff_a1_b0.5_phi1e-04_chr19.sscore [Content-Type=application/octet-stream]...\n",
      "Copying file://scores/Standing_height_EAS_pst_eff_a1_b0.5_phi1e-04_chr7.sscore [Content-Type=application/octet-stream]...\n",
      "Copying file://scores/Standing_height_AFR_pst_eff_a1_b0.5_phi1e-04_chr22.sscore.vars [Content-Type=application/octet-stream]...\n",
      "Copying file://scores/Standing_height_AMR_pst_eff_a1_b0.5_phi1e-04_chr22.log [Content-Type=application/octet-stream]...\n",
      "Copying file://scores/Standing_height_SAS_pst_eff_a1_b0.5_phi1e-04_chr5.sscore [Content-Type=application/octet-stream]...\n",
      "Copying file://scores/Standing_height_EAS_pst_eff_a1_b0.5_phi1e-04_chr20.log [Content-Type=application/octet-stream]...\n",
      "Copying file://scores/Standing_height_AMR_pst_eff_a1_b0.5_phi1e-04_chr9.sscore.vars [Content-Type=application/octet-stream]...\n",
      "Copying file://scores/Standing_height_EAS_pst_eff_a1_b0.5_phi1e-04_chr4.sscore [Content-Type=application/octet-stream]...\n",
      "Copying file://scores/Standing_height_AFR_pst_eff_a1_b0.5_phi1e-04_chr17.sscore.vars [Content-Type=application/octet-stream]...\n",
      "Copying file://scores/Standing_height_AMR_pst_eff_a1_b0.5_phi1e-04_chr7.log [Content-Type=application/octet-stream]...\n",
      "Copying file://scores/Standing_height_AMR_pst_eff_a1_b0.5_phi1e-04_chr17.sscore [Content-Type=application/octet-stream]...\n",
      "Copying file://scores/Standing_height_AMR_pst_eff_a1_b0.5_phi1e-04_chr9.log [Content-Type=application/octet-stream]...\n",
      "Copying file://scores/Standing_height_SAS_pst_eff_a1_b0.5_phi1e-04_chr21.log [Content-Type=application/octet-stream]...\n",
      "Copying file://scores/Standing_height_AFR_pst_eff_a1_b0.5_phi1e-04_chr7.sscore.vars [Content-Type=application/octet-stream]...\n",
      "Copying file://scores/Standing_height_EUR_pst_eff_a1_b0.5_phi1e-04_chr6.sscore.vars [Content-Type=application/octet-stream]...\n",
      "Copying file://scores/Standing_height_EAS_pst_eff_a1_b0.5_phi1e-04_chr5.sscore.vars [Content-Type=application/octet-stream]...\n",
      "Copying file://scores/Standing_height_EUR_pst_eff_a1_b0.5_phi1e-04_chr14.log [Content-Type=application/octet-stream]...\n",
      "Copying file://scores/Standing_height_SAS_pst_eff_a1_b0.5_phi1e-04_chr7.log [Content-Type=application/octet-stream]...\n",
      "Copying file://scores/Standing_height_EUR_pst_eff_a1_b0.5_phi1e-04_chr6.sscore [Content-Type=application/octet-stream]...\n",
      "Copying file://scores/Standing_height_SAS_pst_eff_a1_b0.5_phi1e-04_chr2.sscore.vars [Content-Type=application/octet-stream]...\n",
      "Copying file://scores/Standing_height_AFR_pst_eff_a1_b0.5_phi1e-04_chr22.sscore [Content-Type=application/octet-stream]...\n",
      "Copying file://scores/Standing_height_AMR_pst_eff_a1_b0.5_phi1e-04_chr3.log [Content-Type=application/octet-stream]...\n",
      "Copying file://scores/Standing_height_EUR_pst_eff_a1_b0.5_phi1e-04_chr21.sscore [Content-Type=application/octet-stream]...\n",
      "Copying file://scores/Standing_height_AFR_pst_eff_a1_b0.5_phi1e-04_chr15.sscore.vars [Content-Type=application/octet-stream]...\n",
      "Copying file://scores/Standing_height_EUR_pst_eff_a1_b0.5_phi1e-04_chr18.sscore.vars [Content-Type=application/octet-stream]...\n",
      "Copying file://scores/Standing_height_AMR_pst_eff_a1_b0.5_phi1e-04_chr12.sscore [Content-Type=application/octet-stream]...\n",
      "Copying file://scores/Standing_height_SAS_pst_eff_a1_b0.5_phi1e-04_chr13.log [Content-Type=application/octet-stream]...\n",
      "Copying file://scores/Standing_height_SAS_pst_eff_a1_b0.5_phi1e-04_chr5.sscore.vars [Content-Type=application/octet-stream]...\n",
      "Copying file://scores/Standing_height_SAS_pst_eff_a1_b0.5_phi1e-04_chr12.sscore [Content-Type=application/octet-stream]...\n",
      "Copying file://scores/Standing_height_SAS_pst_eff_a1_b0.5_phi1e-04_chr9.sscore [Content-Type=application/octet-stream]...\n",
      "Copying file://scores/Standing_height_AFR_pst_eff_a1_b0.5_phi1e-04_chr13.sscore.vars [Content-Type=application/octet-stream]...\n",
      "Copying file://scores/Standing_height_AFR_pst_eff_a1_b0.5_phi1e-04_chr12.sscore.vars [Content-Type=application/octet-stream]...\n",
      "Copying file://scores/Standing_height_AMR_pst_eff_a1_b0.5_phi1e-04_chr19.sscore.vars [Content-Type=application/octet-stream]...\n",
      "Copying file://scores/Standing_height_EAS_pst_eff_a1_b0.5_phi1e-04_chr19.sscore.vars [Content-Type=application/octet-stream]...\n"
     ]
    },
    {
     "name": "stderr",
     "output_type": "stream",
     "text": [
      "Copying file://scores/Standing_height_EAS_pst_eff_a1_b0.5_phi1e-04_chr15.sscore [Content-Type=application/octet-stream]...\n",
      "Copying file://scores/Standing_height_EUR_pst_eff_a1_b0.5_phi1e-04_chr1.log [Content-Type=application/octet-stream]...\n",
      "Copying file://scores/Standing_height_SAS_pst_eff_a1_b0.5_phi1e-04_chr18.log [Content-Type=application/octet-stream]...\n",
      "Copying file://scores/Standing_height_AMR_pst_eff_a1_b0.5_phi1e-04_chr5.sscore.vars [Content-Type=application/octet-stream]...\n",
      "Copying file://scores/Standing_height_SAS_pst_eff_a1_b0.5_phi1e-02_chr2.log [Content-Type=application/octet-stream]...\n",
      "Copying file://scores/Standing_height_EAS_pst_eff_a1_b0.5_phi1e-04_chr13.sscore [Content-Type=application/octet-stream]...\n",
      "Copying file://scores/Standing_height_SAS_pst_eff_a1_b0.5_phi1e-04_chr16.sscore.vars [Content-Type=application/octet-stream]...\n",
      "Copying file://scores/Standing_height_EAS_pst_eff_a1_b0.5_phi1e-04_chr1.log [Content-Type=application/octet-stream]...\n",
      "Copying file://scores/Standing_height_EUR_pst_eff_a1_b0.5_phi1e-04_chr16.log [Content-Type=application/octet-stream]...\n",
      "Copying file://scores/Standing_height_AFR_pst_eff_a1_b0.5_phi1e-04_chr14.sscore.vars [Content-Type=application/octet-stream]...\n",
      "Copying file://scores/Standing_height_EUR_pst_eff_a1_b0.5_phi1e-04_chr11.log [Content-Type=application/octet-stream]...\n",
      "Copying file://scores/Standing_height_AFR_pst_eff_a1_b0.5_phi1e-04_chr12.log [Content-Type=application/octet-stream]...\n",
      "Copying file://scores/Standing_height_EAS_pst_eff_a1_b0.5_phi1e-04_chr5.sscore [Content-Type=application/octet-stream]...\n",
      "Copying file://scores/Standing_height_AMR_pst_eff_a1_b0.5_phi1e-04_chr8.log [Content-Type=application/octet-stream]...\n",
      "Copying file://scores/Standing_height_SAS_pst_eff_a1_b0.5_phi1e-04_chr3.sscore [Content-Type=application/octet-stream]...\n",
      "Copying file://scores/Standing_height_EAS_pst_eff_a1_b0.5_phi1e-04_chr14.log [Content-Type=application/octet-stream]...\n",
      "Copying file://scores/Standing_height_AFR_pst_eff_a1_b0.5_phi1e-04_chr10.log [Content-Type=application/octet-stream]...\n",
      "Copying file://scores/Standing_height_AMR_pst_eff_a1_b0.5_phi1e-04_chr17.sscore.vars [Content-Type=application/octet-stream]...\n",
      "Copying file://scores/Standing_height_AMR_pst_eff_a1_b0.5_phi1e-04_chr17.log [Content-Type=application/octet-stream]...\n",
      "Copying file://scores/Standing_height_EAS_pst_eff_a1_b0.5_phi1e-04_chr15.log [Content-Type=application/octet-stream]...\n",
      "Copying file://scores/Standing_height_EUR_pst_eff_a1_b0.5_phi1e-04_chr21.sscore.vars [Content-Type=application/octet-stream]...\n",
      "Copying file://scores/Standing_height_AMR_pst_eff_a1_b0.5_phi1e-04_chr16.log [Content-Type=application/octet-stream]...\n",
      "Copying file://scores/Standing_height_EUR_pst_eff_a1_b0.5_phi1e-04_chr8.sscore [Content-Type=application/octet-stream]...\n",
      "Copying file://scores/Standing_height_AMR_pst_eff_a1_b0.5_phi1e-04_chr7.sscore [Content-Type=application/octet-stream]...\n",
      "Copying file://scores/Standing_height_EAS_pst_eff_a1_b0.5_phi1e-04_chr9.sscore.vars [Content-Type=application/octet-stream]...\n",
      "Copying file://scores/Standing_height_EUR_pst_eff_a1_b0.5_phi1e-04_chr9.sscore [Content-Type=application/octet-stream]...\n",
      "Copying file://scores/Standing_height_EUR_pst_eff_a1_b0.5_phi1e-04_chr17.log [Content-Type=application/octet-stream]...\n",
      "Copying file://scores/Standing_height_AMR_pst_eff_a1_b0.5_phi1e-04_chr15.sscore.vars [Content-Type=application/octet-stream]...\n",
      "Copying file://scores/Standing_height_AMR_pst_eff_a1_b0.5_phi1e-04_chr2.log [Content-Type=application/octet-stream]...\n",
      "Copying file://scores/Standing_height_AMR_pst_eff_a1_b0.5_phi1e-04_chr21.log [Content-Type=application/octet-stream]...\n",
      "Copying file://scores/Standing_height_EAS_pst_eff_a1_b0.5_phi1e-04_chr10.log [Content-Type=application/octet-stream]...\n",
      "Copying file://scores/Standing_height_EUR_pst_eff_a1_b0.5_phi1e-04_chr17.sscore [Content-Type=application/octet-stream]...\n",
      "Copying file://scores/Standing_height_SAS_pst_eff_a1_b0.5_phi1e-04_chr12.log [Content-Type=application/octet-stream]...\n",
      "Copying file://scores/Standing_height_AMR_pst_eff_a1_b0.5_phi1e-04_chr14.sscore [Content-Type=application/octet-stream]...\n",
      "Copying file://scores/Standing_height_EUR_pst_eff_a1_b0.5_phi1e-04_chr15.sscore.vars [Content-Type=application/octet-stream]...\n",
      "Copying file://scores/Standing_height_SAS_pst_eff_a1_b0.5_phi1e-04_chr1.sscore.vars [Content-Type=application/octet-stream]...\n",
      "Copying file://scores/Standing_height_AMR_pst_eff_a1_b0.5_phi1e-04_chr18.log [Content-Type=application/octet-stream]...\n",
      "Copying file://scores/Standing_height_EAS_pst_eff_a1_b0.5_phi1e-04_chr22.sscore [Content-Type=application/octet-stream]...\n",
      "Copying file://scores/Standing_height_EUR_pst_eff_a1_b0.5_phi1e-04_chr19.sscore.vars [Content-Type=application/octet-stream]...\n",
      "Copying file://scores/Standing_height_EAS_pst_eff_a1_b0.5_phi1e-02_chr3.log [Content-Type=application/octet-stream]...\n",
      "Copying file://scores/Standing_height_EUR_pst_eff_a1_b0.5_phi1e-04_chr4.sscore.vars [Content-Type=application/octet-stream]...\n",
      "Copying file://scores/Standing_height_EUR_pst_eff_a1_b0.5_phi1e-04_chr1.sscore [Content-Type=application/octet-stream]...\n",
      "Copying file://scores/Standing_height_AFR_pst_eff_a1_b0.5_phi1e-04_chr16.sscore [Content-Type=application/octet-stream]...\n",
      "Copying file://scores/Standing_height_SAS_pst_eff_a1_b0.5_phi1e-04_chr16.log [Content-Type=application/octet-stream]...\n",
      "Copying file://scores/Standing_height_AMR_pst_eff_a1_b0.5_phi1e-04_chr1.sscore.vars [Content-Type=application/octet-stream]...\n",
      "Copying file://scores/Standing_height_SAS_pst_eff_a1_b0.5_phi1e-04_chr2.sscore [Content-Type=application/octet-stream]...\n",
      "Copying file://scores/Standing_height_AMR_pst_eff_a1_b0.5_phi1e-04_chr7.sscore.vars [Content-Type=application/octet-stream]...\n",
      "Copying file://scores/Standing_height_AMR_pst_eff_a1_b0.5_phi1e-04_chr15.sscore [Content-Type=application/octet-stream]...\n",
      "Copying file://scores/Standing_height_EAS_pst_eff_a1_b0.5_phi1e-04_chr16.sscore.vars [Content-Type=application/octet-stream]...\n",
      "Copying file://scores/Standing_height_AFR_pst_eff_a1_b0.5_phi1e-04_chr5.log [Content-Type=application/octet-stream]...\n",
      "Copying file://scores/Standing_height_AMR_pst_eff_a1_b0.5_phi1e-04_chr5.log [Content-Type=application/octet-stream]...\n",
      "Copying file://scores/Standing_height_EAS_pst_eff_a1_b0.5_phi1e-04_chr10.sscore [Content-Type=application/octet-stream]...\n",
      "Copying file://scores/Standing_height_SAS_pst_eff_a1_b0.5_phi1e-04_chr22.log [Content-Type=application/octet-stream]...\n",
      "Copying file://scores/Standing_height_EUR_pst_eff_a1_b0.5_phi1e-04_chr13.sscore.vars [Content-Type=application/octet-stream]...\n",
      "Copying file://scores/Standing_height_EAS_pst_eff_a1_b0.5_phi1e-04_chr15.sscore.vars [Content-Type=application/octet-stream]...\n",
      "Copying file://scores/Standing_height_AFR_pst_eff_a1_b0.5_phi1e-04_chr22.log [Content-Type=application/octet-stream]...\n",
      "Copying file://scores/Standing_height_AFR_pst_eff_a1_b0.5_phi1e-04_chr3.log [Content-Type=application/octet-stream]...\n",
      "Copying file://scores/Standing_height_AFR_pst_eff_a1_b0.5_phi1e-04_chr2.sscore.vars [Content-Type=application/octet-stream]...\n",
      "Copying file://scores/Standing_height_EUR_pst_eff_a1_b0.5_phi1e-04_chr16.sscore.vars [Content-Type=application/octet-stream]...\n",
      "Copying file://scores/Standing_height_AMR_pst_eff_a1_b0.5_phi1e-04_chr12.sscore.vars [Content-Type=application/octet-stream]...\n",
      "Copying file://scores/Standing_height_SAS_pst_eff_a1_b0.5_phi1e-04_chr21.sscore.vars [Content-Type=application/octet-stream]...\n",
      "Copying file://scores/Standing_height_SAS_pst_eff_a1_b0.5_phi1e-04_chr17.sscore.vars [Content-Type=application/octet-stream]...\n",
      "Copying file://scores/Standing_height_EAS_pst_eff_a1_b0.5_phi1e-04_chr14.sscore.vars [Content-Type=application/octet-stream]...\n",
      "Copying file://scores/Standing_height_AFR_pst_eff_a1_b0.5_phi1e-02_chr3.log [Content-Type=application/octet-stream]...\n",
      "Copying file://scores/Standing_height_AMR_pst_eff_a1_b0.5_phi1e-04_chr8.sscore [Content-Type=application/octet-stream]...\n",
      "Copying file://scores/Standing_height_EUR_pst_eff_a1_b0.5_phi1e-04_chr5.sscore [Content-Type=application/octet-stream]...\n"
     ]
    },
    {
     "name": "stderr",
     "output_type": "stream",
     "text": [
      "Copying file://scores/Standing_height_SAS_pst_eff_a1_b0.5_phi1e-04_chr20.sscore [Content-Type=application/octet-stream]...\n",
      "Copying file://scores/Standing_height_AFR_pst_eff_a1_b0.5_phi1e-04_chr20.log [Content-Type=application/octet-stream]...\n",
      "Copying file://scores/Standing_height_AFR_pst_eff_a1_b0.5_phi1e-02_chr2.log [Content-Type=application/octet-stream]...\n",
      "Copying file://scores/Standing_height_EAS_pst_eff_a1_b0.5_phi1e-04_chr17.sscore.vars [Content-Type=application/octet-stream]...\n",
      "Copying file://scores/Standing_height_EAS_pst_eff_a1_b0.5_phi1e-04_chr3.sscore.vars [Content-Type=application/octet-stream]...\n",
      "Copying file://scores/Standing_height_AMR_pst_eff_a1_b0.5_phi1e-04_chr4.sscore [Content-Type=application/octet-stream]...\n",
      "Copying file://scores/Standing_height_EUR_pst_eff_a1_b0.5_phi1e-02_chr3.log [Content-Type=application/octet-stream]...\n",
      "Copying file://scores/Standing_height_AMR_pst_eff_a1_b0.5_phi1e-04_chr6.sscore [Content-Type=application/octet-stream]...\n",
      "Copying file://scores/Standing_height_EAS_pst_eff_a1_b0.5_phi1e-04_chr6.log [Content-Type=application/octet-stream]...\n",
      "Copying file://scores/Standing_height_EUR_pst_eff_a1_b0.5_phi1e-04_chr15.log [Content-Type=application/octet-stream]...\n",
      "Copying file://scores/Standing_height_SAS_pst_eff_a1_b0.5_phi1e-04_chr8.sscore [Content-Type=application/octet-stream]...\n",
      "Copying file://scores/Standing_height_SAS_pst_eff_a1_b0.5_phi1e-04_chr22.sscore.vars [Content-Type=application/octet-stream]...\n",
      "Copying file://scores/Standing_height_EAS_pst_eff_a1_b0.5_phi1e-04_chr22.sscore.vars [Content-Type=application/octet-stream]...\n",
      "Copying file://scores/Standing_height_AFR_pst_eff_a1_b0.5_phi1e-04_chr21.log [Content-Type=application/octet-stream]...\n",
      "Copying file://scores/Standing_height_AMR_pst_eff_a1_b0.5_phi1e-04_chr6.sscore.vars [Content-Type=application/octet-stream]...\n",
      "Copying file://scores/Standing_height_AMR_pst_eff_a1_b0.5_phi1e-04_chr16.sscore [Content-Type=application/octet-stream]...\n",
      "Copying file://scores/Standing_height_EAS_pst_eff_a1_b0.5_phi1e-04_chr18.sscore [Content-Type=application/octet-stream]...\n",
      "Copying file://scores/Standing_height_EAS_pst_eff_a1_b0.5_phi1e-04_chr17.sscore [Content-Type=application/octet-stream]...\n",
      "Copying file://scores/Standing_height_AFR_pst_eff_a1_b0.5_phi1e-04_chr17.log [Content-Type=application/octet-stream]...\n",
      "Copying file://scores/Standing_height_EAS_pst_eff_a1_b0.5_phi1e-04_chr18.sscore.vars [Content-Type=application/octet-stream]...\n",
      "Copying file://scores/Standing_height_EAS_pst_eff_a1_b0.5_phi1e-04_chr3.log [Content-Type=application/octet-stream]...\n",
      "Copying file://scores/Standing_height_AMR_pst_eff_a1_b0.5_phi1e-04_chr22.sscore.vars [Content-Type=application/octet-stream]...\n",
      "Copying file://scores/Standing_height_SAS_pst_eff_a1_b0.5_phi1e-04_chr3.sscore.vars [Content-Type=application/octet-stream]...\n",
      "Copying file://scores/Standing_height_EAS_pst_eff_a1_b0.5_phi1e-04_chr16.log [Content-Type=application/octet-stream]...\n",
      "Copying file://scores/Standing_height_SAS_pst_eff_a1_b0.5_phi1e-04_chr10.sscore.vars [Content-Type=application/octet-stream]...\n",
      "Copying file://scores/Standing_height_EAS_pst_eff_a1_b0.5_phi1e-04_chr11.sscore [Content-Type=application/octet-stream]...\n",
      "Copying file://scores/Standing_height_SAS_pst_eff_a1_b0.5_phi1e-04_chr15.sscore.vars [Content-Type=application/octet-stream]...\n",
      "Copying file://scores/Standing_height_EUR_pst_eff_a1_b0.5_phi1e-04_chr10.log [Content-Type=application/octet-stream]...\n",
      "Copying file://scores/Standing_height_EAS_pst_eff_a1_b0.5_phi1e-04_chr20.sscore [Content-Type=application/octet-stream]...\n",
      "Copying file://scores/Standing_height_AMR_pst_eff_a1_b0.5_phi1e-04_chr11.sscore.vars [Content-Type=application/octet-stream]...\n",
      "Copying file://scores/Standing_height_SAS_pst_eff_a1_b0.5_phi1e-04_chr14.sscore.vars [Content-Type=application/octet-stream]...\n",
      "Copying file://scores/Standing_height_AMR_pst_eff_a1_b0.5_phi1e-04_chr18.sscore.vars [Content-Type=application/octet-stream]...\n",
      "Copying file://scores/Standing_height_EUR_pst_eff_a1_b0.5_phi1e-04_chr2.sscore.vars [Content-Type=application/octet-stream]...\n",
      "Copying file://scores/Standing_height_EAS_pst_eff_a1_b0.5_phi1e-04_chr12.log [Content-Type=application/octet-stream]...\n",
      "Copying file://scores/Standing_height_AMR_pst_eff_a1_b0.5_phi1e-04_chr15.log [Content-Type=application/octet-stream]...\n",
      "Copying file://scores/Standing_height_EAS_pst_eff_a1_b0.5_phi1e-04_chr7.log [Content-Type=application/octet-stream]...\n",
      "Copying file://scores/Standing_height_SAS_pst_eff_a1_b0.5_phi1e-04_chr8.log [Content-Type=application/octet-stream]...\n",
      "Copying file://scores/Standing_height_EUR_pst_eff_a1_b0.5_phi1e-04_chr7.sscore.vars [Content-Type=application/octet-stream]...\n",
      "Copying file://scores/Standing_height_AFR_pst_eff_a1_b0.5_phi1e-04_chr11.sscore.vars [Content-Type=application/octet-stream]...\n",
      "Copying file://scores/Standing_height_SAS_pst_eff_a1_b0.5_phi1e-04_chr22.sscore [Content-Type=application/octet-stream]...\n",
      "Copying file://scores/Standing_height_EUR_pst_eff_a1_b0.5_phi1e-04_chr10.sscore [Content-Type=application/octet-stream]...\n",
      "Copying file://scores/Standing_height_SAS_pst_eff_a1_b0.5_phi1e-04_chr13.sscore [Content-Type=application/octet-stream]...\n",
      "Copying file://scores/Standing_height_EAS_pst_eff_a1_b0.5_phi1e-04_chr8.log [Content-Type=application/octet-stream]...\n",
      "Copying file://scores/Standing_height_EUR_pst_eff_a1_b0.5_phi1e-04_chr13.sscore [Content-Type=application/octet-stream]...\n",
      "Copying file://scores/Standing_height_SAS_pst_eff_a1_b0.5_phi1e-04_chr9.log [Content-Type=application/octet-stream]...\n",
      "Copying file://scores/Standing_height_EUR_pst_eff_a1_b0.5_phi1e-04_chr3.sscore [Content-Type=application/octet-stream]...\n",
      "Copying file://scores/Standing_height_EUR_pst_eff_a1_b0.5_phi1e-04_chr12.sscore.vars [Content-Type=application/octet-stream]...\n",
      "Copying file://scores/Standing_height_EUR_pst_eff_a1_b0.5_phi1e-04_chr10.sscore.vars [Content-Type=application/octet-stream]...\n",
      "Copying file://scores/Standing_height_AFR_pst_eff_a1_b0.5_phi1e-04_chr10.sscore.vars [Content-Type=application/octet-stream]...\n",
      "Copying file://scores/Standing_height_AFR_pst_eff_a1_b0.5_phi1e-04_chr15.sscore [Content-Type=application/octet-stream]...\n",
      "Copying file://scores/Standing_height_EAS_pst_eff_a1_b0.5_phi1e-04_chr20.sscore.vars [Content-Type=application/octet-stream]...\n",
      "Copying file://scores/Standing_height_EUR_pst_eff_a1_b0.5_phi1e-04_chr6.log [Content-Type=application/octet-stream]...\n",
      "Copying file://scores/Standing_height_SAS_pst_eff_a1_b0.5_phi1e-04_chr19.sscore [Content-Type=application/octet-stream]...\n",
      "Copying file://scores/Standing_height_SAS_pst_eff_a1_b0.5_phi1e-04_chr6.sscore [Content-Type=application/octet-stream]...\n",
      "Copying file://scores/Standing_height_AFR_pst_eff_a1_b0.5_phi1e-04_chr8.sscore [Content-Type=application/octet-stream]...\n",
      "Copying file://scores/Standing_height_EAS_pst_eff_a1_b0.5_phi1e-04_chr11.sscore.vars [Content-Type=application/octet-stream]...\n",
      "Copying file://scores/Standing_height_AMR_pst_eff_a1_b0.5_phi1e-04_chr2.sscore.vars [Content-Type=application/octet-stream]...\n",
      "Copying file://scores/Standing_height_EAS_pst_eff_a1_b0.5_phi1e-04_chr10.sscore.vars [Content-Type=application/octet-stream]...\n",
      "Copying file://scores/Standing_height_EAS_pst_eff_a1_b0.5_phi1e-04_chr4.log [Content-Type=application/octet-stream]...\n",
      "Copying file://scores/Standing_height_AMR_pst_eff_a1_b0.5_phi1e-04_chr10.sscore.vars [Content-Type=application/octet-stream]...\n",
      "Copying file://scores/Standing_height_SAS_pst_eff_a1_b0.5_phi1e-04_chr13.sscore.vars [Content-Type=application/octet-stream]...\n",
      "Copying file://scores/Standing_height_SAS_pst_eff_a1_b0.5_phi1e-04_chr1.log [Content-Type=application/octet-stream]...\n",
      "Copying file://scores/Standing_height_EUR_pst_eff_a1_b0.5_phi1e-04_chr3.log [Content-Type=application/octet-stream]...\n",
      "Copying file://scores/Standing_height_SAS_pst_eff_a1_b0.5_phi1e-04_chr4.log [Content-Type=application/octet-stream]...\n",
      "Copying file://scores/Standing_height_SAS_pst_eff_a1_b0.5_phi1e-04_chr10.sscore [Content-Type=application/octet-stream]...\n",
      "Copying file://scores/Standing_height_SAS_pst_eff_a1_b0.5_phi1e-04_chr2.log [Content-Type=application/octet-stream]...\n",
      "Copying file://scores/Standing_height_EUR_pst_eff_a1_b0.5_phi1e-02_chr2.log [Content-Type=application/octet-stream]...\n"
     ]
    },
    {
     "name": "stderr",
     "output_type": "stream",
     "text": [
      "Copying file://scores/Standing_height_SAS_pst_eff_a1_b0.5_phi1e-04_chr7.sscore [Content-Type=application/octet-stream]...\n",
      "Copying file://scores/Standing_height_AFR_pst_eff_a1_b0.5_phi1e-04_chr1.sscore [Content-Type=application/octet-stream]...\n",
      "Copying file://scores/Standing_height_SAS_pst_eff_a1_b0.5_phi1e-04_chr14.log [Content-Type=application/octet-stream]...\n",
      "Copying file://scores/Standing_height_AMR_pst_eff_a1_b0.5_phi1e-04_chr20.log [Content-Type=application/octet-stream]...\n",
      "Copying file://scores/Standing_height_EUR_pst_eff_a1_b0.5_phi1e-04_chr2.log [Content-Type=application/octet-stream]...\n",
      "Copying file://scores/Standing_height_EUR_pst_eff_a1_b0.5_phi1e-04_chr8.log [Content-Type=application/octet-stream]...\n",
      "Copying file://scores/Standing_height_EUR_pst_eff_a1_b0.5_phi1e-04_chr3.sscore.vars [Content-Type=application/octet-stream]...\n",
      "Copying file://scores/Standing_height_AMR_pst_eff_a1_b0.5_phi1e-04_chr4.log [Content-Type=application/octet-stream]...\n",
      "Copying file://scores/Standing_height_EUR_pst_eff_a1_b0.5_phi1e-04_chr22.log [Content-Type=application/octet-stream]...\n",
      "Copying file://scores/Standing_height_EUR_pst_eff_a1_b0.5_phi1e-04_chr9.log [Content-Type=application/octet-stream]...\n",
      "Copying file://scores/Standing_height_EUR_pst_eff_a1_b0.5_phi1e-04_chr20.sscore [Content-Type=application/octet-stream]...\n",
      "Copying file://scores/Standing_height_EAS_pst_eff_a1_b0.5_phi1e-04_chr13.log [Content-Type=application/octet-stream]...\n",
      "Copying file://scores/Standing_height_AFR_pst_eff_a1_b0.5_phi1e-04_chr5.sscore [Content-Type=application/octet-stream]...\n",
      "Copying file://scores/Standing_height_EUR_pst_eff_a1_b0.5_phi1e-04_chr7.log [Content-Type=application/octet-stream]...\n",
      "Copying file://scores/Standing_height_EAS_pst_eff_a1_b0.5_phi1e-04_chr21.log [Content-Type=application/octet-stream]...\n",
      "Copying file://scores/Standing_height_AFR_pst_eff_a1_b0.5_phi1e-04_chr6.sscore.vars [Content-Type=application/octet-stream]...\n",
      "Copying file://scores/Standing_height_SAS_pst_eff_a1_b0.5_phi1e-04_chr6.sscore.vars [Content-Type=application/octet-stream]...\n",
      "Copying file://scores/Standing_height_AMR_pst_eff_a1_b0.5_phi1e-04_chr9.sscore [Content-Type=application/octet-stream]...\n",
      "Copying file://scores/Standing_height_AMR_pst_eff_a1_b0.5_phi1e-04_chr1.log [Content-Type=application/octet-stream]...\n",
      "Copying file://scores/Standing_height_AMR_pst_eff_a1_b0.5_phi1e-04_chr19.sscore [Content-Type=application/octet-stream]...\n",
      "Copying file://scores/Standing_height_SAS_pst_eff_a1_b0.5_phi1e-04_chr9.sscore.vars [Content-Type=application/octet-stream]...\n",
      "Copying file://scores/Standing_height_EAS_pst_eff_a1_b0.5_phi1e-04_chr8.sscore [Content-Type=application/octet-stream]...\n",
      "Copying file://scores/Standing_height_SAS_pst_eff_a1_b0.5_phi1e-04_chr17.log [Content-Type=application/octet-stream]...\n",
      "Copying file://scores/Standing_height_AFR_pst_eff_a1_b0.5_phi1e-04_chr19.sscore.vars [Content-Type=application/octet-stream]...\n",
      "Copying file://scores/Standing_height_EUR_pst_eff_a1_b0.5_phi1e-04_chr4.sscore [Content-Type=application/octet-stream]...\n",
      "Copying file://scores/Standing_height_AFR_pst_eff_a1_b0.5_phi1e-04_chr18.sscore [Content-Type=application/octet-stream]...\n",
      "Copying file://scores/Standing_height_AMR_pst_eff_a1_b0.5_phi1e-04_chr19.log [Content-Type=application/octet-stream]...\n",
      "Copying file://scores/Standing_height_EUR_pst_eff_a1_b0.5_phi1e-04_chr8.sscore.vars [Content-Type=application/octet-stream]...\n",
      "Copying file://scores/Standing_height_AFR_pst_eff_a1_b0.5_phi1e-04_chr5.sscore.vars [Content-Type=application/octet-stream]...\n",
      "Copying file://scores/Standing_height_AFR_pst_eff_a1_b0.5_phi1e-04_chr7.sscore [Content-Type=application/octet-stream]...\n",
      "Copying file://scores/Standing_height_AFR_pst_eff_a1_b0.5_phi1e-04_chr16.sscore.vars [Content-Type=application/octet-stream]...\n",
      "Copying file://scores/Standing_height_EUR_pst_eff_a1_b0.5_phi1e-04_chr17.sscore.vars [Content-Type=application/octet-stream]...\n",
      "Copying file://scores/Standing_height_EUR_pst_eff_a1_b0.5_phi1e-04_chr18.log [Content-Type=application/octet-stream]...\n",
      "Copying file://scores/Standing_height_AFR_pst_eff_a1_b0.5_phi1e-04_chr8.log [Content-Type=application/octet-stream]...\n",
      "Copying file://scores/Standing_height_AMR_pst_eff_a1_b0.5_phi1e-04_chr11.sscore [Content-Type=application/octet-stream]...\n",
      "Copying file://scores/Standing_height_EUR_pst_eff_a1_b0.5_phi1e-04_chr19.sscore [Content-Type=application/octet-stream]...\n",
      "Copying file://scores/Standing_height_EUR_pst_eff_a1_b0.5_phi1e-04_chr7.sscore [Content-Type=application/octet-stream]...\n",
      "Copying file://scores/Standing_height_SAS_pst_eff_a1_b0.5_phi1e-04_chr3.log [Content-Type=application/octet-stream]...\n",
      "Copying file://scores/Standing_height_AMR_pst_eff_a1_b0.5_phi1e-04_chr20.sscore.vars [Content-Type=application/octet-stream]...\n",
      "Copying file://scores/Standing_height_EAS_pst_eff_a1_b0.5_phi1e-04_chr18.log [Content-Type=application/octet-stream]...\n",
      "Copying file://scores/Standing_height_SAS_pst_eff_a1_b0.5_phi1e-04_chr19.sscore.vars [Content-Type=application/octet-stream]...\n",
      "Copying file://scores/Standing_height_AFR_pst_eff_a1_b0.5_phi1e-04_chr13.sscore [Content-Type=application/octet-stream]...\n",
      "Copying file://scores/Standing_height_SAS_pst_eff_a1_b0.5_phi1e-04_chr1.sscore [Content-Type=application/octet-stream]...\n",
      "Copying file://scores/Standing_height_AFR_pst_eff_a1_b0.5_phi1e-04_chr14.sscore [Content-Type=application/octet-stream]...\n",
      "Copying file://scores/Standing_height_AFR_pst_eff_a1_b0.5_phi1e-04_chr7.log [Content-Type=application/octet-stream]...\n",
      "Copying file://scores/Standing_height_AMR_pst_eff_a1_b0.5_phi1e-04_chr18.sscore [Content-Type=application/octet-stream]...\n",
      "Copying file://scores/Standing_height_SAS_pst_eff_a1_b0.5_phi1e-04_chr11.sscore [Content-Type=application/octet-stream]...\n",
      "Copying file://scores/Standing_height_EAS_pst_eff_a1_b0.5_phi1e-04_chr21.sscore [Content-Type=application/octet-stream]...\n",
      "Copying file://scores/Standing_height_AFR_pst_eff_a1_b0.5_phi1e-04_chr10.sscore [Content-Type=application/octet-stream]...\n",
      "Copying file://scores/Standing_height_AFR_pst_eff_a1_b0.5_phi1e-04_chr1.sscore.vars [Content-Type=application/octet-stream]...\n",
      "Copying file://scores/Standing_height_AFR_pst_eff_a1_b0.5_phi1e-04_chr14.log [Content-Type=application/octet-stream]...\n",
      "Copying file://scores/Standing_height_EAS_pst_eff_a1_b0.5_phi1e-04_chr2.sscore.vars [Content-Type=application/octet-stream]...\n",
      "Copying file://scores/Standing_height_EAS_pst_eff_a1_b0.5_phi1e-04_chr19.log [Content-Type=application/octet-stream]...\n",
      "Copying file://scores/Standing_height_EUR_pst_eff_a1_b0.5_phi1e-04_chr19.log [Content-Type=application/octet-stream]...\n",
      "Copying file://scores/Standing_height_EUR_pst_eff_a1_b0.5_phi1e-04_chr12.sscore [Content-Type=application/octet-stream]...\n",
      "Copying file://scores/Standing_height_EUR_pst_eff_a1_b0.5_phi1e-04_chr5.log [Content-Type=application/octet-stream]...\n",
      "Copying file://scores/Standing_height_EAS_pst_eff_a1_b0.5_phi1e-04_chr14.sscore [Content-Type=application/octet-stream]...\n",
      "Copying file://scores/Standing_height_AMR_pst_eff_a1_b0.5_phi1e-04_chr10.log [Content-Type=application/octet-stream]...\n",
      "Copying file://scores/Standing_height_AMR_pst_eff_a1_b0.5_phi1e-04_chr13.sscore [Content-Type=application/octet-stream]...\n",
      "Copying file://scores/Standing_height_EAS_pst_eff_a1_b0.5_phi1e-04_chr11.log [Content-Type=application/octet-stream]...\n",
      "Copying file://scores/Standing_height_SAS_pst_eff_a1_b0.5_phi1e-04_chr4.sscore [Content-Type=application/octet-stream]...\n",
      "Copying file://scores/Standing_height_SAS_pst_eff_a1_b0.5_phi1e-04_chr14.sscore [Content-Type=application/octet-stream]...\n",
      "Copying file://scores/Standing_height_SAS_pst_eff_a1_b0.5_phi1e-04_chr10.log [Content-Type=application/octet-stream]...\n",
      "Copying file://scores/Standing_height_EAS_pst_eff_a1_b0.5_phi1e-04_chr9.log [Content-Type=application/octet-stream]...\n",
      "Copying file://scores/Standing_height_AFR_pst_eff_a1_b0.5_phi1e-04_chr8.sscore.vars [Content-Type=application/octet-stream]...\n",
      "Copying file://scores/Standing_height_AFR_pst_eff_a1_b0.5_phi1e-04_chr1.log [Content-Type=application/octet-stream]...\n",
      "Copying file://scores/Standing_height_AMR_pst_eff_a1_b0.5_phi1e-04_chr21.sscore [Content-Type=application/octet-stream]...\n"
     ]
    },
    {
     "name": "stderr",
     "output_type": "stream",
     "text": [
      "Copying file://scores/Standing_height_AFR_pst_eff_a1_b0.5_phi1e-04_chr16.log [Content-Type=application/octet-stream]...\n",
      "Copying file://scores/Standing_height_AMR_pst_eff_a1_b0.5_phi1e-04_chr2.sscore [Content-Type=application/octet-stream]...\n",
      "Copying file://scores/Standing_height_AMR_pst_eff_a1_b0.5_phi1e-04_chr6.log [Content-Type=application/octet-stream]...\n",
      "Copying file://scores/Standing_height_EAS_pst_eff_a1_b0.5_phi1e-04_chr17.log [Content-Type=application/octet-stream]...\n",
      "Copying file://scores/Standing_height_AFR_pst_eff_a1_b0.5_phi1e-04_chr4.sscore [Content-Type=application/octet-stream]...\n",
      "Copying file://scores/Standing_height_EUR_pst_eff_a1_b0.5_phi1e-04_chr16.sscore [Content-Type=application/octet-stream]...\n",
      "Copying file://scores/Standing_height_SAS_pst_eff_a1_b0.5_phi1e-04_chr18.sscore [Content-Type=application/octet-stream]...\n",
      "Copying file://scores/Standing_height_AFR_pst_eff_a1_b0.5_phi1e-04_chr19.sscore [Content-Type=application/octet-stream]...\n",
      "Copying file://scores/Standing_height_AFR_pst_eff_a1_b0.5_phi1e-04_chr9.log [Content-Type=application/octet-stream]...\n",
      "Copying file://scores/Standing_height_EAS_pst_eff_a1_b0.5_phi1e-04_chr8.sscore.vars [Content-Type=application/octet-stream]...\n",
      "Copying file://scores/Standing_height_EUR_pst_eff_a1_b0.5_phi1e-04_chr12.log [Content-Type=application/octet-stream]...\n",
      "Copying file://scores/Standing_height_AMR_pst_eff_a1_b0.5_phi1e-02_chr2.log [Content-Type=application/octet-stream]...\n",
      "Copying file://scores/Standing_height_SAS_pst_eff_a1_b0.5_phi1e-04_chr11.sscore.vars [Content-Type=application/octet-stream]...\n",
      "Copying file://scores/Standing_height_AFR_pst_eff_a1_b0.5_phi1e-02_chr1.log [Content-Type=application/octet-stream]...\n",
      "Copying file://scores/Standing_height_AMR_pst_eff_a1_b0.5_phi1e-04_chr10.sscore [Content-Type=application/octet-stream]...\n",
      "Copying file://scores/Standing_height_SAS_pst_eff_a1_b0.5_phi1e-04_chr16.sscore [Content-Type=application/octet-stream]...\n",
      "Copying file://scores/Standing_height_EAS_pst_eff_a1_b0.5_phi1e-04_chr1.sscore.vars [Content-Type=application/octet-stream]...\n",
      "Copying file://scores/Standing_height_SAS_pst_eff_a1_b0.5_phi1e-04_chr20.sscore.vars [Content-Type=application/octet-stream]...\n",
      "Copying file://scores/Standing_height_AMR_pst_eff_a1_b0.5_phi1e-04_chr20.sscore [Content-Type=application/octet-stream]...\n",
      "Copying file://scores/Standing_height_AMR_pst_eff_a1_b0.5_phi1e-04_chr14.sscore.vars [Content-Type=application/octet-stream]...\n",
      "Copying file://scores/Standing_height_AFR_pst_eff_a1_b0.5_phi1e-04_chr17.sscore [Content-Type=application/octet-stream]...\n",
      "Copying file://scores/Standing_height_EAS_pst_eff_a1_b0.5_phi1e-04_chr1.sscore [Content-Type=application/octet-stream]...\n",
      "Copying file://scores/Standing_height_SAS_pst_eff_a1_b0.5_phi1e-04_chr7.sscore.vars [Content-Type=application/octet-stream]...\n",
      "Copying file://scores/Standing_height_EAS_pst_eff_a1_b0.5_phi1e-04_chr2.sscore [Content-Type=application/octet-stream]...\n",
      "Copying file://scores/Standing_height_EAS_pst_eff_a1_b0.5_phi1e-04_chr3.sscore [Content-Type=application/octet-stream]...\n",
      "Copying file://scores/Standing_height_EAS_pst_eff_a1_b0.5_phi1e-04_chr16.sscore [Content-Type=application/octet-stream]...\n",
      "Copying file://scores/Standing_height_AFR_pst_eff_a1_b0.5_phi1e-04_chr11.log [Content-Type=application/octet-stream]...\n",
      "Copying file://scores/Standing_height_AFR_pst_eff_a1_b0.5_phi1e-04_chr3.sscore.vars [Content-Type=application/octet-stream]...\n",
      "Copying file://scores/Standing_height_EUR_pst_eff_a1_b0.5_phi1e-04_chr9.sscore.vars [Content-Type=application/octet-stream]...\n",
      "Copying file://scores/Standing_height_EAS_pst_eff_a1_b0.5_phi1e-04_chr12.sscore.vars [Content-Type=application/octet-stream]...\n",
      "Copying file://scores/Standing_height_EUR_pst_eff_a1_b0.5_phi1e-04_chr22.sscore.vars [Content-Type=application/octet-stream]...\n",
      "Copying file://scores/Standing_height_SAS_pst_eff_a1_b0.5_phi1e-04_chr6.log [Content-Type=application/octet-stream]...\n",
      "Copying file://scores/Standing_height_EUR_pst_eff_a1_b0.5_phi1e-04_chr20.sscore.vars [Content-Type=application/octet-stream]...\n",
      "Copying file://scores/Standing_height_EUR_pst_eff_a1_b0.5_phi1e-04_chr20.log [Content-Type=application/octet-stream]...\n",
      "Copying file://scores/Standing_height_AMR_pst_eff_a1_b0.5_phi1e-04_chr11.log [Content-Type=application/octet-stream]...\n",
      "Copying file://scores/Standing_height_EUR_pst_eff_a1_b0.5_phi1e-02_chr1.log [Content-Type=application/octet-stream]...\n",
      "Copying file://scores/Standing_height_AMR_pst_eff_a1_b0.5_phi1e-04_chr3.sscore [Content-Type=application/octet-stream]...\n",
      "Copying file://scores/Standing_height_AMR_pst_eff_a1_b0.5_phi1e-04_chr8.sscore.vars [Content-Type=application/octet-stream]...\n",
      "Copying file://scores/Standing_height_EAS_pst_eff_a1_b0.5_phi1e-04_chr9.sscore [Content-Type=application/octet-stream]...\n",
      "Copying file://scores/Standing_height_AMR_pst_eff_a1_b0.5_phi1e-04_chr16.sscore.vars [Content-Type=application/octet-stream]...\n",
      "Copying file://scores/Standing_height_EAS_pst_eff_a1_b0.5_phi1e-04_chr2.log [Content-Type=application/octet-stream]...\n",
      "Copying file://scores/Standing_height_SAS_pst_eff_a1_b0.5_phi1e-04_chr18.sscore.vars [Content-Type=application/octet-stream]...\n",
      "Copying file://scores/Standing_height_EUR_pst_eff_a1_b0.5_phi1e-04_chr4.log [Content-Type=application/octet-stream]...\n",
      "Copying file://scores/Standing_height_EUR_pst_eff_a1_b0.5_phi1e-04_chr21.log [Content-Type=application/octet-stream]...\n",
      "Copying file://scores/Standing_height_SAS_pst_eff_a1_b0.5_phi1e-04_chr19.log [Content-Type=application/octet-stream]...\n",
      "Copying file://scores/Standing_height_AFR_pst_eff_a1_b0.5_phi1e-04_chr21.sscore.vars [Content-Type=application/octet-stream]...\n",
      "Copying file://scores/Standing_height_AMR_pst_eff_a1_b0.5_phi1e-04_chr13.log [Content-Type=application/octet-stream]...\n",
      "Copying file://scores/Standing_height_AFR_pst_eff_a1_b0.5_phi1e-04_chr20.sscore.vars [Content-Type=application/octet-stream]...\n",
      "Copying file://scores/Standing_height_AMR_pst_eff_a1_b0.5_phi1e-04_chr3.sscore.vars [Content-Type=application/octet-stream]...\n",
      "Copying file://scores/Standing_height_AMR_pst_eff_a1_b0.5_phi1e-04_chr14.log [Content-Type=application/octet-stream]...\n",
      "Copying file://scores/Standing_height_SAS_pst_eff_a1_b0.5_phi1e-02_chr3.log [Content-Type=application/octet-stream]...\n",
      "Copying file://scores/Standing_height_AFR_pst_eff_a1_b0.5_phi1e-04_chr4.log [Content-Type=application/octet-stream]...\n",
      "Copying file://scores/Standing_height_SAS_pst_eff_a1_b0.5_phi1e-02_chr1.log [Content-Type=application/octet-stream]...\n",
      "Copying file://scores/Standing_height_SAS_pst_eff_a1_b0.5_phi1e-04_chr21.sscore [Content-Type=application/octet-stream]...\n",
      "Copying file://scores/Standing_height_SAS_pst_eff_a1_b0.5_phi1e-04_chr17.sscore [Content-Type=application/octet-stream]...\n",
      "Copying file://scores/Standing_height_AMR_pst_eff_a1_b0.5_phi1e-02_chr3.log [Content-Type=application/octet-stream]...\n",
      "Copying file://scores/Standing_height_AMR_pst_eff_a1_b0.5_phi1e-04_chr5.sscore [Content-Type=application/octet-stream]...\n",
      "Copying file://scores/Standing_height_EUR_pst_eff_a1_b0.5_phi1e-04_chr15.sscore [Content-Type=application/octet-stream]...\n",
      "Copying file://scores/Standing_height_AMR_pst_eff_a1_b0.5_phi1e-04_chr13.sscore.vars [Content-Type=application/octet-stream]...\n",
      "Copying file://scores/Standing_height_SAS_pst_eff_a1_b0.5_phi1e-04_chr15.sscore [Content-Type=application/octet-stream]...\n",
      "Copying file://scores/Standing_height_AMR_pst_eff_a1_b0.5_phi1e-04_chr1.sscore [Content-Type=application/octet-stream]...\n",
      "Copying file://scores/Standing_height_EUR_pst_eff_a1_b0.5_phi1e-04_chr1.sscore.vars [Content-Type=application/octet-stream]...\n",
      "Copying file://scores/Standing_height_EAS_pst_eff_a1_b0.5_phi1e-04_chr5.log [Content-Type=application/octet-stream]...\n",
      "Copying file://scores/Standing_height_EAS_pst_eff_a1_b0.5_phi1e-04_chr13.sscore.vars [Content-Type=application/octet-stream]...\n",
      "Copying file://scores/Standing_height_AFR_pst_eff_a1_b0.5_phi1e-04_chr13.log [Content-Type=application/octet-stream]...\n",
      "Copying file://scores/Standing_height_AFR_pst_eff_a1_b0.5_phi1e-04_chr2.sscore [Content-Type=application/octet-stream]...\n"
     ]
    },
    {
     "name": "stderr",
     "output_type": "stream",
     "text": [
      "Copying file://scores/Standing_height_AMR_pst_eff_a1_b0.5_phi1e-04_chr21.sscore.vars [Content-Type=application/octet-stream]...\n",
      "Copying file://scores/Standing_height_AFR_pst_eff_a1_b0.5_phi1e-04_chr20.sscore [Content-Type=application/octet-stream]...\n",
      "Copying file://scores/Standing_height_AFR_pst_eff_a1_b0.5_phi1e-04_chr6.log [Content-Type=application/octet-stream]...\n",
      "Copying file://scores/Standing_height_SAS_pst_eff_a1_b0.5_phi1e-04_chr12.sscore.vars [Content-Type=application/octet-stream]...\n",
      "Copying file://scores/Standing_height_SAS_pst_eff_a1_b0.5_phi1e-04_chr8.sscore.vars [Content-Type=application/octet-stream]...\n",
      "Copying file://scores/Standing_height_SAS_pst_eff_a1_b0.5_phi1e-04_chr11.log [Content-Type=application/octet-stream]...\n",
      "Copying file://scores/Standing_height_AFR_pst_eff_a1_b0.5_phi1e-04_chr15.log [Content-Type=application/octet-stream]...\n",
      "Copying file://scores/Standing_height_AMR_pst_eff_a1_b0.5_phi1e-04_chr12.log [Content-Type=application/octet-stream]...\n",
      "Copying file://scores/Standing_height_AFR_pst_eff_a1_b0.5_phi1e-04_chr19.log [Content-Type=application/octet-stream]...\n",
      "Copying file://scores/Standing_height_AFR_pst_eff_a1_b0.5_phi1e-04_chr18.sscore.vars [Content-Type=application/octet-stream]...\n",
      "Copying file://scores/Standing_height_AFR_pst_eff_a1_b0.5_phi1e-04_chr6.sscore [Content-Type=application/octet-stream]...\n",
      "Copying file://scores/Standing_height_EUR_pst_eff_a1_b0.5_phi1e-04_chr22.sscore [Content-Type=application/octet-stream]...\n",
      "Copying file://scores/Standing_height_AFR_pst_eff_a1_b0.5_phi1e-04_chr4.sscore.vars [Content-Type=application/octet-stream]...\n",
      "| [345/345 files][888.8 MiB/888.8 MiB] 100% Done   1.8 MiB/s ETA 00:00:00       \n",
      "Operation completed over 345 objects/888.8 MiB.                                  \n"
     ]
    },
    {
     "data": {
      "text/plain": [
       "0"
      ]
     },
     "execution_count": 2,
     "metadata": {},
     "output_type": "execute_result"
    }
   ],
   "source": [
    "#add scores directory to bucket\n",
    "\n",
    "# This code saves your directory in a \"data\" folder in Google Bucket\n",
    "\n",
    "# Replace with THE NAME OF YOUR DIRECTORY\n",
    "name_of_dir_in_workspace = 'scores'\n",
    "\n",
    "# get the bucket name\n",
    "my_bucket = os.getenv('WORKSPACE_BUCKET')\n",
    "\n",
    "# copy dir file to the bucket\n",
    "os.system(f\"gsutil -m cp -r '{name_of_dir_in_workspace}' {my_bucket}/data/\")"
   ]
  },
  {
   "cell_type": "code",
   "execution_count": 3,
   "metadata": {},
   "outputs": [
    {
     "data": {
      "text/plain": [
       "'0:16:08.834997'"
      ]
     },
     "execution_count": 3,
     "metadata": {},
     "output_type": "execute_result"
    }
   ],
   "source": [
    "#how long did it take?\n",
    "stop = datetime.now()\n",
    "str(stop-start)"
   ]
  },
  {
   "cell_type": "code",
   "execution_count": null,
   "metadata": {},
   "outputs": [],
   "source": []
  }
 ],
 "metadata": {
  "kernelspec": {
   "display_name": "Python 3",
   "language": "python",
   "name": "python3"
  },
  "language_info": {
   "codemirror_mode": {
    "name": "ipython",
    "version": 3
   },
   "file_extension": ".py",
   "mimetype": "text/x-python",
   "name": "python",
   "nbconvert_exporter": "python",
   "pygments_lexer": "ipython3",
   "version": "3.10.12"
  },
  "toc": {
   "base_numbering": 1,
   "nav_menu": {},
   "number_sections": true,
   "sideBar": true,
   "skip_h1_title": false,
   "title_cell": "Table of Contents",
   "title_sidebar": "Contents",
   "toc_cell": false,
   "toc_position": {},
   "toc_section_display": true,
   "toc_window_display": false
  }
 },
 "nbformat": 4,
 "nbformat_minor": 2
}
